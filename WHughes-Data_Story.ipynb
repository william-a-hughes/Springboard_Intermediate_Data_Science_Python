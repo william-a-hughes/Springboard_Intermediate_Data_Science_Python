{
 "cells": [
  {
   "cell_type": "code",
   "execution_count": 5,
   "metadata": {
    "collapsed": true
   },
   "outputs": [],
   "source": [
    "import pandas as pd\n",
    "import numpy as np\n",
    "import matplotlib.pyplot as plt\n",
    "%matplotlib inline"
   ]
  },
  {
   "cell_type": "code",
   "execution_count": 2,
   "metadata": {
    "collapsed": false
   },
   "outputs": [
    {
     "name": "stdout",
     "output_type": "stream",
     "text": [
      "C:\\Users\\William\\Desktop\\Springboard Course\n"
     ]
    }
   ],
   "source": [
    "cd Desktop\\Springboard Course"
   ]
  },
  {
   "cell_type": "code",
   "execution_count": 3,
   "metadata": {
    "collapsed": true
   },
   "outputs": [],
   "source": [
    "loan_subset = pd.read_csv('loan_subset_q1.csv')"
   ]
  },
  {
   "cell_type": "code",
   "execution_count": 10,
   "metadata": {
    "collapsed": false
   },
   "outputs": [
    {
     "name": "stdout",
     "output_type": "stream",
     "text": [
      "Index(['Unnamed: 0', 'loan_amnt', 'int_rate', 'grade', 'emp_length',\n",
      "       'home_ownership', 'annual_inc', 'verification_status', 'loan_status',\n",
      "       'purpose', 'zip_code', 'addr_state', 'num_bc_tl', 'num_il_tl',\n",
      "       'num_rev_accts', 'dti', 'delinq_2yrs', 'pub_rec_bankruptcies',\n",
      "       'all_util', 'tax_liens', 'num_accts_ever_120_pd', 'pct_tl_nvr_dlq',\n",
      "       'percent_bc_gt_75', 'inq_last_12m', 'mo_sin_rcnt_tl', 'int_rate_mod',\n",
      "       'emp_length_mod', 'percent_bc_gt_75_mod', 'loan_status_mod',\n",
      "       'verification_status_mod', 'delinq_2yrs_ever', 'bankruptcies_any',\n",
      "       'accts_ever_120_pd_any', 'tax_liens_any'],\n",
      "      dtype='object')\n"
     ]
    }
   ],
   "source": [
    "print(loan_subset.columns)"
   ]
  },
  {
   "cell_type": "code",
   "execution_count": 63,
   "metadata": {
    "collapsed": false
   },
   "outputs": [
    {
     "name": "stdout",
     "output_type": "stream",
     "text": [
      "bankruptcies_any\n",
      "False    2.427147\n",
      "True     2.522707\n",
      "Name: int_rate_mod, dtype: float64\n"
     ]
    }
   ],
   "source": [
    "print(loan_subset.groupby('bankruptcies_any')['int_rate_mod'].mean())"
   ]
  },
  {
   "cell_type": "code",
   "execution_count": 64,
   "metadata": {
    "collapsed": false
   },
   "outputs": [
    {
     "name": "stdout",
     "output_type": "stream",
     "text": [
      "tax_liens_any\n",
      "False    2.436147\n",
      "True     2.498500\n",
      "Name: int_rate_mod, dtype: float64\n"
     ]
    }
   ],
   "source": [
    "print(loan_subset.groupby('tax_liens_any')['int_rate_mod'].mean())"
   ]
  },
  {
   "cell_type": "code",
   "execution_count": 65,
   "metadata": {
    "collapsed": false
   },
   "outputs": [
    {
     "name": "stdout",
     "output_type": "stream",
     "text": [
      "accts_ever_120_pd_any\n",
      "False    2.423686\n",
      "True     2.486011\n",
      "Name: int_rate_mod, dtype: float64\n"
     ]
    }
   ],
   "source": [
    "print(loan_subset.groupby('accts_ever_120_pd_any')['int_rate_mod'].mean())"
   ]
  },
  {
   "cell_type": "code",
   "execution_count": 71,
   "metadata": {
    "collapsed": false
   },
   "outputs": [
    {
     "name": "stdout",
     "output_type": "stream",
     "text": [
      "emp_length_mod\n",
      "0     12231.885606\n",
      "1     14244.382570\n",
      "2     14281.465922\n",
      "3     14453.353150\n",
      "4     14726.279103\n",
      "5     15025.465472\n",
      "6     14929.366079\n",
      "7     15054.163503\n",
      "8     15433.830737\n",
      "9     15343.071141\n",
      "10    16233.417402\n",
      "Name: loan_amnt, dtype: float64\n"
     ]
    }
   ],
   "source": [
    "print(loan_subset.groupby('emp_length_mod')['loan_amnt'].mean())"
   ]
  },
  {
   "cell_type": "code",
   "execution_count": 72,
   "metadata": {
    "collapsed": false
   },
   "outputs": [
    {
     "name": "stdout",
     "output_type": "stream",
     "text": [
      "purpose\n",
      "car                    9686.378877\n",
      "credit_card           15432.495743\n",
      "debt_consolidation    15834.285455\n",
      "home_improvement      14164.365493\n",
      "house                 15146.292135\n",
      "major_purchase        12442.427184\n",
      "medical                9181.422018\n",
      "moving                 8347.320117\n",
      "other                 10306.233008\n",
      "renewable_energy      11295.608108\n",
      "small_business        15482.709854\n",
      "vacation               6954.420732\n",
      "Name: loan_amnt, dtype: float64\n"
     ]
    }
   ],
   "source": [
    "print(loan_subset.groupby('purpose')['loan_amnt'].mean())"
   ]
  },
  {
   "cell_type": "code",
   "execution_count": 67,
   "metadata": {
    "collapsed": false
   },
   "outputs": [
    {
     "name": "stdout",
     "output_type": "stream",
     "text": [
      "bankruptcies_any\n",
      "False    15360.858286\n",
      "True     12699.111772\n",
      "Name: loan_amnt, dtype: float64\n"
     ]
    }
   ],
   "source": [
    "print(loan_subset.groupby('bankruptcies_any')['loan_amnt'].mean())"
   ]
  },
  {
   "cell_type": "code",
   "execution_count": 68,
   "metadata": {
    "collapsed": false
   },
   "outputs": [
    {
     "name": "stdout",
     "output_type": "stream",
     "text": [
      "annual_inc\n",
      "6168.0      2.615204\n",
      "6408.0      2.943913\n",
      "7000.0      2.380670\n",
      "7100.0      3.182627\n",
      "7111.0      3.111291\n",
      "7200.0      3.141130\n",
      "7261.0      3.111291\n",
      "7605.0      2.282382\n",
      "7900.0      2.564180\n",
      "8000.0      2.728809\n",
      "8400.0      2.484073\n",
      "8500.0      2.896650\n",
      "8600.0      2.943913\n",
      "8796.0      2.841480\n",
      "8797.0      3.111291\n",
      "8800.0      3.067122\n",
      "8890.0      2.848971\n",
      "8904.0      2.564180\n",
      "8938.0      2.888704\n",
      "8960.0      2.638343\n",
      "8988.0      2.971952\n",
      "9000.0      2.665687\n",
      "9024.0      2.374906\n",
      "9036.0      2.940118\n",
      "9108.0      3.188004\n",
      "9500.0      3.032546\n",
      "9600.0      2.995232\n",
      "9720.0      2.943913\n",
      "9732.0      3.053057\n",
      "9780.0      2.790551\n",
      "              ...   \n",
      "161250.0    1.671473\n",
      "161448.0    2.439735\n",
      "161500.0    2.439735\n",
      "161789.0    2.439735\n",
      "162000.0    2.296715\n",
      "162080.0    2.555676\n",
      "162240.0    2.277267\n",
      "162250.0    2.564180\n",
      "162425.0    2.728506\n",
      "162452.0    2.484073\n",
      "162500.0    1.977452\n",
      "162652.0    2.564180\n",
      "162749.5    2.808800\n",
      "162800.0    2.790551\n",
      "162900.0    2.374906\n",
      "163000.0    2.335291\n",
      "163300.0    2.277267\n",
      "163358.0    1.941615\n",
      "163472.0    1.941615\n",
      "163500.0    2.615204\n",
      "163696.0    2.127041\n",
      "163700.0    2.439735\n",
      "163868.0    2.065596\n",
      "164000.0    2.372880\n",
      "164153.0    2.564180\n",
      "164355.0    2.214846\n",
      "164425.0    2.484073\n",
      "164652.0    3.089678\n",
      "164800.0    1.671473\n",
      "165000.0    2.343616\n",
      "Name: int_rate_mod, dtype: float64\n"
     ]
    }
   ],
   "source": [
    "print(loan_subset.groupby('annual_inc')['int_rate_mod'].mean())"
   ]
  },
  {
   "cell_type": "code",
   "execution_count": null,
   "metadata": {
    "collapsed": true
   },
   "outputs": [],
   "source": []
  },
  {
   "cell_type": "code",
   "execution_count": 69,
   "metadata": {
    "collapsed": false
   },
   "outputs": [
    {
     "name": "stdout",
     "output_type": "stream",
     "text": [
      "annual_inc\n",
      "6168.0       2200.000000\n",
      "6408.0       1500.000000\n",
      "7000.0       1300.000000\n",
      "7100.0       2125.000000\n",
      "7111.0       2550.000000\n",
      "7200.0       2150.000000\n",
      "7261.0       2000.000000\n",
      "7605.0       3600.000000\n",
      "7900.0       2150.000000\n",
      "8000.0       5100.000000\n",
      "8400.0      12000.000000\n",
      "8500.0       3158.333333\n",
      "8600.0       2575.000000\n",
      "8796.0       2616.666667\n",
      "8797.0       2775.000000\n",
      "8800.0       3850.000000\n",
      "8890.0       3200.000000\n",
      "8904.0       1500.000000\n",
      "8938.0       4450.000000\n",
      "8960.0       2000.000000\n",
      "8988.0       4475.000000\n",
      "9000.0       2884.375000\n",
      "9024.0       2000.000000\n",
      "9036.0       3253.125000\n",
      "9108.0       2725.000000\n",
      "9500.0       2850.000000\n",
      "9600.0       3937.500000\n",
      "9720.0       4850.000000\n",
      "9732.0       3875.000000\n",
      "9780.0       3000.000000\n",
      "                ...     \n",
      "161250.0    15000.000000\n",
      "161448.0    14000.000000\n",
      "161500.0    35000.000000\n",
      "161789.0    30000.000000\n",
      "162000.0    20145.192308\n",
      "162080.0    35000.000000\n",
      "162240.0    35000.000000\n",
      "162250.0    35000.000000\n",
      "162425.0     5000.000000\n",
      "162452.0    16800.000000\n",
      "162500.0    26000.000000\n",
      "162652.0    35000.000000\n",
      "162749.5    35000.000000\n",
      "162800.0    35000.000000\n",
      "162900.0     4000.000000\n",
      "163000.0    21679.032258\n",
      "163300.0    35000.000000\n",
      "163358.0    18000.000000\n",
      "163472.0    35000.000000\n",
      "163500.0    28775.000000\n",
      "163696.0    25000.000000\n",
      "163700.0    35000.000000\n",
      "163868.0    35000.000000\n",
      "164000.0    24132.258065\n",
      "164153.0    28000.000000\n",
      "164355.0    18000.000000\n",
      "164425.0    35000.000000\n",
      "164652.0    32000.000000\n",
      "164800.0    12000.000000\n",
      "165000.0    23363.741135\n",
      "Name: loan_amnt, dtype: float64\n"
     ]
    }
   ],
   "source": [
    "print(loan_subset.groupby('annual_inc')['loan_amnt'].mean())"
   ]
  }
 ],
 "metadata": {
  "kernelspec": {
   "display_name": "Python 3",
   "language": "python",
   "name": "python3"
  },
  "language_info": {
   "codemirror_mode": {
    "name": "ipython",
    "version": 3
   },
   "file_extension": ".py",
   "mimetype": "text/x-python",
   "name": "python",
   "nbconvert_exporter": "python",
   "pygments_lexer": "ipython3",
   "version": "3.6.0"
  }
 },
 "nbformat": 4,
 "nbformat_minor": 2
}
