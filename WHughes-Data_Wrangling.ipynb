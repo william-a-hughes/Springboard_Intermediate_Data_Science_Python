{
 "cells": [
  {
   "cell_type": "markdown",
   "metadata": {
    "collapsed": true
   },
   "source": [
    "# Data Wrangling-Lending Club Data 2015Q1-2017Q4 #"
   ]
  },
  {
   "cell_type": "markdown",
   "metadata": {},
   "source": [
    "##The purpose of this exercise is to inspect and clean the lending club data so that it is ready for my capstone project ##"
   ]
  },
  {
   "cell_type": "code",
   "execution_count": null,
   "metadata": {
    "collapsed": true
   },
   "outputs": [],
   "source": [
    "#I WILL TYPE UP MY REPORT HERE, USING THE COMMENTS ALREADY WRITTEN IN THIS NOTEBOOK. I WILL COLLATE THEM\n",
    "#change\n",
    "#let's call .info() on all the columns in order to find null or mostly-null columns\n",
    "loan16q1.iloc[:,0:100].info()\n",
    "loan16q1.iloc[:,101:len(loan16q1.columns)].info()\n",
    "#id, member_id, url, desc, revol_bal_joint, sec_app_earliest_cr_line, sec_app_inq_last_6mths, sec_app_mort_acc,\n",
    "#sec_app_open_acc, sec_app_revol_util, sec_app_open_act_il, sec_app_num_rev_accts,sec_app_chargeoff_within_12_mths, \n",
    "#sec_app_collections_12_mths_ex_med, and sec_app_mths_since_last_major_derog are all entirely null \n",
    "#or almost entirely null values. Let's remove these columns.\n",
    "#annual_inc_joint, dti_joint, verification_status_joint columns have at most 2661 non-null values.    \n",
    "#hardship_type through hardship_last_payment_amount columns have at most 1009 non-null values.\n",
    "\n",
    "#let's drop the null columns. these columns have zero or very few actual values\n",
    "coldrplist = ['id', 'member_id', 'url', 'desc', 'revol_bal_joint', 'sec_app_earliest_cr_line', 'sec_app_inq_last_6mths', 'sec_app_mort_acc',\n",
    "'sec_app_open_acc', 'sec_app_revol_util', 'sec_app_open_act_il', 'sec_app_num_rev_accts','sec_app_chargeoff_within_12_mths', \n",
    "'sec_app_collections_12_mths_ex_med', 'sec_app_mths_since_last_major_derog']\n",
    "\n",
    "loan16q1.drop(loan16q1.loc[:, coldrplist], inplace=True, axis=1)\n",
    "loan16q1 = loan16q1.drop(loan16q1.index[-2:]) #these rows are making all columns display NaN as a unique value,\n",
    "#so we should remove them\n",
    "\n",
    "#there are too many columns to analyze. we need to narrow down the dataframe.\n",
    "#let's ascertain the variables we will work with.\n",
    "\n",
    "#now we narrow down the dataframe to a manageable subset of about 25 columns of interest. loan_status will\n",
    "#be our target variable. the other variables (such as grade, annual_inc, etc.) all seem to be relevant and \n",
    "#useful for predicting loan_status\n",
    "var_of_interest = ['loan_amnt','int_rate','grade','emp_length','home_ownership',\n",
    "'annual_inc','verification_status','loan_status','purpose','zip_code','addr_state','num_bc_tl',\n",
    "'num_il_tl','num_rev_accts','dti','delinq_2yrs','pub_rec_bankruptcies','all_util','tax_liens',\n",
    "'num_accts_ever_120_pd','pct_tl_nvr_dlq','percent_bc_gt_75','inq_last_12m','mo_sin_rcnt_tl']\n",
    "\n",
    "loan_subset = loan16q1.loc[:,var_of_interest]\n",
    "\n",
    "print(loan_subset.head())\n",
    "\n",
    "#int_rate was loaded in as an object type variable when it should be float type. let's write some code here to remove \n",
    "#the '%' symbol from the int_rate column and change the column type from object to float type\n",
    "\n",
    "# '%' is in the last position for each row, so we can access it this way\n",
    "loan_subset['int_rate'] = loan_subset['int_rate'].str[:-1] \n",
    "\n",
    "#now that the percent sign is gone, we can convert the column to float\n",
    "loan_subset['int_rate'] = loan_subset['int_rate'].astype('float')\n",
    "\n",
    "print(loan_subset['int_rate'].head())\n",
    "print(loan_subset[['int_rate']].describe()) #int_rate is now of float type\n",
    "\n",
    "#printing the dataframe also reveals that emp_length is represented as a categorical rather than numerical variable\n",
    "#it would be more intuitive to convert these categories to their associated integer values\n",
    "loan_subset['emp_length'].value_counts() #unique category value counts before\n",
    "\n",
    "#we will replace n/a values for emp_length with 'N/A'\n",
    "\n",
    "#replace emp_length na's with 'N/A' based on emp_length == 'n/a'\n",
    "loan_subset.loc[loan_subset['emp_length'] == 'n/a', 'emp_length'] = 'N/A'\n",
    "\n",
    "print(loan_subset['emp_length'].value_counts())\n",
    "\n",
    "\n",
    "#Now let's convert the emp_length categories into numerical data. For example, 10+ years = 10, 2 years = 2, etc.\n",
    "#In addition, we will convert 'N/A' values to zero. Through both of these steps we lose some information because N/A \n",
    "#may not necessarily equal zero, '< 1 year' never equals 1 (although it will frequently be close),\n",
    "#and '10+ years' won't always equal 10. What we are doing here is called 'censoring', i.e., data points are above (10 years)\n",
    "#or below (1 year) a certain value, but it is unknown by how much.\n",
    "loan_subset.replace('N/A', np.nan,inplace=True)\n",
    "loan_subset.emp_length.fillna(value=0,inplace=True)\n",
    "loan_subset['emp_length'].replace(to_replace='[^0-9]+', value='', inplace=True, regex=True)\n",
    "loan_subset['emp_length'] = loan_subset['emp_length'].astype(int)\n",
    "\n",
    "\n",
    "print(loan_subset['emp_length'].value_counts())\n",
    "\n",
    "#as can be seen in the earlier printout of loan16q1.info(), there are numerous NaN values.\n",
    "#now we begin the process of NaN removal \n",
    "\n",
    "#get amount of nan values in each column\n",
    "print(loan_subset.isnull().sum())\n",
    "\n",
    "#there are 1129 NaN values for percent_bc_gt_75. however, this can explained by the fact that some\n",
    "#borrowers probably don't have bankcard accounts. if rows with NaN for percent_bc_gt_75 also display the value 0 \n",
    "#for number of bankcard accounts (num_bc_tl), then we should replace NaN with the value 0 for percent_bc_gt_75.\n",
    "print(loan_subset[(loan_subset['percent_bc_gt_75'].isnull()) & (loan_subset['num_bc_tl'] == 0)])\n",
    "\n",
    "#there are 241 rows that meet this condition. we should therefore relabel NaN as 0 for these instances of percent_bc_gt_75\n",
    "\n",
    "print(loan_subset.isnull().sum()) #we have much fewer NaN values now. let's remove the all the rows with the remaining NaN values\n",
    "print(loan_subset.count()) #as can be seen, the total amount of rows with NaN values (1034) is less than 1% of the entire row \n",
    "#count 133887. it will likely not result in a huge loss of information if we delete these rows entirely. we will also plot \n",
    "#describe() for selected variables in order to see if mean,min,max, etc. have changed significantly as a result of row removal.\n",
    "\n",
    "\n",
    "#let's print out descriptive statistics for selected columns to see if there is any significant effect on the \n",
    "#statistics as a result of removing all the remaining rows with NaN values. These are the stats before NaN removal:\n",
    "#let's create a sublist of the selected columns\n",
    "\n",
    "#example of how to remove all nan values from a column\n",
    "#x = loan16q1[['settlement_date']]\n",
    "#y= x.dropna(how = 'any')\n",
    "#print(y)\n",
    "\n",
    "#loop through loan_subset using var_of_interest variable list to determine which columns have nan values.\n",
    "#we will drop all remaining rows with NaN values from the entire loan_subset dataframe instead of replacing\n",
    "#the NaNs with  alternative values\n",
    "\n",
    "#now we will print out descriptive statistics for selected columns to see if there is any significant effect on the \n",
    "#statistics as a result of removing all the remaining rows with NaN values. These are the stats after NaN removal:\n",
    "#let's create a sublist of the selected columns\n",
    "\n",
    "var_sublist_after = ['loan_amnt','int_rate','grade','annual_inc','loan_status','purpose','dti','delinq_2yrs','pub_rec_bankruptcies',\n",
    "'all_util','num_accts_ever_120_pd','percent_bc_gt_75']\n",
    "\n",
    "for col in var_sublist_after:\n",
    "    print(loan_subset[[col]].describe())\n",
    "    \n",
    "#a review of the descriptive statistics for the selected columns before and after NaN row removal reveals little change in the\n",
    "#mean,std, min, etc. measures. the only real noticeable difference is that minimum value for annual_inc is now $200 instead of 0.\n",
    "#in the context of such a large dataset that includes large income values into the millions of dollars,\n",
    "#this is an inconsequential change.\n",
    "\n",
    "\n",
    "#let's plot histograms of all the numerical variables to inspect for possible problematic outliers\n",
    "non_categorical_vars =['loan_amnt','int_rate','annual_inc','emp_length','dti','delinq_2yrs','pub_rec_bankruptcies',\n",
    "'all_util','num_accts_ever_120_pd','percent_bc_gt_75','num_bc_tl','num_il_tl','num_rev_accts','tax_liens','pct_tl_nvr_dlq',\n",
    "'inq_last_12m','mo_sin_rcnt_tl']\n",
    "\n",
    "\n",
    "for i in non_categorical_vars:\n",
    "    print(str(i))\n",
    "    print(loan_subset[i].plot(kind = 'hist'))\n",
    "    plt.show()\n",
    "\n",
    "    \n",
    "\n",
    "#through inspection of the histograms in addition to descriptive statistics provided in the previous cell, it is\n",
    "#obvious that outliers are present for most of the variables. However, these outliers don't appear to be a result\n",
    "#of data entry error, but rather as a result of random variation. For example, annual income has a large outlier \n",
    "#for the maximum value, but that is logical because some people have large annual incomes. Moreover, in spite of\n",
    "#these outliers, the median and mean values for all of the variables track closely together, indicating that these\n",
    "#large values don't distort the central tendency that much. It is important to note however, that virtually of the\n",
    "#distributions are positively skewed; this is due to the fact that none of these variables can ever be less than zero.\n",
    "#for example, annual income, number of accounts 120 past due, number of bankruptcies, etc. can never be negative.\n",
    "#In addition, we are dealing with a lot of imbalanced data; there are generally going to be many more zero values than\n",
    "#values above zero for variables like pub_rec_bankruptcies, num_accts_ever_120_pd, delinq_2yrs, tax_liens\n",
    "#as these are generally rare events.\n",
    "    \n",
    "#upon review of each column, it appears that more changes are needed.\n",
    "#zip_code has too many unique values to work with, and dti has a negative minimum value.\n",
    "# We will group zip_code into regional categories by the first digit (7 = southwest,\n",
    "#0 = northeast, etc.), and remove the negative value from dti.\n",
    "\n",
    "\n",
    "\n",
    "\n",
    "\n",
    "\n"
   ]
  },
  {
   "cell_type": "code",
   "execution_count": 1,
   "metadata": {
    "collapsed": true
   },
   "outputs": [],
   "source": [
    "import numpy as np\n",
    "import pandas as pd\n",
    "import matplotlib.pyplot as plt\n",
    "%matplotlib inline"
   ]
  },
  {
   "cell_type": "code",
   "execution_count": 2,
   "metadata": {
    "collapsed": false
   },
   "outputs": [
    {
     "name": "stdout",
     "output_type": "stream",
     "text": [
      "C:\\Users\\William\\Desktop\\Springboard Course\n"
     ]
    }
   ],
   "source": [
    "cd Desktop\\Springboard Course"
   ]
  },
  {
   "cell_type": "code",
   "execution_count": 3,
   "metadata": {
    "collapsed": false,
    "scrolled": true
   },
   "outputs": [
    {
     "name": "stderr",
     "output_type": "stream",
     "text": [
      "C:\\Program Files\\Anaconda3\\lib\\site-packages\\IPython\\core\\interactiveshell.py:2717: DtypeWarning: Columns (0,19) have mixed types. Specify dtype option on import or set low_memory=False.\n",
      "  interactivity=interactivity, compiler=compiler, result=result)\n"
     ]
    }
   ],
   "source": [
    "#loan2015 = pd.read_csv('LoanStats2015.csv', header = 1)\n",
    "loan16q1 = pd.read_csv('LoanStats_2016Q1.csv', header = 1)\n",
    "\n",
    "#loan16q2 = pd.read_csv('LoanStats_2016Q2.csv', header = 1)\n",
    "#loan16q3 = pd.read_csv('LoanStats_2016Q3.csv', header = 1)\n",
    "#loan16q4 = pd.read_csv('LoanStats_2016Q4.csv', header = 1)\n",
    "#loan17q1 = pd.read_csv('LoanStats_2017Q1.csv', header = 1)\n",
    "#loan17q2 = pd.read_csv('LoanStats_2017Q2.csv', header = 1)\n",
    "#loan17q3 = pd.read_csv('LoanStats_2017Q3.csv', header = 1)\n",
    "#loan17q4 = pd.read_csv('LoanStats_2017Q4.csv', header = 1)\n",
    "#print(loan2015.columns)\n"
   ]
  },
  {
   "cell_type": "code",
   "execution_count": 4,
   "metadata": {
    "collapsed": false
   },
   "outputs": [
    {
     "name": "stdout",
     "output_type": "stream",
     "text": [
      "<class 'pandas.core.frame.DataFrame'>\n",
      "RangeIndex: 133889 entries, 0 to 133888\n",
      "Data columns (total 100 columns):\n",
      "id                                2 non-null object\n",
      "member_id                         0 non-null float64\n",
      "loan_amnt                         133887 non-null float64\n",
      "funded_amnt                       133887 non-null float64\n",
      "funded_amnt_inv                   133887 non-null float64\n",
      "term                              133887 non-null object\n",
      "int_rate                          133887 non-null object\n",
      "installment                       133887 non-null float64\n",
      "grade                             133887 non-null object\n",
      "sub_grade                         133887 non-null object\n",
      "emp_title                         124906 non-null object\n",
      "emp_length                        133887 non-null object\n",
      "home_ownership                    133887 non-null object\n",
      "annual_inc                        133887 non-null float64\n",
      "verification_status               133887 non-null object\n",
      "issue_d                           133887 non-null object\n",
      "loan_status                       133887 non-null object\n",
      "pymnt_plan                        133887 non-null object\n",
      "url                               0 non-null float64\n",
      "desc                              10 non-null object\n",
      "purpose                           133887 non-null object\n",
      "title                             123266 non-null object\n",
      "zip_code                          133887 non-null object\n",
      "addr_state                        133887 non-null object\n",
      "dti                               133870 non-null float64\n",
      "delinq_2yrs                       133887 non-null float64\n",
      "earliest_cr_line                  133887 non-null object\n",
      "inq_last_6mths                    133886 non-null float64\n",
      "mths_since_last_delinq            69322 non-null float64\n",
      "mths_since_last_record            23671 non-null float64\n",
      "open_acc                          133887 non-null float64\n",
      "pub_rec                           133887 non-null float64\n",
      "revol_bal                         133887 non-null float64\n",
      "revol_util                        133816 non-null object\n",
      "total_acc                         133887 non-null float64\n",
      "initial_list_status               133887 non-null object\n",
      "out_prncp                         133887 non-null float64\n",
      "out_prncp_inv                     133887 non-null float64\n",
      "total_pymnt                       133887 non-null float64\n",
      "total_pymnt_inv                   133887 non-null float64\n",
      "total_rec_prncp                   133887 non-null float64\n",
      "total_rec_int                     133887 non-null float64\n",
      "total_rec_late_fee                133887 non-null float64\n",
      "recoveries                        133887 non-null float64\n",
      "collection_recovery_fee           133887 non-null float64\n",
      "last_pymnt_d                      133739 non-null object\n",
      "last_pymnt_amnt                   133887 non-null float64\n",
      "next_pymnt_d                      67525 non-null object\n",
      "last_credit_pull_d                133884 non-null object\n",
      "collections_12_mths_ex_med        133887 non-null float64\n",
      "mths_since_last_major_derog       38074 non-null float64\n",
      "policy_code                       133887 non-null float64\n",
      "application_type                  133887 non-null object\n",
      "annual_inc_joint                  2661 non-null float64\n",
      "dti_joint                         2659 non-null float64\n",
      "verification_status_joint         2661 non-null object\n",
      "acc_now_delinq                    133887 non-null float64\n",
      "tot_coll_amt                      133887 non-null float64\n",
      "tot_cur_bal                       133887 non-null float64\n",
      "open_acc_6m                       133825 non-null float64\n",
      "open_act_il                       133826 non-null float64\n",
      "open_il_12m                       133826 non-null float64\n",
      "open_il_24m                       133826 non-null float64\n",
      "mths_since_rcnt_il                130186 non-null float64\n",
      "total_bal_il                      133826 non-null float64\n",
      "il_util                           116008 non-null float64\n",
      "open_rv_12m                       133826 non-null float64\n",
      "open_rv_24m                       133826 non-null float64\n",
      "max_bal_bc                        133826 non-null float64\n",
      "all_util                          133820 non-null float64\n",
      "total_rev_hi_lim                  133887 non-null float64\n",
      "inq_fi                            133826 non-null float64\n",
      "total_cu_tl                       133825 non-null float64\n",
      "inq_last_12m                      133825 non-null float64\n",
      "acc_open_past_24mths              133887 non-null float64\n",
      "avg_cur_bal                       133887 non-null float64\n",
      "bc_open_to_buy                    132776 non-null float64\n",
      "bc_util                           132712 non-null float64\n",
      "chargeoff_within_12_mths          133887 non-null float64\n",
      "delinq_amnt                       133887 non-null float64\n",
      "mo_sin_old_il_acct                130241 non-null float64\n",
      "mo_sin_old_rev_tl_op              133887 non-null float64\n",
      "mo_sin_rcnt_rev_tl_op             133887 non-null float64\n",
      "mo_sin_rcnt_tl                    133887 non-null float64\n",
      "mort_acc                          133887 non-null float64\n",
      "mths_since_recent_bc              132843 non-null float64\n",
      "mths_since_recent_bc_dlq          33756 non-null float64\n",
      "mths_since_recent_inq             120089 non-null float64\n",
      "mths_since_recent_revol_delinq    47783 non-null float64\n",
      "num_accts_ever_120_pd             133887 non-null float64\n",
      "num_actv_bc_tl                    133887 non-null float64\n",
      "num_actv_rev_tl                   133887 non-null float64\n",
      "num_bc_sats                       133887 non-null float64\n",
      "num_bc_tl                         133887 non-null float64\n",
      "num_il_tl                         133887 non-null float64\n",
      "num_op_rev_tl                     133887 non-null float64\n",
      "num_rev_accts                     133887 non-null float64\n",
      "num_rev_tl_bal_gt_0               133887 non-null float64\n",
      "num_sats                          133887 non-null float64\n",
      "num_tl_120dpd_2m                  126266 non-null float64\n",
      "dtypes: float64(75), object(25)\n",
      "memory usage: 102.1+ MB\n",
      "<class 'pandas.core.frame.DataFrame'>\n",
      "RangeIndex: 133889 entries, 0 to 133888\n",
      "Data columns (total 44 columns):\n",
      "num_tl_90g_dpd_24m                            133887 non-null float64\n",
      "num_tl_op_past_12m                            133887 non-null float64\n",
      "pct_tl_nvr_dlq                                133887 non-null float64\n",
      "percent_bc_gt_75                              132758 non-null float64\n",
      "pub_rec_bankruptcies                          133887 non-null float64\n",
      "tax_liens                                     133887 non-null float64\n",
      "tot_hi_cred_lim                               133887 non-null float64\n",
      "total_bal_ex_mort                             133887 non-null float64\n",
      "total_bc_limit                                133887 non-null float64\n",
      "total_il_high_credit_limit                    133887 non-null float64\n",
      "revol_bal_joint                               0 non-null float64\n",
      "sec_app_earliest_cr_line                      0 non-null float64\n",
      "sec_app_inq_last_6mths                        0 non-null float64\n",
      "sec_app_mort_acc                              0 non-null float64\n",
      "sec_app_open_acc                              0 non-null float64\n",
      "sec_app_revol_util                            0 non-null float64\n",
      "sec_app_open_act_il                           0 non-null float64\n",
      "sec_app_num_rev_accts                         0 non-null float64\n",
      "sec_app_chargeoff_within_12_mths              0 non-null float64\n",
      "sec_app_collections_12_mths_ex_med            0 non-null float64\n",
      "sec_app_mths_since_last_major_derog           0 non-null float64\n",
      "hardship_flag                                 133887 non-null object\n",
      "hardship_type                                 1009 non-null object\n",
      "hardship_reason                               1009 non-null object\n",
      "hardship_status                               1009 non-null object\n",
      "deferral_term                                 1009 non-null float64\n",
      "hardship_amount                               1009 non-null float64\n",
      "hardship_start_date                           1009 non-null object\n",
      "hardship_end_date                             1009 non-null object\n",
      "payment_plan_start_date                       1009 non-null object\n",
      "hardship_length                               1009 non-null float64\n",
      "hardship_dpd                                  1009 non-null float64\n",
      "hardship_loan_status                          1009 non-null object\n",
      "orig_projected_additional_accrued_interest    786 non-null float64\n",
      "hardship_payoff_balance_amount                1009 non-null float64\n",
      "hardship_last_payment_amount                  1009 non-null float64\n",
      "disbursement_method                           133887 non-null object\n",
      "debt_settlement_flag                          133887 non-null object\n",
      "debt_settlement_flag_date                     2253 non-null object\n",
      "settlement_status                             2253 non-null object\n",
      "settlement_date                               2253 non-null object\n",
      "settlement_amount                             2253 non-null float64\n",
      "settlement_percentage                         2253 non-null float64\n",
      "settlement_term                               2253 non-null float64\n",
      "dtypes: float64(31), object(13)\n",
      "memory usage: 44.9+ MB\n"
     ]
    }
   ],
   "source": [
    "#let's call .info() on all the columns in order to find null or mostly-null columns\n",
    "loan16q1.iloc[:,0:100].info()\n",
    "loan16q1.iloc[:,101:len(loan16q1.columns)].info()\n",
    "#id, member_id, url, desc, revol_bal_joint, sec_app_earliest_cr_line, sec_app_inq_last_6mths, sec_app_mort_acc,\n",
    "#sec_app_open_acc, sec_app_revol_util, sec_app_open_act_il, sec_app_num_rev_accts,sec_app_chargeoff_within_12_mths, \n",
    "#sec_app_collections_12_mths_ex_med, and sec_app_mths_since_last_major_derog are all entirely null \n",
    "#or almost entirely null values. Let's remove these columns.\n",
    "#annual_inc_joint, dti_joint, verification_status_joint columns have at most 2661 non-null values.    \n",
    "#hardship_type through hardship_last_payment_amount columns have at most 1009 non-null values.\n",
    "\n",
    "#loan16q1.describe()"
   ]
  },
  {
   "cell_type": "code",
   "execution_count": 13,
   "metadata": {
    "collapsed": false
   },
   "outputs": [],
   "source": [
    "#let's drop the null columns. these columns have zero or very few actual values\n",
    "coldrplist = ['id', 'member_id', 'url', 'desc', 'revol_bal_joint', 'sec_app_earliest_cr_line', 'sec_app_inq_last_6mths', 'sec_app_mort_acc',\n",
    "'sec_app_open_acc', 'sec_app_revol_util', 'sec_app_open_act_il', 'sec_app_num_rev_accts','sec_app_chargeoff_within_12_mths', \n",
    "'sec_app_collections_12_mths_ex_med', 'sec_app_mths_since_last_major_derog']\n",
    "\n",
    "loan16q1.drop(loan16q1.loc[:, coldrplist], inplace=True, axis=1)\n",
    "loan16q1 = loan16q1.drop(loan16q1.index[-2:]) #these rows are making all columns display NaN as a unique value,\n",
    "#so we should remove them\n"
   ]
  },
  {
   "cell_type": "code",
   "execution_count": null,
   "metadata": {
    "collapsed": true
   },
   "outputs": [],
   "source": [
    "#there are too many columns to analyze. we need to narrow down the dataframe.\n",
    "#let's ascertain the variables we will work with."
   ]
  },
  {
   "cell_type": "code",
   "execution_count": 21,
   "metadata": {
    "collapsed": false
   },
   "outputs": [
    {
     "name": "stdout",
     "output_type": "stream",
     "text": [
      "   loan_amnt int_rate grade emp_length home_ownership  annual_inc  \\\n",
      "0    25000.0   11.99%     C    2 years            OWN     76000.0   \n",
      "1    10000.0   14.46%     C        n/a           RENT     49000.0   \n",
      "2    34000.0   15.31%     C  10+ years       MORTGAGE    150000.0   \n",
      "3    15000.0    9.75%     B    5 years           RENT     85500.0   \n",
      "4    20000.0   11.47%     B    3 years           RENT     60000.0   \n",
      "\n",
      "  verification_status         loan_status             purpose zip_code  \\\n",
      "0            Verified         Charged Off         credit_card    337xx   \n",
      "1            Verified         Charged Off  debt_consolidation    142xx   \n",
      "2     Source Verified  Late (31-120 days)  debt_consolidation    140xx   \n",
      "3        Not Verified             Current         credit_card    606xx   \n",
      "4        Not Verified             Current         credit_card    953xx   \n",
      "\n",
      "        ...          dti  delinq_2yrs  pub_rec_bankruptcies  all_util  \\\n",
      "0       ...        28.83          0.0                   0.0      73.0   \n",
      "1       ...        33.73          0.0                   0.0      82.0   \n",
      "2       ...        13.81          2.0                   0.0      37.0   \n",
      "3       ...        10.90          0.0                   0.0      70.0   \n",
      "4       ...        23.92          0.0                   0.0      60.0   \n",
      "\n",
      "   tax_liens  num_accts_ever_120_pd  pct_tl_nvr_dlq  percent_bc_gt_75  \\\n",
      "0        0.0                    0.0           100.0              81.8   \n",
      "1        0.0                    0.0           100.0             100.0   \n",
      "2        0.0                    0.0            88.0               0.0   \n",
      "3        0.0                    1.0            90.0             100.0   \n",
      "4        0.0                    0.0            96.0              60.0   \n",
      "\n",
      "   inq_last_12m  mo_sin_rcnt_tl  \n",
      "0           3.0             0.0  \n",
      "1           3.0             5.0  \n",
      "2           3.0             3.0  \n",
      "3           0.0            20.0  \n",
      "4           2.0             2.0  \n",
      "\n",
      "[5 rows x 24 columns]\n"
     ]
    }
   ],
   "source": [
    "#now we narrow down the dataframe to a manageable subset of about 25 columns of interest. loan_status will\n",
    "#be our target variable. the other variables (such as grade, annual_inc, etc.) all seem to be relevant and \n",
    "#useful for predicting loan_status\n",
    "var_of_interest = ['loan_amnt','int_rate','grade','emp_length','home_ownership',\n",
    "'annual_inc','verification_status','loan_status','purpose','zip_code','addr_state','num_bc_tl',\n",
    "'num_il_tl','num_rev_accts','dti','delinq_2yrs','pub_rec_bankruptcies','all_util','tax_liens',\n",
    "'num_accts_ever_120_pd','pct_tl_nvr_dlq','percent_bc_gt_75','inq_last_12m','mo_sin_rcnt_tl']\n",
    "\n",
    "loan_subset = loan16q1.loc[:,var_of_interest]\n",
    "\n",
    "print(loan_subset.head())"
   ]
  },
  {
   "cell_type": "code",
   "execution_count": 22,
   "metadata": {
    "collapsed": false
   },
   "outputs": [
    {
     "data": {
      "text/html": [
       "<div>\n",
       "<table border=\"1\" class=\"dataframe\">\n",
       "  <thead>\n",
       "    <tr style=\"text-align: right;\">\n",
       "      <th></th>\n",
       "      <th>int_rate</th>\n",
       "    </tr>\n",
       "  </thead>\n",
       "  <tbody>\n",
       "    <tr>\n",
       "      <th>count</th>\n",
       "      <td>133887.000000</td>\n",
       "    </tr>\n",
       "    <tr>\n",
       "      <th>mean</th>\n",
       "      <td>12.476372</td>\n",
       "    </tr>\n",
       "    <tr>\n",
       "      <th>std</th>\n",
       "      <td>4.829205</td>\n",
       "    </tr>\n",
       "    <tr>\n",
       "      <th>min</th>\n",
       "      <td>5.320000</td>\n",
       "    </tr>\n",
       "    <tr>\n",
       "      <th>25%</th>\n",
       "      <td>8.490000</td>\n",
       "    </tr>\n",
       "    <tr>\n",
       "      <th>50%</th>\n",
       "      <td>11.990000</td>\n",
       "    </tr>\n",
       "    <tr>\n",
       "      <th>75%</th>\n",
       "      <td>15.310000</td>\n",
       "    </tr>\n",
       "    <tr>\n",
       "      <th>max</th>\n",
       "      <td>28.990000</td>\n",
       "    </tr>\n",
       "  </tbody>\n",
       "</table>\n",
       "</div>"
      ],
      "text/plain": [
       "            int_rate\n",
       "count  133887.000000\n",
       "mean       12.476372\n",
       "std         4.829205\n",
       "min         5.320000\n",
       "25%         8.490000\n",
       "50%        11.990000\n",
       "75%        15.310000\n",
       "max        28.990000"
      ]
     },
     "execution_count": 22,
     "metadata": {},
     "output_type": "execute_result"
    }
   ],
   "source": [
    "#int_rate was loaded in as an object type variable when it should be float type. let's write some code here to remove \n",
    "#the '%' symbol from the int_rate column and change the column type from object to float type\n",
    "\n",
    "# '%' is in the last position for each row, so we can access it this way\n",
    "loan_subset['int_rate'] = loan_subset['int_rate'].str[:-1] \n",
    "\n",
    "#now that the percent sign is gone, we can convert the column to float\n",
    "loan_subset['int_rate'] = loan_subset['int_rate'].astype('float')\n",
    "\n",
    "print(loan_subset['int_rate'].head())\n",
    "print(loan_subset[['int_rate']].describe()) #int_rate is now of float type\n"
   ]
  },
  {
   "cell_type": "code",
   "execution_count": 26,
   "metadata": {
    "collapsed": false
   },
   "outputs": [
    {
     "name": "stdout",
     "output_type": "stream",
     "text": [
      "10+ years    46347\n",
      "2 years      11849\n",
      "3 years      10735\n",
      "< 1 year     10082\n",
      "N/A           8944\n",
      "1 year        8703\n",
      "5 years       8062\n",
      "4 years       7789\n",
      "8 years       6330\n",
      "6 years       5379\n",
      "9 years       5202\n",
      "7 years       4465\n",
      "Name: emp_length, dtype: int64\n",
      "10    46347\n",
      "1     18785\n",
      "2     11849\n",
      "3     10735\n",
      "0      8944\n",
      "5      8062\n",
      "4      7789\n",
      "8      6330\n",
      "6      5379\n",
      "9      5202\n",
      "7      4465\n",
      "Name: emp_length, dtype: int64\n"
     ]
    }
   ],
   "source": [
    "#printing the dataframe also reveals that emp_length is represented as a categorical rather than numerical variable\n",
    "#it would be more intuitive to convert these categories to their associated integer values\n",
    "loan_subset['emp_length'].value_counts() #unique category value counts before\n",
    "\n",
    "#we will replace n/a values for emp_length with 'N/A'\n",
    "\n",
    "#replace emp_length na's with 'N/A' based on emp_length == 'n/a'\n",
    "loan_subset.loc[loan_subset['emp_length'] == 'n/a', 'emp_length'] = 'N/A'\n",
    "\n",
    "print(loan_subset['emp_length'].value_counts())\n",
    "\n",
    "\n",
    "#Now let's convert the emp_length categories into numerical data. For example, 10+ years = 10, 2 years = 2, etc.\n",
    "#In addition, we will convert 'N/A' values to zero. Through both of these steps we lose some information because N/A \n",
    "#may not necessarily equal zero, '< 1 year' never equals 1 (although it will frequently be close),\n",
    "#and '10+ years' won't always equal 10. What we are doing here is called 'censoring', i.e., data points are above (10 years)\n",
    "#or below (1 year) a certain value, but it is unknown by how much.\n",
    "loan_subset.replace('N/A', np.nan,inplace=True)\n",
    "loan_subset.emp_length.fillna(value=0,inplace=True)\n",
    "loan_subset['emp_length'].replace(to_replace='[^0-9]+', value='', inplace=True, regex=True)\n",
    "loan_subset['emp_length'] = loan_subset['emp_length'].astype(int)\n",
    "\n",
    "\n",
    "print(loan_subset['emp_length'].value_counts())"
   ]
  },
  {
   "cell_type": "code",
   "execution_count": null,
   "metadata": {
    "collapsed": false
   },
   "outputs": [],
   "source": [
    "#as can be seen in the earlier printout of loan16q1.info(), there are numerous NaN values.\n",
    "#now we begin the process of NaN removal "
   ]
  },
  {
   "cell_type": "code",
   "execution_count": 23,
   "metadata": {
    "collapsed": false
   },
   "outputs": [
    {
     "name": "stdout",
     "output_type": "stream",
     "text": [
      "loan_amnt                   0\n",
      "int_rate                    0\n",
      "grade                       0\n",
      "emp_length                  0\n",
      "home_ownership              0\n",
      "annual_inc                  0\n",
      "verification_status         0\n",
      "loan_status                 0\n",
      "purpose                     0\n",
      "zip_code                    0\n",
      "addr_state                  0\n",
      "num_bc_tl                   0\n",
      "num_il_tl                   0\n",
      "num_rev_accts               0\n",
      "dti                        17\n",
      "delinq_2yrs                 0\n",
      "pub_rec_bankruptcies        0\n",
      "all_util                   67\n",
      "tax_liens                   0\n",
      "num_accts_ever_120_pd       0\n",
      "pct_tl_nvr_dlq              0\n",
      "percent_bc_gt_75         1129\n",
      "inq_last_12m               62\n",
      "mo_sin_rcnt_tl              0\n",
      "dtype: int64\n",
      "        loan_amnt  int_rate grade emp_length home_ownership  annual_inc  \\\n",
      "421        5000.0     10.75     B  10+ years           RENT    25662.00   \n",
      "498        8000.0     11.99     C   < 1 year           RENT    80000.00   \n",
      "695        5000.0     16.29     D    4 years           RENT    25000.00   \n",
      "856        2400.0     21.18     E     1 year           RENT    18200.00   \n",
      "1378      11675.0     18.99     D    6 years       MORTGAGE    45000.00   \n",
      "3103       3500.0     18.99     D  10+ years       MORTGAGE    65000.00   \n",
      "3248      14000.0     19.53     D     1 year            OWN    41000.00   \n",
      "3261       7475.0     19.53     D  10+ years            OWN    22000.00   \n",
      "3467      10200.0     22.45     E    4 years           RENT    34000.00   \n",
      "4225       7125.0     15.31     C     1 year           RENT    21000.00   \n",
      "4478      12600.0     28.14     G     1 year           RENT    35000.00   \n",
      "4499      16500.0     14.46     C    5 years           RENT   130000.00   \n",
      "4895       3350.0     21.18     E    2 years           RENT    30000.00   \n",
      "5497       8000.0     16.29     D  10+ years       MORTGAGE    50000.00   \n",
      "6360       4150.0     27.34     G   < 1 year           RENT    27000.00   \n",
      "6443      25000.0     11.99     C    4 years       MORTGAGE   215000.00   \n",
      "6798      29250.0     28.14     G  10+ years       MORTGAGE    77004.00   \n",
      "7074       3200.0     11.99     C        n/a           RENT    44000.00   \n",
      "7262       3000.0     18.25     D    8 years           RENT    36300.00   \n",
      "7495      20000.0     11.99     C    2 years       MORTGAGE    45000.00   \n",
      "7932       4500.0     14.46     C   < 1 year       MORTGAGE    30000.00   \n",
      "8395       3000.0     11.99     C  10+ years       MORTGAGE    66127.00   \n",
      "8920      16700.0     28.99     G   < 1 year           RENT    33405.00   \n",
      "9190      11200.0     19.53     D     1 year            OWN    58000.00   \n",
      "9394      20000.0     21.97     E  10+ years       MORTGAGE   136000.00   \n",
      "9643       5000.0     11.47     B    8 years            OWN    35000.00   \n",
      "11866     24000.0     11.99     C  10+ years           RENT    54000.00   \n",
      "11923     20000.0     18.25     D  10+ years       MORTGAGE    80000.00   \n",
      "12730     12150.0     20.75     E    4 years       MORTGAGE    47000.00   \n",
      "12932     21500.0     24.99     F    5 years            OWN    43000.00   \n",
      "...           ...       ...   ...        ...            ...         ...   \n",
      "118685    24600.0     14.85     C    9 years       MORTGAGE    95588.00   \n",
      "119198     9300.0     28.49     G  10+ years            OWN    40000.00   \n",
      "119276     5300.0      8.49     B        n/a       MORTGAGE    20400.00   \n",
      "119554     4200.0     11.99     C  10+ years           RENT    65000.00   \n",
      "119699     6050.0     26.06     F    3 years       MORTGAGE    50000.00   \n",
      "120500     3000.0     11.99     C        n/a       MORTGAGE    32000.00   \n",
      "121861     5000.0     13.44     C  10+ years       MORTGAGE   120000.00   \n",
      "121983    18000.0     19.48     E  10+ years           RENT   107655.00   \n",
      "122143    24000.0     11.48     B  10+ years       MORTGAGE    85000.00   \n",
      "122367     9800.0     18.99     E  10+ years       MORTGAGE   100000.00   \n",
      "123385    10000.0     27.49     G    3 years            OWN    31000.00   \n",
      "123552     5000.0     15.77     D    4 years            OWN    80000.00   \n",
      "124345     2400.0     10.78     B    7 years       MORTGAGE   100000.00   \n",
      "124553    13750.0     13.99     C    6 years       MORTGAGE    35000.00   \n",
      "124630     7800.0     19.89     E        n/a           RENT    17769.00   \n",
      "125072    10325.0     18.49     D    5 years       MORTGAGE   110000.00   \n",
      "125570     5500.0     13.99     C    3 years       MORTGAGE    19200.00   \n",
      "126408     7675.0     23.13     F   < 1 year           RENT    24000.00   \n",
      "126485     1500.0     13.99     C    9 years       MORTGAGE    60000.00   \n",
      "126534    20000.0     11.99     C    8 years       MORTGAGE   100000.00   \n",
      "126653     5000.0     16.59     D    6 years           RENT    50000.00   \n",
      "127442     4000.0      9.17     B    4 years       MORTGAGE    54000.00   \n",
      "127782     3350.0     13.44     C    8 years           RENT    27000.00   \n",
      "128501    33600.0     27.99     G    2 years            OWN    80000.00   \n",
      "129189     8000.0     11.99     C  10+ years       MORTGAGE    78865.44   \n",
      "129900    12000.0      9.80     B     1 year           RENT    32000.00   \n",
      "132315    30000.0     18.99     E        n/a           RENT    94800.00   \n",
      "132551     3000.0     16.59     D   < 1 year           RENT    24000.00   \n",
      "132623     3500.0     16.59     D    9 years           RENT    54000.00   \n",
      "132651    32250.0     13.99     C    3 years       MORTGAGE   108824.00   \n",
      "\n",
      "       verification_status         loan_status             purpose zip_code  \\\n",
      "421        Source Verified             Current  debt_consolidation    322xx   \n",
      "498        Source Verified   Late (16-30 days)  debt_consolidation    325xx   \n",
      "695        Source Verified             Current               other    497xx   \n",
      "856        Source Verified             Current                 car    493xx   \n",
      "1378       Source Verified          Fully Paid  debt_consolidation    322xx   \n",
      "3103       Source Verified          Fully Paid  debt_consolidation    499xx   \n",
      "3248          Not Verified             Current         credit_card    706xx   \n",
      "3261       Source Verified          Fully Paid  debt_consolidation    394xx   \n",
      "3467              Verified             Current  debt_consolidation    626xx   \n",
      "4225       Source Verified             Current  debt_consolidation    871xx   \n",
      "4478              Verified          Fully Paid  debt_consolidation    871xx   \n",
      "4499              Verified             Current  debt_consolidation    605xx   \n",
      "4895       Source Verified             Current  debt_consolidation    327xx   \n",
      "5497          Not Verified             Current  debt_consolidation    547xx   \n",
      "6360       Source Verified             Current  debt_consolidation    109xx   \n",
      "6443       Source Verified             Current  debt_consolidation    221xx   \n",
      "6798              Verified         Charged Off  debt_consolidation    184xx   \n",
      "7074       Source Verified          Fully Paid  debt_consolidation    933xx   \n",
      "7262       Source Verified             Current               other    114xx   \n",
      "7495              Verified          Fully Paid  debt_consolidation    704xx   \n",
      "7932       Source Verified         Charged Off  debt_consolidation    660xx   \n",
      "8395       Source Verified             Current  debt_consolidation    180xx   \n",
      "8920              Verified         Charged Off  debt_consolidation    370xx   \n",
      "9190       Source Verified          Fully Paid    home_improvement    252xx   \n",
      "9394       Source Verified             Current      major_purchase    030xx   \n",
      "9643              Verified          Fully Paid            vacation    395xx   \n",
      "11866             Verified  Late (31-120 days)  debt_consolidation    762xx   \n",
      "11923             Verified         Charged Off  debt_consolidation    322xx   \n",
      "12730         Not Verified         Charged Off  debt_consolidation    230xx   \n",
      "12932             Verified             Current  debt_consolidation    773xx   \n",
      "...                    ...                 ...                 ...      ...   \n",
      "118685        Not Verified          Fully Paid         credit_card    232xx   \n",
      "119198            Verified         Charged Off               house    283xx   \n",
      "119276        Not Verified          Fully Paid      major_purchase    224xx   \n",
      "119554        Not Verified             Current               other    917xx   \n",
      "119699            Verified             Current      small_business    604xx   \n",
      "120500            Verified          Fully Paid    home_improvement    451xx   \n",
      "121861     Source Verified         Charged Off    home_improvement    320xx   \n",
      "121983     Source Verified          Fully Paid  debt_consolidation    920xx   \n",
      "122143            Verified             Current  debt_consolidation    078xx   \n",
      "122367            Verified             Current    home_improvement    640xx   \n",
      "123385     Source Verified         Charged Off         credit_card    315xx   \n",
      "123552            Verified          Fully Paid               other    349xx   \n",
      "124345            Verified          Fully Paid  debt_consolidation    952xx   \n",
      "124553            Verified          Fully Paid  debt_consolidation    235xx   \n",
      "124630            Verified         Charged Off  debt_consolidation    448xx   \n",
      "125072            Verified             Current    home_improvement    705xx   \n",
      "125570        Not Verified          Fully Paid  debt_consolidation    378xx   \n",
      "126408            Verified          Fully Paid    home_improvement    054xx   \n",
      "126485        Not Verified          Fully Paid  debt_consolidation    928xx   \n",
      "126534     Source Verified             Current  debt_consolidation    170xx   \n",
      "126653            Verified             Current              moving    072xx   \n",
      "127442        Not Verified          Fully Paid         credit_card    286xx   \n",
      "127782        Not Verified             Current  debt_consolidation    402xx   \n",
      "128501            Verified          Fully Paid      major_purchase    550xx   \n",
      "129189        Not Verified          Fully Paid  debt_consolidation    920xx   \n",
      "129900     Source Verified          Fully Paid  debt_consolidation    919xx   \n",
      "132315     Source Verified         Charged Off  debt_consolidation    934xx   \n",
      "132551     Source Verified             Current                 car    063xx   \n",
      "132623            Verified             Current  debt_consolidation    880xx   \n",
      "132651            Verified  Late (31-120 days)  debt_consolidation    765xx   \n",
      "\n",
      "             ...          dti  delinq_2yrs  pub_rec_bankruptcies  all_util  \\\n",
      "421          ...        26.52          0.0                   0.0      67.0   \n",
      "498          ...        13.68          0.0                   0.0      46.0   \n",
      "695          ...         4.18          0.0                   0.0      58.0   \n",
      "856          ...         5.21          0.0                   0.0      21.0   \n",
      "1378         ...        37.91          0.0                   0.0      81.0   \n",
      "3103         ...        13.88          0.0                   0.0      87.0   \n",
      "3248         ...        29.10          0.0                   0.0      89.0   \n",
      "3261         ...        39.99          0.0                   0.0      65.0   \n",
      "3467         ...        10.48          0.0                   0.0      35.0   \n",
      "4225         ...        25.49          0.0                   0.0      89.0   \n",
      "4478         ...        30.16          0.0                   0.0      83.0   \n",
      "4499         ...         9.51          0.0                   2.0      52.0   \n",
      "4895         ...        20.44          0.0                   0.0       7.0   \n",
      "5497         ...        25.47          2.0                   0.0      85.0   \n",
      "6360         ...        24.80          0.0                   0.0     101.0   \n",
      "6443         ...        11.06          1.0                   0.0      64.0   \n",
      "6798         ...        29.59          1.0                   0.0      74.0   \n",
      "7074         ...        21.30          0.0                   1.0      85.0   \n",
      "7262         ...        13.55          2.0                   0.0      84.0   \n",
      "7495         ...        45.47          1.0                   0.0      66.0   \n",
      "7932         ...        11.28          0.0                   0.0      34.0   \n",
      "8395         ...        16.15          1.0                   0.0      81.0   \n",
      "8920         ...        48.04          0.0                   0.0      71.0   \n",
      "9190         ...        12.66          0.0                   1.0      87.0   \n",
      "9394         ...         6.71          3.0                   0.0      66.0   \n",
      "9643         ...         7.48          0.0                   0.0      28.0   \n",
      "11866        ...        57.42          0.0                   0.0      72.0   \n",
      "11923        ...        46.19          0.0                   0.0      78.0   \n",
      "12730        ...        22.34          0.0                   0.0      91.0   \n",
      "12932        ...        14.71          0.0                   0.0      82.0   \n",
      "...          ...          ...          ...                   ...       ...   \n",
      "118685       ...        11.98          2.0                   0.0      60.0   \n",
      "119198       ...        17.97          1.0                   0.0      51.0   \n",
      "119276       ...         0.12          0.0                   0.0       3.0   \n",
      "119554       ...        17.23          0.0                   2.0      65.0   \n",
      "119699       ...        20.72          0.0                   0.0     108.0   \n",
      "120500       ...        25.54          0.0                   0.0      58.0   \n",
      "121861       ...         6.41          2.0                   0.0     110.0   \n",
      "121983       ...        36.36          0.0                   0.0      60.0   \n",
      "122143       ...        14.88          1.0                   0.0      29.0   \n",
      "122367       ...        24.68          0.0                   1.0      84.0   \n",
      "123385       ...        12.23          0.0                   0.0      95.0   \n",
      "123552       ...        20.42          0.0                   0.0      76.0   \n",
      "124345       ...        24.86          0.0                   0.0      63.0   \n",
      "124553       ...        23.90          0.0                   0.0      68.0   \n",
      "124630       ...        12.43          0.0                   0.0      94.0   \n",
      "125072       ...         2.12          1.0                   0.0      17.0   \n",
      "125570       ...        27.13          0.0                   1.0       0.0   \n",
      "126408       ...        27.00          0.0                   0.0      57.0   \n",
      "126485       ...        22.54          2.0                   0.0      64.0   \n",
      "126534       ...        12.20          0.0                   0.0      63.0   \n",
      "126653       ...        14.52          0.0                   0.0      42.0   \n",
      "127442       ...         9.93          2.0                   0.0      56.0   \n",
      "127782       ...        21.11          0.0                   0.0      79.0   \n",
      "128501       ...         8.33          0.0                   0.0      93.0   \n",
      "129189       ...        16.51          0.0                   0.0      78.0   \n",
      "129900       ...         4.85          0.0                   0.0      66.0   \n",
      "132315       ...        25.76          0.0                   0.0      87.0   \n",
      "132551       ...        19.55          0.0                   0.0      74.0   \n",
      "132623       ...        28.04          1.0                   0.0      85.0   \n",
      "132651       ...        25.97          0.0                   0.0      76.0   \n",
      "\n",
      "        tax_liens  num_accts_ever_120_pd  pct_tl_nvr_dlq  percent_bc_gt_75  \\\n",
      "421           0.0                    0.0           100.0               NaN   \n",
      "498           1.0                    0.0           100.0               NaN   \n",
      "695           0.0                    0.0           100.0               NaN   \n",
      "856           0.0                    0.0           100.0               NaN   \n",
      "1378          0.0                    0.0           100.0               NaN   \n",
      "3103          0.0                    1.0            93.7               NaN   \n",
      "3248          0.0                    1.0            90.0               NaN   \n",
      "3261          0.0                    0.0            92.9               NaN   \n",
      "3467          0.0                    0.0           100.0               NaN   \n",
      "4225          0.0                    0.0           100.0               NaN   \n",
      "4478          0.0                    0.0           100.0               NaN   \n",
      "4499          0.0                    0.0            94.4               NaN   \n",
      "4895          0.0                    1.0            75.0               NaN   \n",
      "5497          0.0                    1.0            82.8               NaN   \n",
      "6360          0.0                    0.0           100.0               NaN   \n",
      "6443          0.0                    0.0            95.0               NaN   \n",
      "6798          0.0                    0.0            96.9               NaN   \n",
      "7074          0.0                    0.0           100.0               NaN   \n",
      "7262          0.0                    0.0            93.7               NaN   \n",
      "7495          0.0                    1.0            94.4               NaN   \n",
      "7932          0.0                    0.0           100.0               NaN   \n",
      "8395          0.0                    0.0            92.9               NaN   \n",
      "8920          0.0                    1.0            92.9               NaN   \n",
      "9190          0.0                    0.0           100.0               NaN   \n",
      "9394          0.0                    2.0            85.0               NaN   \n",
      "9643          0.0                    0.0           100.0               NaN   \n",
      "11866         0.0                    0.0           100.0               NaN   \n",
      "11923         0.0                    1.0            92.9               NaN   \n",
      "12730         0.0                    0.0           100.0               NaN   \n",
      "12932         0.0                    0.0           100.0               NaN   \n",
      "...           ...                    ...             ...               ...   \n",
      "118685        0.0                    1.0            90.9               NaN   \n",
      "119198        0.0                    1.0            85.7               NaN   \n",
      "119276        0.0                    0.0           100.0               NaN   \n",
      "119554        0.0                    0.0           100.0               NaN   \n",
      "119699        0.0                    0.0           100.0               NaN   \n",
      "120500        0.0                    0.0           100.0               NaN   \n",
      "121861        0.0                    1.0            72.7               NaN   \n",
      "121983        0.0                    0.0           100.0               NaN   \n",
      "122143        0.0                    1.0            83.0               NaN   \n",
      "122367        0.0                    0.0            92.6               NaN   \n",
      "123385        0.0                    0.0           100.0               NaN   \n",
      "123552        0.0                    0.0           100.0               NaN   \n",
      "124345        0.0                    0.0           100.0               NaN   \n",
      "124553        0.0                    0.0           100.0               NaN   \n",
      "124630        0.0                    0.0           100.0               NaN   \n",
      "125072        0.0                    0.0            88.9               NaN   \n",
      "125570        0.0                    0.0           100.0               NaN   \n",
      "126408        0.0                    0.0           100.0               NaN   \n",
      "126485        0.0                    2.0            76.2               NaN   \n",
      "126534        0.0                    0.0           100.0               NaN   \n",
      "126653        0.0                    0.0           100.0               NaN   \n",
      "127442        0.0                    0.0            88.0               NaN   \n",
      "127782        0.0                    0.0            66.7               NaN   \n",
      "128501        0.0                    0.0           100.0               NaN   \n",
      "129189        0.0                    0.0            88.9               NaN   \n",
      "129900        0.0                    0.0           100.0               NaN   \n",
      "132315        1.0                    0.0            76.0               NaN   \n",
      "132551        0.0                    0.0           100.0               NaN   \n",
      "132623        0.0                    0.0            94.7               NaN   \n",
      "132651        0.0                    0.0           100.0               NaN   \n",
      "\n",
      "        inq_last_12m  mo_sin_rcnt_tl  \n",
      "421              0.0             5.0  \n",
      "498              2.0             7.0  \n",
      "695              1.0            19.0  \n",
      "856              2.0            19.0  \n",
      "1378             4.0             1.0  \n",
      "3103             3.0             5.0  \n",
      "3248             4.0             4.0  \n",
      "3261             3.0             3.0  \n",
      "3467             0.0             6.0  \n",
      "4225             1.0             6.0  \n",
      "4478             0.0             3.0  \n",
      "4499             9.0             4.0  \n",
      "4895             0.0            18.0  \n",
      "5497             1.0            24.0  \n",
      "6360             0.0            20.0  \n",
      "6443             2.0             3.0  \n",
      "6798             2.0             1.0  \n",
      "7074             1.0             1.0  \n",
      "7262             2.0             3.0  \n",
      "7495             3.0            10.0  \n",
      "7932             3.0             5.0  \n",
      "8395             2.0            10.0  \n",
      "8920             0.0             3.0  \n",
      "9190             2.0             5.0  \n",
      "9394             2.0            11.0  \n",
      "9643             1.0             6.0  \n",
      "11866            1.0             5.0  \n",
      "11923            3.0            11.0  \n",
      "12730            2.0             4.0  \n",
      "12932            0.0            34.0  \n",
      "...              ...             ...  \n",
      "118685           0.0             9.0  \n",
      "119198           1.0            14.0  \n",
      "119276           0.0            30.0  \n",
      "119554           1.0             8.0  \n",
      "119699          19.0             4.0  \n",
      "120500           0.0             7.0  \n",
      "121861           5.0             3.0  \n",
      "121983           2.0             7.0  \n",
      "122143           0.0             5.0  \n",
      "122367           7.0             6.0  \n",
      "123385           1.0             5.0  \n",
      "123552           3.0             5.0  \n",
      "124345           0.0             4.0  \n",
      "124553           2.0             8.0  \n",
      "124630           0.0            26.0  \n",
      "125072           0.0            27.0  \n",
      "125570           2.0             3.0  \n",
      "126408           0.0             2.0  \n",
      "126485           0.0             5.0  \n",
      "126534           2.0             9.0  \n",
      "126653           0.0            22.0  \n",
      "127442           0.0            14.0  \n",
      "127782           4.0            12.0  \n",
      "128501           2.0             8.0  \n",
      "129189           2.0             9.0  \n",
      "129900           0.0            49.0  \n",
      "132315           4.0             2.0  \n",
      "132551           0.0             9.0  \n",
      "132623           1.0             2.0  \n",
      "132651           0.0             4.0  \n",
      "\n",
      "[241 rows x 24 columns]\n"
     ]
    }
   ],
   "source": [
    "#get amount of nan values in each column\n",
    "print(loan_subset.isnull().sum())\n",
    "\n",
    "#there are 1129 NaN values for percent_bc_gt_75. however, this can explained by the fact that some\n",
    "#borrowers probably don't have bankcard accounts. if rows with NaN for percent_bc_gt_75 also display the value 0 \n",
    "#for number of bankcard accounts (num_bc_tl), then we should replace NaN with the value 0 for percent_bc_gt_75.\n",
    "print(loan_subset[(loan_subset['percent_bc_gt_75'].isnull()) & (loan_subset['num_bc_tl'] == 0)])\n",
    "\n",
    "#there are 241 rows that meet this condition. we should therefore relabel NaN as 0 for these instances of percent_bc_gt_75"
   ]
  },
  {
   "cell_type": "code",
   "execution_count": 24,
   "metadata": {
    "collapsed": false
   },
   "outputs": [
    {
     "name": "stdout",
     "output_type": "stream",
     "text": [
      "Series([], Name: percent_bc_gt_75, dtype: float64)\n",
      "888\n"
     ]
    }
   ],
   "source": [
    "#replace NaN values in percent_bc_gt_75 with 0 when the conditions that percent_bc_gt_75 is null and num_bc_tl == 0 \n",
    "#are both true\n",
    "loan_subset.loc[np.logical_and(loan_subset['percent_bc_gt_75'].isnull(), loan_subset['num_bc_tl'] == 0), 'percent_bc_gt_75'] = 0\n",
    "\n",
    "#reprinting the percent_bc_gt_75 column based on the two conditions afterwards confirms that the replacement worked.\n",
    "#there are no more NaN values (when both these conditions are true)\n",
    "print(loan_subset.loc[np.logical_and(loan_subset['percent_bc_gt_75'].isnull(), loan_subset['num_bc_tl'] == 0),'percent_bc_gt_75'])\n",
    "\n",
    "print(loan_subset['percent_bc_gt_75'].isnull().sum()) #we saved 241 rows from deletion"
   ]
  },
  {
   "cell_type": "code",
   "execution_count": 27,
   "metadata": {
    "collapsed": false
   },
   "outputs": [
    {
     "name": "stdout",
     "output_type": "stream",
     "text": [
      "<class 'pandas.core.frame.DataFrame'>\n",
      "Int64Index: 133887 entries, 0 to 133886\n",
      "Data columns (total 24 columns):\n",
      "loan_amnt                133887 non-null float64\n",
      "int_rate                 133887 non-null float64\n",
      "grade                    133887 non-null object\n",
      "emp_length               133887 non-null int32\n",
      "home_ownership           133887 non-null object\n",
      "annual_inc               133887 non-null float64\n",
      "verification_status      133887 non-null object\n",
      "loan_status              133887 non-null object\n",
      "purpose                  133887 non-null object\n",
      "zip_code                 133887 non-null object\n",
      "addr_state               133887 non-null object\n",
      "num_bc_tl                133887 non-null float64\n",
      "num_il_tl                133887 non-null float64\n",
      "num_rev_accts            133887 non-null float64\n",
      "dti                      133870 non-null float64\n",
      "delinq_2yrs              133887 non-null float64\n",
      "pub_rec_bankruptcies     133887 non-null float64\n",
      "all_util                 133820 non-null float64\n",
      "tax_liens                133887 non-null float64\n",
      "num_accts_ever_120_pd    133887 non-null float64\n",
      "pct_tl_nvr_dlq           133887 non-null float64\n",
      "percent_bc_gt_75         132999 non-null float64\n",
      "inq_last_12m             133825 non-null float64\n",
      "mo_sin_rcnt_tl           133887 non-null float64\n",
      "dtypes: float64(16), int32(1), object(7)\n",
      "memory usage: 25.0+ MB\n"
     ]
    }
   ],
   "source": [
    "loan_subset.info()"
   ]
  },
  {
   "cell_type": "code",
   "execution_count": 28,
   "metadata": {
    "collapsed": false
   },
   "outputs": [
    {
     "name": "stdout",
     "output_type": "stream",
     "text": [
      "loan_amnt                  0\n",
      "int_rate                   0\n",
      "grade                      0\n",
      "emp_length                 0\n",
      "home_ownership             0\n",
      "annual_inc                 0\n",
      "verification_status        0\n",
      "loan_status                0\n",
      "purpose                    0\n",
      "zip_code                   0\n",
      "addr_state                 0\n",
      "num_bc_tl                  0\n",
      "num_il_tl                  0\n",
      "num_rev_accts              0\n",
      "dti                       17\n",
      "delinq_2yrs                0\n",
      "pub_rec_bankruptcies       0\n",
      "all_util                  67\n",
      "tax_liens                  0\n",
      "num_accts_ever_120_pd      0\n",
      "pct_tl_nvr_dlq             0\n",
      "percent_bc_gt_75         888\n",
      "inq_last_12m              62\n",
      "mo_sin_rcnt_tl             0\n",
      "dtype: int64\n",
      "loan_amnt                133887\n",
      "int_rate                 133887\n",
      "grade                    133887\n",
      "emp_length               133887\n",
      "home_ownership           133887\n",
      "annual_inc               133887\n",
      "verification_status      133887\n",
      "loan_status              133887\n",
      "purpose                  133887\n",
      "zip_code                 133887\n",
      "addr_state               133887\n",
      "num_bc_tl                133887\n",
      "num_il_tl                133887\n",
      "num_rev_accts            133887\n",
      "dti                      133870\n",
      "delinq_2yrs              133887\n",
      "pub_rec_bankruptcies     133887\n",
      "all_util                 133820\n",
      "tax_liens                133887\n",
      "num_accts_ever_120_pd    133887\n",
      "pct_tl_nvr_dlq           133887\n",
      "percent_bc_gt_75         132999\n",
      "inq_last_12m             133825\n",
      "mo_sin_rcnt_tl           133887\n",
      "dtype: int64\n"
     ]
    }
   ],
   "source": [
    "print(loan_subset.isnull().sum()) #we have much fewer NaN values now. let's remove the all the rows with the remaining NaN values\n",
    "print(loan_subset.count()) #as can be seen, the total amount of rows with NaN values (1034) is less than 1% of the entire row \n",
    "#count 133887. it will likely not result in a huge loss of information if we delete these rows entirely. we will also plot \n",
    "#describe() for selected variables in order to see if mean,min,max, etc. have changed significantly as a result of row removal."
   ]
  },
  {
   "cell_type": "code",
   "execution_count": null,
   "metadata": {
    "collapsed": false
   },
   "outputs": [],
   "source": [
    "#let's print out descriptive statistics for selected columns to see if there is any significant effect on the \n",
    "#statistics as a result of removing all the remaining rows with NaN values. These are the stats before NaN removal:\n",
    "#let's create a sublist of the selected columns\n",
    "\n",
    "var_sublist = ['loan_amnt','int_rate','grade','annual_inc','loan_status','purpose','dti','delinq_2yrs','pub_rec_bankruptcies',\n",
    "'all_util','num_accts_ever_120_pd','percent_bc_gt_75']\n",
    "\n",
    "#descriptive statistics before NaN removal:\n",
    "for col in var_sublist:\n",
    "    print(loan_subset[[col]].describe())"
   ]
  },
  {
   "cell_type": "code",
   "execution_count": 30,
   "metadata": {
    "collapsed": false
   },
   "outputs": [
    {
     "name": "stdout",
     "output_type": "stream",
     "text": [
      "dti  contains NaN values:  True\n",
      "all_util  contains NaN values:  True\n",
      "percent_bc_gt_75  contains NaN values:  True\n",
      "inq_last_12m  contains NaN values:  True\n",
      " \n",
      "Confirming NaN removal:\n",
      "All NaN values are removed!\n"
     ]
    }
   ],
   "source": [
    "#example of how to remove all nan values from a column\n",
    "#x = loan16q1[['settlement_date']]\n",
    "#y= x.dropna(how = 'any')\n",
    "#print(y)\n",
    "\n",
    "#loop through loan_subset using var_of_interest variable list to determine which columns have nan values.\n",
    "#we will drop all remaining rows with NaN values from the entire loan_subset dataframe instead of replacing\n",
    "#the NaNs with  alternative values\n",
    "\n",
    "for col in var_of_interest:\n",
    "    if loan_subset[[col]].isnull().values.any():\n",
    "        print(str(col) + \"  \" + \"contains NaN values: \" + \" \" + str(loan_subset[[col]].isnull().values.any()))  \n",
    "\n",
    "        \n",
    "loan_subset = loan_subset.dropna(how = 'any')\n",
    "\n",
    "print(\" \")\n",
    "print('Confirming NaN removal:')\n",
    "for col in var_of_interest:\n",
    "    if loan_subset[[col]].isnull().values.any():\n",
    "        print(str(col) + \"  \" + \"contains NaN values: \" + \" \" + str(loan_subset[[col]].isnull().values.any()))\n",
    "    else:\n",
    "        break\n",
    "\n",
    "print('All NaN values are removed!')\n"
   ]
  },
  {
   "cell_type": "code",
   "execution_count": 31,
   "metadata": {
    "collapsed": false
   },
   "outputs": [
    {
     "name": "stdout",
     "output_type": "stream",
     "text": [
      "           loan_amnt\n",
      "count  132918.000000\n",
      "mean    15611.988406\n",
      "std      8855.915934\n",
      "min      1000.000000\n",
      "25%      8500.000000\n",
      "50%     14400.000000\n",
      "75%     21000.000000\n",
      "max     40000.000000\n",
      "            int_rate\n",
      "count  132918.000000\n",
      "mean       12.464539\n",
      "std         4.824084\n",
      "min         5.320000\n",
      "25%         8.490000\n",
      "50%        11.990000\n",
      "75%        15.310000\n",
      "max        28.990000\n",
      "         grade\n",
      "count   132918\n",
      "unique       7\n",
      "top          B\n",
      "freq     40029\n",
      "         annual_inc\n",
      "count  1.329180e+05\n",
      "mean   8.051558e+04\n",
      "std    7.777827e+04\n",
      "min    2.000000e+02\n",
      "25%    4.969487e+04\n",
      "50%    6.800000e+04\n",
      "75%    9.559700e+04\n",
      "max    9.550000e+06\n",
      "       loan_status\n",
      "count       132918\n",
      "unique           7\n",
      "top        Current\n",
      "freq         63853\n",
      "                   purpose\n",
      "count               132918\n",
      "unique                  12\n",
      "top     debt_consolidation\n",
      "freq                 76190\n",
      "                 dti\n",
      "count  132918.000000\n",
      "mean       19.554748\n",
      "std         9.971417\n",
      "min        -1.000000\n",
      "25%        12.650000\n",
      "50%        18.760000\n",
      "75%        25.780000\n",
      "max       999.000000\n",
      "         delinq_2yrs\n",
      "count  132918.000000\n",
      "mean        0.342068\n",
      "std         0.906470\n",
      "min         0.000000\n",
      "25%         0.000000\n",
      "50%         0.000000\n",
      "75%         0.000000\n",
      "max        22.000000\n",
      "       pub_rec_bankruptcies\n",
      "count         132918.000000\n",
      "mean               0.130426\n",
      "std                0.383387\n",
      "min                0.000000\n",
      "25%                0.000000\n",
      "50%                0.000000\n",
      "75%                0.000000\n",
      "max                9.000000\n",
      "            all_util\n",
      "count  132918.000000\n",
      "mean       60.629230\n",
      "std        19.931721\n",
      "min         0.000000\n",
      "25%        47.000000\n",
      "50%        62.000000\n",
      "75%        75.000000\n",
      "max       198.000000\n",
      "       num_accts_ever_120_pd\n",
      "count          132918.000000\n",
      "mean                0.516627\n",
      "std                 1.332193\n",
      "min                 0.000000\n",
      "25%                 0.000000\n",
      "50%                 0.000000\n",
      "75%                 0.000000\n",
      "max                38.000000\n",
      "       percent_bc_gt_75\n",
      "count     132918.000000\n",
      "mean          44.475186\n",
      "std           36.055421\n",
      "min            0.000000\n",
      "25%            9.100000\n",
      "50%           40.000000\n",
      "75%           75.000000\n",
      "max          100.000000\n"
     ]
    }
   ],
   "source": [
    "#now we will print out descriptive statistics for selected columns to see if there is any significant effect on the \n",
    "#statistics as a result of removing all the remaining rows with NaN values. These are the stats after NaN removal:\n",
    "#let's create a sublist of the selected columns\n",
    "\n",
    "var_sublist_after = ['loan_amnt','int_rate','grade','annual_inc','loan_status','purpose','dti','delinq_2yrs','pub_rec_bankruptcies',\n",
    "'all_util','num_accts_ever_120_pd','percent_bc_gt_75']\n",
    "\n",
    "for col in var_sublist_after:\n",
    "    print(loan_subset[[col]].describe())\n",
    "    \n",
    "#a review of the descriptive statistics for the selected columns before and after NaN row removal reveals little change in the\n",
    "#mean,std, min, etc. measures. the only real noticeable difference is that minimum value for annual_inc is now $200 instead of 0.\n",
    "#in the context of such a large dataset that includes large income values into the millions of dollars,\n",
    "#this is an inconsequential change."
   ]
  },
  {
   "cell_type": "code",
   "execution_count": 67,
   "metadata": {
    "collapsed": false
   },
   "outputs": [
    {
     "name": "stdout",
     "output_type": "stream",
     "text": [
      "loan_amnt\n",
      "Axes(0.125,0.125;0.775x0.755)\n"
     ]
    },
    {
     "data": {
      "image/png": "[encoded data removed]",
      "text/plain": [
       "<matplotlib.figure.Figure at 0x35048d7eb8>"
      ]
     },
     "metadata": {},
     "output_type": "display_data"
    },
    {
     "name": "stdout",
     "output_type": "stream",
     "text": [
      "int_rate\n",
      "Axes(0.125,0.125;0.775x0.755)\n"
     ]
    },
    {
     "data": {
      "image/png": "[encoded data removed]",
      "text/plain": [
       "<matplotlib.figure.Figure at 0x350f38b978>"
      ]
     },
     "metadata": {},
     "output_type": "display_data"
    },
    {
     "name": "stdout",
     "output_type": "stream",
     "text": [
      "annual_inc\n",
      "Axes(0.125,0.125;0.775x0.755)\n"
     ]
    },
    {
     "data": {
      "image/png": "[encoded data removed]",
      "text/plain": [
       "<matplotlib.figure.Figure at 0x350478ab70>"
      ]
     },
     "metadata": {},
     "output_type": "display_data"
    },
    {
     "name": "stdout",
     "output_type": "stream",
     "text": [
      "emp_length\n",
      "Axes(0.125,0.125;0.775x0.755)\n"
     ]
    },
    {
     "data": {
      "image/png": "[encoded data removed]",
      "text/plain": [
       "<matplotlib.figure.Figure at 0x35473f44a8>"
      ]
     },
     "metadata": {},
     "output_type": "display_data"
    },
    {
     "name": "stdout",
     "output_type": "stream",
     "text": [
      "dti\n",
      "Axes(0.125,0.125;0.775x0.755)\n"
     ]
    },
    {
     "data": {
      "image/png": "[encoded data removed]",
      "text/plain": [
       "<matplotlib.figure.Figure at 0x3539088208>"
      ]
     },
     "metadata": {},
     "output_type": "display_data"
    },
    {
     "name": "stdout",
     "output_type": "stream",
     "text": [
      "delinq_2yrs\n",
      "Axes(0.125,0.125;0.775x0.755)\n"
     ]
    },
    {
     "data": {
      "image/png": "[encoded data removed]",
      "text/plain": [
       "<matplotlib.figure.Figure at 0x3550dcd160>"
      ]
     },
     "metadata": {},
     "output_type": "display_data"
    },
    {
     "name": "stdout",
     "output_type": "stream",
     "text": [
      "pub_rec_bankruptcies\n",
      "Axes(0.125,0.125;0.775x0.755)\n"
     ]
    },
    {
     "data": {
      "image/png": "[encoded data removed]",
      "text/plain": [
       "<matplotlib.figure.Figure at 0x35510c1518>"
      ]
     },
     "metadata": {},
     "output_type": "display_data"
    },
    {
     "name": "stdout",
     "output_type": "stream",
     "text": [
      "all_util\n",
      "Axes(0.125,0.125;0.775x0.755)\n"
     ]
    },
    {
     "data": {
      "image/png": "[encoded data removed]",
      "text/plain": [
       "<matplotlib.figure.Figure at 0x353921b1d0>"
      ]
     },
     "metadata": {},
     "output_type": "display_data"
    },
    {
     "name": "stdout",
     "output_type": "stream",
     "text": [
      "num_accts_ever_120_pd\n",
      "Axes(0.125,0.125;0.775x0.755)\n"
     ]
    },
    {
     "data": {
      "image/png": "[encoded data removed]",
      "text/plain": [
       "<matplotlib.figure.Figure at 0x350f3a9c18>"
      ]
     },
     "metadata": {},
     "output_type": "display_data"
    },
    {
     "name": "stdout",
     "output_type": "stream",
     "text": [
      "percent_bc_gt_75\n",
      "Axes(0.125,0.125;0.775x0.755)\n"
     ]
    },
    {
     "data": {
      "image/png": "[encoded data removed]",
      "text/plain": [
       "<matplotlib.figure.Figure at 0x353788dcc0>"
      ]
     },
     "metadata": {},
     "output_type": "display_data"
    },
    {
     "name": "stdout",
     "output_type": "stream",
     "text": [
      "num_bc_tl\n",
      "Axes(0.125,0.125;0.775x0.755)\n"
     ]
    },
    {
     "data": {
      "image/png": "[encoded data removed]",
      "text/plain": [
       "<matplotlib.figure.Figure at 0x3551030668>"
      ]
     },
     "metadata": {},
     "output_type": "display_data"
    },
    {
     "name": "stdout",
     "output_type": "stream",
     "text": [
      "num_il_tl\n",
      "Axes(0.125,0.125;0.775x0.755)\n"
     ]
    },
    {
     "data": {
      "image/png": "[encoded data removed]",
      "text/plain": [
       "<matplotlib.figure.Figure at 0x354fb12e80>"
      ]
     },
     "metadata": {},
     "output_type": "display_data"
    },
    {
     "name": "stdout",
     "output_type": "stream",
     "text": [
      "num_rev_accts\n",
      "Axes(0.125,0.125;0.775x0.755)\n"
     ]
    },
    {
     "data": {
      "image/png": "[encoded data removed]",
      "text/plain": [
       "<matplotlib.figure.Figure at 0x354fb2ad30>"
      ]
     },
     "metadata": {},
     "output_type": "display_data"
    },
    {
     "name": "stdout",
     "output_type": "stream",
     "text": [
      "tax_liens\n",
      "Axes(0.125,0.125;0.775x0.755)\n"
     ]
    },
    {
     "data": {
      "image/png": "[encoded data removed]",
      "text/plain": [
       "<matplotlib.figure.Figure at 0x3503e535f8>"
      ]
     },
     "metadata": {},
     "output_type": "display_data"
    },
    {
     "name": "stdout",
     "output_type": "stream",
     "text": [
      "pct_tl_nvr_dlq\n",
      "Axes(0.125,0.125;0.775x0.755)\n"
     ]
    },
    {
     "data": {
      "image/png": "[encoded data removed]",
      "text/plain": [
       "<matplotlib.figure.Figure at 0x35037a5e80>"
      ]
     },
     "metadata": {},
     "output_type": "display_data"
    },
    {
     "name": "stdout",
     "output_type": "stream",
     "text": [
      "inq_last_12m\n",
      "Axes(0.125,0.125;0.775x0.755)\n"
     ]
    },
    {
     "data": {
      "image/png": "[encoded data removed]",
      "text/plain": [
       "<matplotlib.figure.Figure at 0x353ac6bcc0>"
      ]
     },
     "metadata": {},
     "output_type": "display_data"
    },
    {
     "name": "stdout",
     "output_type": "stream",
     "text": [
      "mo_sin_rcnt_tl\n",
      "Axes(0.125,0.125;0.775x0.755)\n"
     ]
    },
    {
     "data": {
      "image/png": "[encoded data removed]",
      "text/plain": [
       "<matplotlib.figure.Figure at 0x35171f44e0>"
      ]
     },
     "metadata": {},
     "output_type": "display_data"
    }
   ],
   "source": [
    "\n",
    "#let's plot histograms of all the numerical variables to inspect for possible problematic outliers\n",
    "non_categorical_vars =['loan_amnt','int_rate','annual_inc','emp_length','dti','delinq_2yrs','pub_rec_bankruptcies',\n",
    "'all_util','num_accts_ever_120_pd','percent_bc_gt_75','num_bc_tl','num_il_tl','num_rev_accts','tax_liens','pct_tl_nvr_dlq',\n",
    "'inq_last_12m','mo_sin_rcnt_tl']\n",
    "\n",
    "\n",
    "for i in non_categorical_vars:\n",
    "    print(str(i))\n",
    "    print(loan_subset[i].plot(kind = 'hist'))\n",
    "    plt.show()\n",
    "\n",
    "    \n",
    "\n",
    "#through inspection of the histograms in addition to descriptive statistics provided in the previous cell, it is\n",
    "#obvious that outliers are present for most of the variables. However, these outliers don't appear to be a result\n",
    "#of data entry error, but rather as a result of random variation. For example, annual income has a large outlier \n",
    "#for the maximum value, but that is logical because some people have large annual incomes. Moreover, in spite of\n",
    "#these outliers, the median and mean values for all of the variables track closely together, indicating that these\n",
    "#large values don't distort the central tendency that much. It is important to note however, that virtually of the\n",
    "#distributions are positively skewed; this is due to the fact that none of these variables can ever be less than zero.\n",
    "#for example, annual income, number of accounts 120 past due, number of bankruptcies, etc. can never be negative.\n",
    "#In addition, we are dealing with a lot of imbalanced data; there are generally going to be many more zero values than\n",
    "#values above zero for variables like pub_rec_bankruptcies, num_accts_ever_120_pd, delinq_2yrs, tax_liens\n",
    "#as these are generally rare events.\n",
    "    \n",
    "   \n",
    "                    \n",
    "                    "
   ]
  },
  {
   "cell_type": "code",
   "execution_count": null,
   "metadata": {
    "collapsed": true
   },
   "outputs": [],
   "source": [
    "#now we'll plot all the categorical variables, except zip_code    \n",
    "categorical_vars = ['grade', 'home_ownership','loan_status','purpose','verification_status']\n",
    "\n",
    "for v in non_categorical_vars:\n",
    "    print(str(v))\n",
    "    print(loan_subset[v].plot(kind = 'hist'))\n",
    "    plt.show()                   \n"
   ]
  },
  {
   "cell_type": "code",
   "execution_count": 33,
   "metadata": {
    "collapsed": false
   },
   "outputs": [
    {
     "name": "stdout",
     "output_type": "stream",
     "text": [
      "count    132918.000000\n",
      "mean      15611.988406\n",
      "std        8855.915934\n",
      "min        1000.000000\n",
      "25%        8500.000000\n",
      "50%       14400.000000\n",
      "75%       21000.000000\n",
      "max       40000.000000\n",
      "Name: loan_amnt, dtype: float64\n",
      " \n",
      "count    132918.000000\n",
      "mean         12.464539\n",
      "std           4.824084\n",
      "min           5.320000\n",
      "25%           8.490000\n",
      "50%          11.990000\n",
      "75%          15.310000\n",
      "max          28.990000\n",
      "Name: int_rate, dtype: float64\n",
      " \n",
      "count     132918\n",
      "unique         7\n",
      "top            B\n",
      "freq       40029\n",
      "Name: grade, dtype: object\n",
      " \n",
      "count    132918.000000\n",
      "mean          5.755541\n",
      "std           3.792557\n",
      "min           0.000000\n",
      "25%           2.000000\n",
      "50%           6.000000\n",
      "75%          10.000000\n",
      "max          10.000000\n",
      "Name: emp_length, dtype: float64\n",
      " \n",
      "count       132918\n",
      "unique           3\n",
      "top       MORTGAGE\n",
      "freq         66305\n",
      "Name: home_ownership, dtype: object\n",
      " \n",
      "count    1.329180e+05\n",
      "mean     8.051558e+04\n",
      "std      7.777827e+04\n",
      "min      2.000000e+02\n",
      "25%      4.969487e+04\n",
      "50%      6.800000e+04\n",
      "75%      9.559700e+04\n",
      "max      9.550000e+06\n",
      "Name: annual_inc, dtype: float64\n",
      " \n",
      "count              132918\n",
      "unique                  3\n",
      "top       Source Verified\n",
      "freq                50031\n",
      "Name: verification_status, dtype: object\n",
      " \n",
      "count      132918\n",
      "unique          7\n",
      "top       Current\n",
      "freq        63853\n",
      "Name: loan_status, dtype: object\n",
      " \n",
      "count                 132918\n",
      "unique                    12\n",
      "top       debt_consolidation\n",
      "freq                   76190\n",
      "Name: purpose, dtype: object\n",
      " \n",
      "count     132918\n",
      "unique       891\n",
      "top        750xx\n",
      "freq        1459\n",
      "Name: zip_code, dtype: object\n",
      " \n",
      "count     132918\n",
      "unique        50\n",
      "top           CA\n",
      "freq       18213\n",
      "Name: addr_state, dtype: object\n",
      " \n",
      "count    132918.000000\n",
      "mean          8.034585\n",
      "std           4.783461\n",
      "min           0.000000\n",
      "25%           5.000000\n",
      "50%           7.000000\n",
      "75%          10.000000\n",
      "max          57.000000\n",
      "Name: num_bc_tl, dtype: float64\n",
      " \n",
      "count    132918.000000\n",
      "mean          8.691208\n",
      "std           7.486392\n",
      "min           0.000000\n",
      "25%           4.000000\n",
      "50%           7.000000\n",
      "75%          12.000000\n",
      "max         121.000000\n",
      "Name: num_il_tl, dtype: float64\n",
      " \n",
      "count    132918.000000\n",
      "mean         14.730210\n",
      "std           8.273115\n",
      "min           2.000000\n",
      "25%           9.000000\n",
      "50%          13.000000\n",
      "75%          19.000000\n",
      "max         101.000000\n",
      "Name: num_rev_accts, dtype: float64\n",
      " \n",
      "count    132918.000000\n",
      "mean         19.554748\n",
      "std           9.971417\n",
      "min          -1.000000\n",
      "25%          12.650000\n",
      "50%          18.760000\n",
      "75%          25.780000\n",
      "max         999.000000\n",
      "Name: dti, dtype: float64\n",
      " \n",
      "count    132918.000000\n",
      "mean          0.342068\n",
      "std           0.906470\n",
      "min           0.000000\n",
      "25%           0.000000\n",
      "50%           0.000000\n",
      "75%           0.000000\n",
      "max          22.000000\n",
      "Name: delinq_2yrs, dtype: float64\n",
      " \n",
      "count    132918.000000\n",
      "mean          0.130426\n",
      "std           0.383387\n",
      "min           0.000000\n",
      "25%           0.000000\n",
      "50%           0.000000\n",
      "75%           0.000000\n",
      "max           9.000000\n",
      "Name: pub_rec_bankruptcies, dtype: float64\n",
      " \n",
      "count    132918.000000\n",
      "mean         60.629230\n",
      "std          19.931721\n",
      "min           0.000000\n",
      "25%          47.000000\n",
      "50%          62.000000\n",
      "75%          75.000000\n",
      "max         198.000000\n",
      "Name: all_util, dtype: float64\n",
      " \n",
      "count    132918.000000\n",
      "mean          0.071480\n",
      "std           0.465484\n",
      "min           0.000000\n",
      "25%           0.000000\n",
      "50%           0.000000\n",
      "75%           0.000000\n",
      "max          45.000000\n",
      "Name: tax_liens, dtype: float64\n",
      " \n",
      "count    132918.000000\n",
      "mean          0.516627\n",
      "std           1.332193\n",
      "min           0.000000\n",
      "25%           0.000000\n",
      "50%           0.000000\n",
      "75%           0.000000\n",
      "max          38.000000\n",
      "Name: num_accts_ever_120_pd, dtype: float64\n",
      " \n",
      "count    132918.000000\n",
      "mean         94.084923\n",
      "std           8.730280\n",
      "min           0.000000\n",
      "25%          91.200000\n",
      "50%          97.500000\n",
      "75%         100.000000\n",
      "max         100.000000\n",
      "Name: pct_tl_nvr_dlq, dtype: float64\n",
      " \n",
      "count    132918.000000\n",
      "mean         44.475186\n",
      "std          36.055421\n",
      "min           0.000000\n",
      "25%           9.100000\n",
      "50%          40.000000\n",
      "75%          75.000000\n",
      "max         100.000000\n",
      "Name: percent_bc_gt_75, dtype: float64\n",
      " \n",
      "count    132918.000000\n",
      "mean          2.187386\n",
      "std           2.467410\n",
      "min           0.000000\n",
      "25%           0.000000\n",
      "50%           2.000000\n",
      "75%           3.000000\n",
      "max          40.000000\n",
      "Name: inq_last_12m, dtype: float64\n",
      " \n",
      "count    132918.000000\n",
      "mean          7.785010\n",
      "std           8.881474\n",
      "min           0.000000\n",
      "25%           3.000000\n",
      "50%           5.000000\n",
      "75%          10.000000\n",
      "max         283.000000\n",
      "Name: mo_sin_rcnt_tl, dtype: float64\n",
      " \n"
     ]
    }
   ],
   "source": [
    "for col in loan_subset.columns:\n",
    "    print(loan_subset[col].describe()) \n",
    "    print(' ')\n",
    "    \n",
    "#upon review of each column, it appears that more changes are needed.\n",
    "#zip_code has too many unique values to work with, and dti has a negative minimum value.\n",
    "# We will group zip_code into regional categories by the first digit (7 = southwest,\n",
    "#0 = northeast, etc.), and remove the negative value from dti."
   ]
  },
  {
   "cell_type": "code",
   "execution_count": null,
   "metadata": {
    "collapsed": false
   },
   "outputs": [],
   "source": [
    "#remove negative min value \n",
    "loan_subset = loan_subset[loan_subset['dti'] >=0 ]\n"
   ]
  },
  {
   "cell_type": "code",
   "execution_count": 115,
   "metadata": {
    "collapsed": false
   },
   "outputs": [
    {
     "name": "stdout",
     "output_type": "stream",
     "text": [
      "0    Southeast\n",
      "1            1\n",
      "2            1\n",
      "3            6\n",
      "4            9\n",
      "Name: zip_code, dtype: object\n"
     ]
    }
   ],
   "source": [
    "# Here are the states according to the first digit of the zip code (given by wikipedia):\n",
    "# 0 = Connecticut (CT), Massachusetts (MA), Maine (ME), New Hampshire (NH), New Jersey (NJ), New York (NY, Fishers Island only),\n",
    "# Puerto Rico (PR), Rhode Island (RI), Vermont (VT), Virgin Islands (VI), Army Post Office Europe (AE), \n",
    "# Fleet Post Office Europe (AE)\n",
    "\n",
    "# 1 = Delaware (DE), New York (NY), Pennsylvania (PA)\n",
    "\n",
    "# 2 = District of Columbia (DC), Maryland (MD), North Carolina (NC), South Carolina (SC), Virginia (VA), West Virginia (WV)\n",
    "\n",
    "# 3 = Alabama (AL), Florida (FL), Georgia (GA), Mississippi (MS), Tennessee (TN), Army Post Office Americas (AA), \n",
    "# Fleet Post Office Americas (AA)\n",
    "\n",
    "#4 = Indiana (IN), Kentucky (KY), Michigan (MI), Ohio (OH)\n",
    "\n",
    "#5 = Iowa (IA), Minnesota (MN), Montana (MT), North Dakota (ND), South Dakota (SD), Wisconsin (WI) \n",
    "\n",
    "#6 = Illinois (IL), Kansas (KS), Missouri (MO), Nebraska (NE)\n",
    "\n",
    "#7 = Arkansas (AR), Louisiana (LA), Oklahoma (OK), Texas (TX)\n",
    "\n",
    "#8 = Arizona (AZ), Colorado (CO), Idaho (ID), New Mexico (NM), Nevada (NV), Utah (UT), Wyoming (WY)\n",
    "\n",
    "#9 = Alaska (AK), American Samoa (AS), California (CA), Guam (GU), Hawaii (HI), Marshall Islands (MH), \n",
    "#Federated States of Micronesia (FM), Northern Mariana Islands (MP), Oregon (OR), Palau (PW), Washington (WA), \n",
    "#Army Post Office Pacific (AP), Fleet Post Office Pacific (AP)\n",
    "\n",
    "# The states in each group are generally in the same region of the country, so let's reassign each digit according to region\n",
    "# some digits will overlap with respect to region, so multiple digits will have the same region.\n",
    "\n",
    "# 0 = 'Northeast', 1 = 'Northeast', 2 = 'South Atlantic', 3 = 'Southeast', 4 = 'Midwest', 5 = 'Midwest'\n",
    "# 6 = 'Midwest', 7 = 'Southwest', 8 = 'Mountain', 9 = 'West'\n",
    "\n",
    "regions = {0:'Northeast', 1: 'Northeast', 2:'South Atlantic', 3:'Southeast', 4:'Midwest', \n",
    "           5:'Midwest', 6:'Midwest', 7:'Southwest', 8:'Mountain', 9:'West'}\n",
    "\n",
    "#print(loan_subset['zip_code'].head())\n",
    "#print(loan_subset['zip_code'].str[:1].head())\n",
    "\n",
    "loancopy = loan_subset['zip_code'].copy()\n",
    "loancopy = loancopy.str[:1].head()\n",
    "\n",
    "\n",
    "x = loancopy.astype('int')\n",
    "#print(x.head())\n",
    "\n",
    "#print(regions.get(x[0]))\n",
    "\n",
    "print(x.replace(x[0],regions.get(x[0]))) #THIS WORKED!!!\n",
    "\n",
    "#def reg_map():\n",
    "   # x = x.replace(x, regions.get(x))\n",
    "\n",
    "#x.apply(lambda n: .replace()    )\n"
   ]
  },
  {
   "cell_type": "code",
   "execution_count": 111,
   "metadata": {
    "collapsed": false
   },
   "outputs": [
    {
     "ename": "KeyError",
     "evalue": "6",
     "output_type": "error",
     "traceback": [
      "\u001b[0;31m---------------------------------------------------------------------------\u001b[0m",
      "\u001b[0;31mKeyError\u001b[0m                                  Traceback (most recent call last)",
      "\u001b[0;32m<ipython-input-111-31fe1bbda4df>\u001b[0m in \u001b[0;36m<module>\u001b[0;34m()\u001b[0m\n\u001b[1;32m      1\u001b[0m \u001b[1;32mfor\u001b[0m \u001b[0mi\u001b[0m \u001b[1;32min\u001b[0m \u001b[0mx\u001b[0m\u001b[1;33m:\u001b[0m\u001b[1;33m\u001b[0m\u001b[0m\n\u001b[0;32m----> 2\u001b[0;31m     \u001b[0mx\u001b[0m\u001b[1;33m.\u001b[0m\u001b[0mreplace\u001b[0m\u001b[1;33m(\u001b[0m\u001b[0mx\u001b[0m\u001b[1;33m[\u001b[0m\u001b[0mi\u001b[0m\u001b[1;33m]\u001b[0m\u001b[1;33m,\u001b[0m\u001b[0mregions\u001b[0m\u001b[1;33m.\u001b[0m\u001b[0mget\u001b[0m\u001b[1;33m(\u001b[0m\u001b[0mx\u001b[0m\u001b[1;33m[\u001b[0m\u001b[0mi\u001b[0m\u001b[1;33m]\u001b[0m\u001b[1;33m)\u001b[0m\u001b[1;33m)\u001b[0m\u001b[1;33m\u001b[0m\u001b[0m\n\u001b[0m\u001b[1;32m      3\u001b[0m \u001b[1;33m\u001b[0m\u001b[0m\n\u001b[1;32m      4\u001b[0m \u001b[0mprint\u001b[0m\u001b[1;33m(\u001b[0m\u001b[0mx\u001b[0m\u001b[1;33m)\u001b[0m\u001b[1;33m\u001b[0m\u001b[0m\n",
      "\u001b[0;32mC:\\Program Files\\Anaconda3\\lib\\site-packages\\pandas\\core\\series.py\u001b[0m in \u001b[0;36m__getitem__\u001b[0;34m(self, key)\u001b[0m\n\u001b[1;32m    601\u001b[0m         \u001b[0mkey\u001b[0m \u001b[1;33m=\u001b[0m \u001b[0mcom\u001b[0m\u001b[1;33m.\u001b[0m\u001b[0m_apply_if_callable\u001b[0m\u001b[1;33m(\u001b[0m\u001b[0mkey\u001b[0m\u001b[1;33m,\u001b[0m \u001b[0mself\u001b[0m\u001b[1;33m)\u001b[0m\u001b[1;33m\u001b[0m\u001b[0m\n\u001b[1;32m    602\u001b[0m         \u001b[1;32mtry\u001b[0m\u001b[1;33m:\u001b[0m\u001b[1;33m\u001b[0m\u001b[0m\n\u001b[0;32m--> 603\u001b[0;31m             \u001b[0mresult\u001b[0m \u001b[1;33m=\u001b[0m \u001b[0mself\u001b[0m\u001b[1;33m.\u001b[0m\u001b[0mindex\u001b[0m\u001b[1;33m.\u001b[0m\u001b[0mget_value\u001b[0m\u001b[1;33m(\u001b[0m\u001b[0mself\u001b[0m\u001b[1;33m,\u001b[0m \u001b[0mkey\u001b[0m\u001b[1;33m)\u001b[0m\u001b[1;33m\u001b[0m\u001b[0m\n\u001b[0m\u001b[1;32m    604\u001b[0m \u001b[1;33m\u001b[0m\u001b[0m\n\u001b[1;32m    605\u001b[0m             \u001b[1;32mif\u001b[0m \u001b[1;32mnot\u001b[0m \u001b[0mis_scalar\u001b[0m\u001b[1;33m(\u001b[0m\u001b[0mresult\u001b[0m\u001b[1;33m)\u001b[0m\u001b[1;33m:\u001b[0m\u001b[1;33m\u001b[0m\u001b[0m\n",
      "\u001b[0;32mC:\\Program Files\\Anaconda3\\lib\\site-packages\\pandas\\indexes\\base.py\u001b[0m in \u001b[0;36mget_value\u001b[0;34m(self, series, key)\u001b[0m\n\u001b[1;32m   2167\u001b[0m         \u001b[1;32mtry\u001b[0m\u001b[1;33m:\u001b[0m\u001b[1;33m\u001b[0m\u001b[0m\n\u001b[1;32m   2168\u001b[0m             return self._engine.get_value(s, k,\n\u001b[0;32m-> 2169\u001b[0;31m                                           tz=getattr(series.dtype, 'tz', None))\n\u001b[0m\u001b[1;32m   2170\u001b[0m         \u001b[1;32mexcept\u001b[0m \u001b[0mKeyError\u001b[0m \u001b[1;32mas\u001b[0m \u001b[0me1\u001b[0m\u001b[1;33m:\u001b[0m\u001b[1;33m\u001b[0m\u001b[0m\n\u001b[1;32m   2171\u001b[0m             \u001b[1;32mif\u001b[0m \u001b[0mlen\u001b[0m\u001b[1;33m(\u001b[0m\u001b[0mself\u001b[0m\u001b[1;33m)\u001b[0m \u001b[1;33m>\u001b[0m \u001b[1;36m0\u001b[0m \u001b[1;32mand\u001b[0m \u001b[0mself\u001b[0m\u001b[1;33m.\u001b[0m\u001b[0minferred_type\u001b[0m \u001b[1;32min\u001b[0m \u001b[1;33m[\u001b[0m\u001b[1;34m'integer'\u001b[0m\u001b[1;33m,\u001b[0m \u001b[1;34m'boolean'\u001b[0m\u001b[1;33m]\u001b[0m\u001b[1;33m:\u001b[0m\u001b[1;33m\u001b[0m\u001b[0m\n",
      "\u001b[0;32mpandas\\index.pyx\u001b[0m in \u001b[0;36mpandas.index.IndexEngine.get_value (pandas\\index.c:3557)\u001b[0;34m()\u001b[0m\n",
      "\u001b[0;32mpandas\\index.pyx\u001b[0m in \u001b[0;36mpandas.index.IndexEngine.get_value (pandas\\index.c:3240)\u001b[0;34m()\u001b[0m\n",
      "\u001b[0;32mpandas\\index.pyx\u001b[0m in \u001b[0;36mpandas.index.IndexEngine.get_loc (pandas\\index.c:4279)\u001b[0;34m()\u001b[0m\n",
      "\u001b[0;32mpandas\\src\\hashtable_class_helper.pxi\u001b[0m in \u001b[0;36mpandas.hashtable.Int64HashTable.get_item (pandas\\hashtable.c:8564)\u001b[0;34m()\u001b[0m\n",
      "\u001b[0;32mpandas\\src\\hashtable_class_helper.pxi\u001b[0m in \u001b[0;36mpandas.hashtable.Int64HashTable.get_item (pandas\\hashtable.c:8508)\u001b[0;34m()\u001b[0m\n",
      "\u001b[0;31mKeyError\u001b[0m: 6"
     ]
    }
   ],
   "source": [
    "for i in x:\n",
    "    x.replace(x[i],regions.get(x[i]))\n",
    "    \n",
    "print(x)"
   ]
  },
  {
   "cell_type": "code",
   "execution_count": 91,
   "metadata": {
    "collapsed": false
   },
   "outputs": [
    {
     "name": "stdout",
     "output_type": "stream",
     "text": [
      "Purpose of Loans\n",
      "debt_consolidation    76135\n",
      "credit_card           32049\n",
      "home_improvement       8544\n",
      "other                  7006\n",
      "major_purchase         2887\n",
      "medical                1435\n",
      "small_business         1368\n",
      "car                    1288\n",
      "moving                  752\n",
      "vacation                729\n",
      "house                   537\n",
      "renewable_energy         81\n",
      "Name: purpose, dtype: int64\n",
      "Axes(0.125,0.125;0.775x0.755)\n"
     ]
    },
    {
     "data": {
      "image/png": "[encoded data removed]",
      "text/plain": [
       "<matplotlib.figure.Figure at 0xd20a643f60>"
      ]
     },
     "metadata": {},
     "output_type": "display_data"
    },
    {
     "name": "stdout",
     "output_type": "stream",
     "text": [
      "Loan Grade\n",
      "B    39999\n",
      "C    36498\n",
      "A    26324\n",
      "D    16267\n",
      "E     9419\n",
      "F     3430\n",
      "G      874\n",
      "Name: grade, dtype: int64\n",
      "Axes(0.125,0.125;0.775x0.755)\n"
     ]
    },
    {
     "data": {
      "image/png": "[encoded data removed]",
      "text/plain": [
       "<matplotlib.figure.Figure at 0xd20addbc50>"
      ]
     },
     "metadata": {},
     "output_type": "display_data"
    },
    {
     "name": "stdout",
     "output_type": "stream",
     "text": [
      "Years of Employment\n",
      "10+ years    45938\n",
      "2 years      11777\n",
      "3 years      10664\n",
      "< 1 year     10007\n",
      "Unknown       8745\n",
      "1 year        8647\n",
      "5 years       8009\n",
      "4 years       7739\n",
      "8 years       6287\n",
      "6 years       5332\n",
      "9 years       5170\n",
      "7 years       4424\n",
      "n/a             72\n",
      "Name: emp_length, dtype: int64\n",
      "Axes(0.125,0.125;0.775x0.755)\n"
     ]
    },
    {
     "data": {
      "image/png": "[encoded data removed]",
      "text/plain": [
       "<matplotlib.figure.Figure at 0xd20c4bf518>"
      ]
     },
     "metadata": {},
     "output_type": "display_data"
    },
    {
     "name": "stdout",
     "output_type": "stream",
     "text": [
      "Living Arrangement\n",
      "MORTGAGE    66259\n",
      "RENT        50514\n",
      "OWN         16038\n",
      "Name: home_ownership, dtype: int64\n",
      "Axes(0.125,0.125;0.775x0.755)\n"
     ]
    },
    {
     "data": {
      "image/png": "[encoded data removed]",
      "text/plain": [
       "<matplotlib.figure.Figure at 0xd20addbda0>"
      ]
     },
     "metadata": {},
     "output_type": "display_data"
    },
    {
     "name": "stdout",
     "output_type": "stream",
     "text": [
      "Verification Status\n",
      "Source Verified    50003\n",
      "Not Verified       46778\n",
      "Verified           36030\n",
      "Name: verification_status, dtype: int64\n",
      "Axes(0.125,0.125;0.775x0.755)\n"
     ]
    },
    {
     "data": {
      "image/png": "[encoded data removed]",
      "text/plain": [
       "<matplotlib.figure.Figure at 0xd20c96e080>"
      ]
     },
     "metadata": {},
     "output_type": "display_data"
    },
    {
     "name": "stdout",
     "output_type": "stream",
     "text": [
      "Loan Status\n",
      "Current               63794\n",
      "Fully Paid            48121\n",
      "Charged Off           17651\n",
      "Late (31-120 days)     1884\n",
      "In Grace Period         912\n",
      "Late (16-30 days)       444\n",
      "Default                   5\n",
      "Name: loan_status, dtype: int64\n",
      "Axes(0.125,0.125;0.775x0.755)\n"
     ]
    },
    {
     "data": {
      "image/png": "[encoded data removed]",
      "text/plain": [
       "<matplotlib.figure.Figure at 0xd20c519c88>"
      ]
     },
     "metadata": {},
     "output_type": "display_data"
    }
   ],
   "source": [
    "#let's find out the different loan purposes. let's put this code into a function so that we can do multiple plots quickly\n",
    "print(\"Purpose of Loans\")\n",
    "print(loan_subset['purpose'].value_counts())\n",
    "print(loan_subset['purpose'].value_counts().plot(kind = 'bar', color = 'blue'))\n",
    "plt.show()\n",
    "#it appears that the vast majority of loans are taken out for debt consolidation\n",
    "\n",
    "\n",
    "print(\"Loan Grade\")\n",
    "print(loan_subset['grade'].value_counts())\n",
    "print(loan_subset['grade'].value_counts().plot(kind = 'bar', color = 'green'))\n",
    "plt.show()\n",
    "\n",
    "print(\"Years of Employment\")\n",
    "print(loan_subset['emp_length'].value_counts())\n",
    "print(loan_subset['emp_length'].value_counts().plot(kind = 'bar', color = 'red'))\n",
    "plt.show()\n",
    "\n",
    "\n",
    "print(\"Living Arrangement\")\n",
    "print(loan_subset['home_ownership'].value_counts())\n",
    "print(loan_subset['home_ownership'].value_counts().plot(kind = 'bar', color = 'silver'))\n",
    "plt.show()\n",
    "\n",
    "print(\"Verification Status\")\n",
    "print(loan_subset['verification_status'].value_counts())\n",
    "print(loan_subset['verification_status'].value_counts().plot(kind = 'bar', color = 'black'))\n",
    "plt.show()\n",
    "\n",
    "\n",
    "print(\"Loan Status\")\n",
    "print(loan_subset['loan_status'].value_counts())\n",
    "print(loan_subset['loan_status'].value_counts().plot(kind = 'bar', color = 'purple'))\n",
    "plt.show()"
   ]
  },
  {
   "cell_type": "code",
   "execution_count": null,
   "metadata": {
    "collapsed": false
   },
   "outputs": [],
   "source": []
  },
  {
   "cell_type": "code",
   "execution_count": null,
   "metadata": {
    "collapsed": false
   },
   "outputs": [],
   "source": []
  }
 ],
 "metadata": {
  "kernelspec": {
   "display_name": "Python 3",
   "language": "python",
   "name": "python3"
  },
  "language_info": {
   "codemirror_mode": {
    "name": "ipython",
    "version": 3
   },
   "file_extension": ".py",
   "mimetype": "text/x-python",
   "name": "python",
   "nbconvert_exporter": "python",
   "pygments_lexer": "ipython3",
   "version": "3.6.0"
  }
 },
 "nbformat": 4,
 "nbformat_minor": 2
}
