{
 "cells": [
  {
   "cell_type": "markdown",
   "metadata": {
    "collapsed": true
   },
   "source": [
    "# Data Wrangling-Lending Club Data 2015Q1-2017Q4 #"
   ]
  },
  {
   "cell_type": "markdown",
   "metadata": {},
   "source": [
    "##The purpose of this exercise is to inspect and clean the lending club data so that it is ready for my capstone project ##"
   ]
  },
  {
   "cell_type": "markdown",
   "metadata": {
    "collapsed": true
   },
   "source": [
    "The first step of the data wrangling process was importing the csv file into the python notebook. The columns were\n",
    "in the second row of the file, so I set header = 1 in the call to pd.read_csv(). Once the data was imported into the \n",
    "notebook, the next step was to call .info() on all the columns in order to find null or mostly-null columns. By doing\n",
    "this, it would enable me to begin narrowing down the amount of columns; this was necessary to do because the dataset \n",
    "was initally rather 'wide' with over 140 columns. The following columns were found to have zero or a negligible amount\n",
    "of observations:\n",
    "\n",
    "id, member_id, url, desc, revol_bal_joint, sec_app_earliest_cr_line, sec_app_inq_last_6mths, sec_app_mort_acc,\n",
    "sec_app_open_acc, sec_app_revol_util, sec_app_open_act_il, sec_app_num_rev_accts,sec_app_chargeoff_within_12_mths, \n",
    "sec_app_collections_12_mths_ex_med, and sec_app_mths_since_last_major_derog. I dropped the columns by putting them \n",
    "in a list, subsetting the dataframe, and calling .drop().\n",
    "\n",
    "Even after dropping these columns, there will still well over 100 columns in the dataset. After careful deliberation,\n",
    "I further reduced the dataframe to a subset of 25 columns:\n",
    "    \n",
    "var_of_interest = ['loan_amnt','int_rate','grade','emp_length','home_ownership',\n",
    "'annual_inc','verification_status','loan_status','purpose','zip_code','addr_state','num_bc_tl',\n",
    "'num_il_tl','num_rev_accts','dti','delinq_2yrs','pub_rec_bankruptcies','all_util','tax_liens',\n",
    "'num_accts_ever_120_pd','pct_tl_nvr_dlq','percent_bc_gt_75','inq_last_12m','mo_sin_rcnt_tl']\n",
    "\n",
    "loan_subset = loan16q1.loc[:,var_of_interest]\n",
    "\n",
    "I chose loan_status to be the target variable. In addition, the other variables (such as grade, annual_inc, etc.) \n",
    "all seemed to be relevant and useful for predicting loan_status, so I chose them.\n",
    "\n",
    "Printing out this new dataframe revealed that int_rate had been loaded in as an object type variable when it should \n",
    "have been float type. I removed the '%' symbol from the int_rate column and changed it to float type. I also noticed that \n",
    "emp_length was represented as a categorical rather than numerical variable. After careful consideration, I decided \n",
    "it would be more intuitive to convert these categories to their associated integer values. First, I replaced emp_length n/a\n",
    "values with 'N/A'. I then converted the categories into numerical data. For example, 10+ years = 10, 2 years = 2, etc.\n",
    "In addition, I converted 'N/A' values to zero. Through both of these steps some information was lost because N/A \n",
    "may not necessarily equal zero, '< 1 year' never equals 1 (although it will frequently be close),\n",
    "and '10+ years' won't always equal 10. What I did here is called 'censoring', i.e., data points are above (10 years)\n",
    "or below (1 year) a certain value, but it is unknown by how much. Although there was information lost through this approach,\n",
    "I felt it was better than dropping the column entirely and thus losing all that useful information.\n",
    "\n",
    "\n",
    "As was seen in the earlier call to .info(), there were numerous NaN values for various columns. After cleaning int_rate \n",
    "and emp_length, I began the process of NaN removal.There were 1129 NaN values for percent_bc_gt_75. however, this can explained by the fact that some borrowers probably don't have bankcard accounts. I therefore decided that if rows with NaN for percent_bc_gt_75 also displayed the value 0 for number of bankcard accounts (num_bc_tl), then I would replace NaN with the value 0 for percent_bc_gt_75. There were 241 rows saved as a result of this recoding. I then decided to remove the all the rows with the remaining NaN values for the sake of simplicity. The total amount of rows with NaN values (1034) was less than 1% of the entire row count (133887). it wouldn't be likely to result in a huge loss of information to delete these rows entirely. I also plotted describe() for selected variables in order to see if mean,min,max, etc. changed significantly as a result of row removal. I looped through loan_subset using var_of_interest variable list to determine which columns had NaN values, then dropped all remaining rows with NaN values from the entire loan_subset dataframe.\n",
    "\n",
    "I then printed out descriptive statistics for selected columns to see if there was any significant effect on the \n",
    "statistics as a result of removing all the remaining rows with NaN values. A review of the descriptive statistics for the selected columns before and after NaN row removal revealed little change in the mean,std, min, etc. measures. the only noticeable difference was that the minimum value for annual_inc was now $200 instead of zero. In the context of such a large dataset that includes large income values into the millions of dollars, this was an inconsequential change.\n",
    "\n",
    "\n",
    "I plotted histograms of all the numerical variables to inspect for possible problematic outliers.\n",
    "Through inspection of the histograms in addition to descriptive statistics for each variable, it was\n",
    "obvious that outliers were present for most of the variables. However, these outliers didn't appear to be a result\n",
    "of data entry error, but rather as a result of random variation. Nevertheless, these outliers were so far from the \n",
    "other data points that they were not representative of the overall pattern of the rest of the data. I dealt with \n",
    "these outliers through the interquartile range outlier method (iqr), log transformation, or recoding the column as a binary variable. As shown in my code, some variables such as int_rate were made to have a more normal (and less skewed) distribution through the combination of log transformation and iqr outlier removal, solely using the iqr method (dti, all_util, loan_amnt, etc.), or through binary recoding (pub_rec_bankruptcies, tax_liens, etc.). For some variables, such as num_tl_bc, num_il_tl, and\n",
    "num_rev_accts, it wouldn't have made sense to employ the iqr method or log transformation method as these distributions are inherently skewed to the right. These variables can never be less than zero. I therefore left these variables as-is.\n",
    "\n",
    "\n",
    "After log transformation of variables and outlier removal the data wrangling process was finished. I have cleaned my data and made it suitable for statistical analysis and modeling in my capstone project."
   ]
  },
  {
   "cell_type": "code",
   "execution_count": 1,
   "metadata": {
    "collapsed": true
   },
   "outputs": [],
   "source": [
    "import numpy as np\n",
    "import pandas as pd\n",
    "import matplotlib.pyplot as plt\n",
    "%matplotlib inline"
   ]
  },
  {
   "cell_type": "code",
   "execution_count": 2,
   "metadata": {
    "collapsed": false
   },
   "outputs": [
    {
     "name": "stdout",
     "output_type": "stream",
     "text": [
      "C:\\Users\\William\\Desktop\\Springboard Course\n"
     ]
    }
   ],
   "source": [
    "cd Desktop\\Springboard Course"
   ]
  },
  {
   "cell_type": "code",
   "execution_count": 3,
   "metadata": {
    "collapsed": false,
    "scrolled": true
   },
   "outputs": [
    {
     "name": "stderr",
     "output_type": "stream",
     "text": [
      "C:\\Program Files\\Anaconda3\\lib\\site-packages\\IPython\\core\\interactiveshell.py:2717: DtypeWarning: Columns (0,19) have mixed types. Specify dtype option on import or set low_memory=False.\n",
      "  interactivity=interactivity, compiler=compiler, result=result)\n"
     ]
    }
   ],
   "source": [
    "#loan2015 = pd.read_csv('LoanStats2015.csv', header = 1)\n",
    "\n",
    "loan16q1 = pd.read_csv('LoanStats_2016Q1.csv', header = 1)\n",
    "\n",
    "#loan16q2 = pd.read_csv('LoanStats_2016Q2.csv', header = 1)\n",
    "#loan16q3 = pd.read_csv('LoanStats_2016Q3.csv', header = 1)\n",
    "#loan16q4 = pd.read_csv('LoanStats_2016Q4.csv', header = 1)\n",
    "#loan17q1 = pd.read_csv('LoanStats_2017Q1.csv', header = 1)\n",
    "#loan17q2 = pd.read_csv('LoanStats_2017Q2.csv', header = 1)\n",
    "#loan17q3 = pd.read_csv('LoanStats_2017Q3.csv', header = 1)\n",
    "#loan17q4 = pd.read_csv('LoanStats_2017Q4.csv', header = 1)\n",
    "#print(loan2015.columns)\n",
    "\n",
    "#dict of dataframes maybe best way to go about consolidation\n",
    "\n",
    "#loans = dict()\n",
    "\n",
    "#for qtr in ['16Q1', '16Q2','16Q3','16Q4','17Q1','17Q2','17Q3', '17Q4']:\n",
    "#    loans[qtr] = pd.read_csv('LoanStats_20'+ qtr +'.csv', header = 1)\n",
    "\n",
    "#print(loans['16Q1'].columns)\n",
    "\n",
    "#loans['16Q1']"
   ]
  },
  {
   "cell_type": "code",
   "execution_count": 4,
   "metadata": {
    "collapsed": false
   },
   "outputs": [
    {
     "name": "stdout",
     "output_type": "stream",
     "text": [
      "<class 'pandas.core.frame.DataFrame'>\n",
      "RangeIndex: 133889 entries, 0 to 133888\n",
      "Data columns (total 100 columns):\n",
      "id                                2 non-null object\n",
      "member_id                         0 non-null float64\n",
      "loan_amnt                         133887 non-null float64\n",
      "funded_amnt                       133887 non-null float64\n",
      "funded_amnt_inv                   133887 non-null float64\n",
      "term                              133887 non-null object\n",
      "int_rate                          133887 non-null object\n",
      "installment                       133887 non-null float64\n",
      "grade                             133887 non-null object\n",
      "sub_grade                         133887 non-null object\n",
      "emp_title                         124906 non-null object\n",
      "emp_length                        133887 non-null object\n",
      "home_ownership                    133887 non-null object\n",
      "annual_inc                        133887 non-null float64\n",
      "verification_status               133887 non-null object\n",
      "issue_d                           133887 non-null object\n",
      "loan_status                       133887 non-null object\n",
      "pymnt_plan                        133887 non-null object\n",
      "url                               0 non-null float64\n",
      "desc                              10 non-null object\n",
      "purpose                           133887 non-null object\n",
      "title                             123266 non-null object\n",
      "zip_code                          133887 non-null object\n",
      "addr_state                        133887 non-null object\n",
      "dti                               133870 non-null float64\n",
      "delinq_2yrs                       133887 non-null float64\n",
      "earliest_cr_line                  133887 non-null object\n",
      "inq_last_6mths                    133886 non-null float64\n",
      "mths_since_last_delinq            69322 non-null float64\n",
      "mths_since_last_record            23671 non-null float64\n",
      "open_acc                          133887 non-null float64\n",
      "pub_rec                           133887 non-null float64\n",
      "revol_bal                         133887 non-null float64\n",
      "revol_util                        133816 non-null object\n",
      "total_acc                         133887 non-null float64\n",
      "initial_list_status               133887 non-null object\n",
      "out_prncp                         133887 non-null float64\n",
      "out_prncp_inv                     133887 non-null float64\n",
      "total_pymnt                       133887 non-null float64\n",
      "total_pymnt_inv                   133887 non-null float64\n",
      "total_rec_prncp                   133887 non-null float64\n",
      "total_rec_int                     133887 non-null float64\n",
      "total_rec_late_fee                133887 non-null float64\n",
      "recoveries                        133887 non-null float64\n",
      "collection_recovery_fee           133887 non-null float64\n",
      "last_pymnt_d                      133739 non-null object\n",
      "last_pymnt_amnt                   133887 non-null float64\n",
      "next_pymnt_d                      67525 non-null object\n",
      "last_credit_pull_d                133884 non-null object\n",
      "collections_12_mths_ex_med        133887 non-null float64\n",
      "mths_since_last_major_derog       38074 non-null float64\n",
      "policy_code                       133887 non-null float64\n",
      "application_type                  133887 non-null object\n",
      "annual_inc_joint                  2661 non-null float64\n",
      "dti_joint                         2659 non-null float64\n",
      "verification_status_joint         2661 non-null object\n",
      "acc_now_delinq                    133887 non-null float64\n",
      "tot_coll_amt                      133887 non-null float64\n",
      "tot_cur_bal                       133887 non-null float64\n",
      "open_acc_6m                       133825 non-null float64\n",
      "open_act_il                       133826 non-null float64\n",
      "open_il_12m                       133826 non-null float64\n",
      "open_il_24m                       133826 non-null float64\n",
      "mths_since_rcnt_il                130186 non-null float64\n",
      "total_bal_il                      133826 non-null float64\n",
      "il_util                           116008 non-null float64\n",
      "open_rv_12m                       133826 non-null float64\n",
      "open_rv_24m                       133826 non-null float64\n",
      "max_bal_bc                        133826 non-null float64\n",
      "all_util                          133820 non-null float64\n",
      "total_rev_hi_lim                  133887 non-null float64\n",
      "inq_fi                            133826 non-null float64\n",
      "total_cu_tl                       133825 non-null float64\n",
      "inq_last_12m                      133825 non-null float64\n",
      "acc_open_past_24mths              133887 non-null float64\n",
      "avg_cur_bal                       133887 non-null float64\n",
      "bc_open_to_buy                    132776 non-null float64\n",
      "bc_util                           132712 non-null float64\n",
      "chargeoff_within_12_mths          133887 non-null float64\n",
      "delinq_amnt                       133887 non-null float64\n",
      "mo_sin_old_il_acct                130241 non-null float64\n",
      "mo_sin_old_rev_tl_op              133887 non-null float64\n",
      "mo_sin_rcnt_rev_tl_op             133887 non-null float64\n",
      "mo_sin_rcnt_tl                    133887 non-null float64\n",
      "mort_acc                          133887 non-null float64\n",
      "mths_since_recent_bc              132843 non-null float64\n",
      "mths_since_recent_bc_dlq          33756 non-null float64\n",
      "mths_since_recent_inq             120089 non-null float64\n",
      "mths_since_recent_revol_delinq    47783 non-null float64\n",
      "num_accts_ever_120_pd             133887 non-null float64\n",
      "num_actv_bc_tl                    133887 non-null float64\n",
      "num_actv_rev_tl                   133887 non-null float64\n",
      "num_bc_sats                       133887 non-null float64\n",
      "num_bc_tl                         133887 non-null float64\n",
      "num_il_tl                         133887 non-null float64\n",
      "num_op_rev_tl                     133887 non-null float64\n",
      "num_rev_accts                     133887 non-null float64\n",
      "num_rev_tl_bal_gt_0               133887 non-null float64\n",
      "num_sats                          133887 non-null float64\n",
      "num_tl_120dpd_2m                  126266 non-null float64\n",
      "dtypes: float64(75), object(25)\n",
      "memory usage: 102.1+ MB\n",
      "<class 'pandas.core.frame.DataFrame'>\n",
      "RangeIndex: 133889 entries, 0 to 133888\n",
      "Data columns (total 44 columns):\n",
      "num_tl_90g_dpd_24m                            133887 non-null float64\n",
      "num_tl_op_past_12m                            133887 non-null float64\n",
      "pct_tl_nvr_dlq                                133887 non-null float64\n",
      "percent_bc_gt_75                              132758 non-null float64\n",
      "pub_rec_bankruptcies                          133887 non-null float64\n",
      "tax_liens                                     133887 non-null float64\n",
      "tot_hi_cred_lim                               133887 non-null float64\n",
      "total_bal_ex_mort                             133887 non-null float64\n",
      "total_bc_limit                                133887 non-null float64\n",
      "total_il_high_credit_limit                    133887 non-null float64\n",
      "revol_bal_joint                               0 non-null float64\n",
      "sec_app_earliest_cr_line                      0 non-null float64\n",
      "sec_app_inq_last_6mths                        0 non-null float64\n",
      "sec_app_mort_acc                              0 non-null float64\n",
      "sec_app_open_acc                              0 non-null float64\n",
      "sec_app_revol_util                            0 non-null float64\n",
      "sec_app_open_act_il                           0 non-null float64\n",
      "sec_app_num_rev_accts                         0 non-null float64\n",
      "sec_app_chargeoff_within_12_mths              0 non-null float64\n",
      "sec_app_collections_12_mths_ex_med            0 non-null float64\n",
      "sec_app_mths_since_last_major_derog           0 non-null float64\n",
      "hardship_flag                                 133887 non-null object\n",
      "hardship_type                                 1009 non-null object\n",
      "hardship_reason                               1009 non-null object\n",
      "hardship_status                               1009 non-null object\n",
      "deferral_term                                 1009 non-null float64\n",
      "hardship_amount                               1009 non-null float64\n",
      "hardship_start_date                           1009 non-null object\n",
      "hardship_end_date                             1009 non-null object\n",
      "payment_plan_start_date                       1009 non-null object\n",
      "hardship_length                               1009 non-null float64\n",
      "hardship_dpd                                  1009 non-null float64\n",
      "hardship_loan_status                          1009 non-null object\n",
      "orig_projected_additional_accrued_interest    786 non-null float64\n",
      "hardship_payoff_balance_amount                1009 non-null float64\n",
      "hardship_last_payment_amount                  1009 non-null float64\n",
      "disbursement_method                           133887 non-null object\n",
      "debt_settlement_flag                          133887 non-null object\n",
      "debt_settlement_flag_date                     2253 non-null object\n",
      "settlement_status                             2253 non-null object\n",
      "settlement_date                               2253 non-null object\n",
      "settlement_amount                             2253 non-null float64\n",
      "settlement_percentage                         2253 non-null float64\n",
      "settlement_term                               2253 non-null float64\n",
      "dtypes: float64(31), object(13)\n",
      "memory usage: 44.9+ MB\n"
     ]
    }
   ],
   "source": [
    "#let's call .info() on all the columns in order to find null or mostly-null columns\n",
    "#loans['16Q1'].iloc[:,0:100].info()\n",
    "loan16q1.iloc[:,0:100].info()\n",
    "loan16q1.iloc[:,101:len(loan16q1.columns)].info()\n",
    "#id, member_id, url, desc, revol_bal_joint, sec_app_earliest_cr_line, sec_app_inq_last_6mths, sec_app_mort_acc,\n",
    "#sec_app_open_acc, sec_app_revol_util, sec_app_open_act_il, sec_app_num_rev_accts,sec_app_chargeoff_within_12_mths, \n",
    "#sec_app_collections_12_mths_ex_med, and sec_app_mths_since_last_major_derog are all entirely null \n",
    "#or almost entirely null values. Let's remove these columns.\n",
    "#annual_inc_joint, dti_joint, verification_status_joint columns have at most 2661 non-null values.    \n",
    "#hardship_type through hardship_last_payment_amount columns have at most 1009 non-null values.\n",
    "\n",
    "#loan16q1.describe()"
   ]
  },
  {
   "cell_type": "code",
   "execution_count": 4,
   "metadata": {
    "collapsed": false
   },
   "outputs": [],
   "source": [
    "#let's drop the null columns. these columns have zero or very few actual values\n",
    "coldrplist = ['id', 'member_id', 'url', 'desc', 'revol_bal_joint', 'sec_app_earliest_cr_line', 'sec_app_inq_last_6mths', 'sec_app_mort_acc',\n",
    "'sec_app_open_acc', 'sec_app_revol_util', 'sec_app_open_act_il', 'sec_app_num_rev_accts','sec_app_chargeoff_within_12_mths', \n",
    "'sec_app_collections_12_mths_ex_med', 'sec_app_mths_since_last_major_derog']\n",
    "\n",
    "loan16q1.drop(loan16q1.loc[:, coldrplist], inplace=True, axis=1)\n",
    "loan16q1 = loan16q1.drop(loan16q1.index[-2:]) #these rows are making all columns display NaN as a unique value,\n",
    "#so we should remove them\n"
   ]
  },
  {
   "cell_type": "code",
   "execution_count": null,
   "metadata": {
    "collapsed": true
   },
   "outputs": [],
   "source": [
    "#there are too many columns to analyze. we need to narrow down the dataframe.\n",
    "#let's ascertain the variables we will work with."
   ]
  },
  {
   "cell_type": "code",
   "execution_count": 6,
   "metadata": {
    "collapsed": false
   },
   "outputs": [
    {
     "name": "stdout",
     "output_type": "stream",
     "text": [
      "   loan_amnt int_rate grade emp_length home_ownership  annual_inc  \\\n",
      "0    25000.0   11.99%     C    2 years            OWN     76000.0   \n",
      "1    10000.0   14.46%     C        n/a           RENT     49000.0   \n",
      "2    34000.0   15.31%     C  10+ years       MORTGAGE    150000.0   \n",
      "3    15000.0    9.75%     B    5 years           RENT     85500.0   \n",
      "4    20000.0   11.47%     B    3 years           RENT     60000.0   \n",
      "\n",
      "  verification_status         loan_status             purpose zip_code  \\\n",
      "0            Verified         Charged Off         credit_card    337xx   \n",
      "1            Verified         Charged Off  debt_consolidation    142xx   \n",
      "2     Source Verified  Late (31-120 days)  debt_consolidation    140xx   \n",
      "3        Not Verified             Current         credit_card    606xx   \n",
      "4        Not Verified             Current         credit_card    953xx   \n",
      "\n",
      "        ...          dti  delinq_2yrs  pub_rec_bankruptcies  all_util  \\\n",
      "0       ...        28.83          0.0                   0.0      73.0   \n",
      "1       ...        33.73          0.0                   0.0      82.0   \n",
      "2       ...        13.81          2.0                   0.0      37.0   \n",
      "3       ...        10.90          0.0                   0.0      70.0   \n",
      "4       ...        23.92          0.0                   0.0      60.0   \n",
      "\n",
      "   tax_liens  num_accts_ever_120_pd  pct_tl_nvr_dlq  percent_bc_gt_75  \\\n",
      "0        0.0                    0.0           100.0              81.8   \n",
      "1        0.0                    0.0           100.0             100.0   \n",
      "2        0.0                    0.0            88.0               0.0   \n",
      "3        0.0                    1.0            90.0             100.0   \n",
      "4        0.0                    0.0            96.0              60.0   \n",
      "\n",
      "   inq_last_12m  mo_sin_rcnt_tl  \n",
      "0           3.0             0.0  \n",
      "1           3.0             5.0  \n",
      "2           3.0             3.0  \n",
      "3           0.0            20.0  \n",
      "4           2.0             2.0  \n",
      "\n",
      "[5 rows x 24 columns]\n"
     ]
    }
   ],
   "source": [
    "#now we narrow down the dataframe to a manageable subset of about 25 columns of interest. loan_status will\n",
    "#be our target variable. the other variables (such as grade, annual_inc, etc.) all seem to be relevant and \n",
    "#useful for predicting loan_status\n",
    "var_of_interest = ['loan_amnt','int_rate','grade','emp_length','home_ownership',\n",
    "'annual_inc','verification_status','loan_status','purpose','zip_code','addr_state','num_bc_tl',\n",
    "'num_il_tl','num_rev_accts','dti','delinq_2yrs','pub_rec_bankruptcies','all_util','tax_liens',\n",
    "'num_accts_ever_120_pd','pct_tl_nvr_dlq','percent_bc_gt_75','inq_last_12m','mo_sin_rcnt_tl']\n",
    "\n",
    "loan_subset = loan16q1.loc[:,var_of_interest]\n",
    "\n",
    "print(loan_subset.head())"
   ]
  },
  {
   "cell_type": "code",
   "execution_count": 7,
   "metadata": {
    "collapsed": false
   },
   "outputs": [
    {
     "name": "stdout",
     "output_type": "stream",
     "text": [
      "0    11.99\n",
      "1    14.46\n",
      "2    15.31\n",
      "3     9.75\n",
      "4    11.47\n",
      "Name: int_rate_mod, dtype: float64\n",
      "        int_rate_mod\n",
      "count  133887.000000\n",
      "mean       12.476372\n",
      "std         4.829205\n",
      "min         5.320000\n",
      "25%         8.490000\n",
      "50%        11.990000\n",
      "75%        15.310000\n",
      "max        28.990000\n"
     ]
    }
   ],
   "source": [
    "#int_rate was loaded in as an object type variable when it should be float type. let's write some code here to remove \n",
    "#the '%' symbol from the int_rate column and change the column type from object to float type\n",
    "\n",
    "# '%' is in the last position for each row, so we can access it this way\n",
    "loan_subset['int_rate_mod'] = loan_subset['int_rate'].str[:-1] \n",
    "\n",
    "#now that the percent sign is gone, we can convert the column to float\n",
    "loan_subset['int_rate_mod'] = loan_subset['int_rate_mod'].astype('float')\n",
    "\n",
    "print(loan_subset['int_rate_mod'].head())\n",
    "print(loan_subset[['int_rate_mod']].describe()) #int_rate is now of float type\n"
   ]
  },
  {
   "cell_type": "code",
   "execution_count": 12,
   "metadata": {
    "collapsed": false
   },
   "outputs": [
    {
     "name": "stdout",
     "output_type": "stream",
     "text": [
      "10+ years    46347\n",
      "2 years      11849\n",
      "3 years      10735\n",
      "< 1 year     10082\n",
      "N/A           8944\n",
      "1 year        8703\n",
      "5 years       8062\n",
      "4 years       7789\n",
      "8 years       6330\n",
      "6 years       5379\n",
      "9 years       5202\n",
      "7 years       4465\n",
      "Name: emp_length_mod, dtype: int64\n",
      "10    46347\n",
      "1     18785\n",
      "2     11849\n",
      "3     10735\n",
      "0      8944\n",
      "5      8062\n",
      "4      7789\n",
      "8      6330\n",
      "6      5379\n",
      "9      5202\n",
      "7      4465\n",
      "Name: emp_length_mod, dtype: int64\n"
     ]
    }
   ],
   "source": [
    "#printing the dataframe also reveals that emp_length is represented as a categorical rather than numerical variable\n",
    "#it would be more intuitive to convert these categories to their associated integer values\n",
    "loan_subset['emp_length_mod'] = loan_subset['emp_length']\n",
    "loan_subset['emp_length_mod'].value_counts() #unique category value counts before\n",
    "\n",
    "#we will replace n/a values for emp_length with 'N/A'\n",
    "\n",
    "#replace emp_length na's with 'N/A' based on emp_length == 'n/a'\n",
    "loan_subset.loc[loan_subset['emp_length_mod'] == 'n/a', 'emp_length_mod'] = 'N/A'\n",
    "\n",
    "print(loan_subset['emp_length_mod'].value_counts())\n",
    "\n",
    "\n",
    "#Now let's convert the emp_length categories into numerical data. For example, 10+ years = 10, 2 years = 2, etc.\n",
    "#In addition, we will convert 'N/A' values to zero. Through both of these steps we lose some information because N/A \n",
    "#may not necessarily equal zero, '< 1 year' never equals 1 (although it will frequently be close),\n",
    "#and '10+ years' won't always equal 10. What we are doing here is called 'censoring', i.e., data points are above (10 years)\n",
    "#or below (1 year) a certain value, but it is unknown by how much.\n",
    "loan_subset.replace('N/A', np.nan,inplace=True)\n",
    "loan_subset.emp_length_mod.fillna(value=0,inplace=True)\n",
    "loan_subset['emp_length_mod'].replace(to_replace='[^0-9]+', value='', inplace=True, regex=True)\n",
    "loan_subset['emp_length_mod'] = loan_subset['emp_length_mod'].astype(int)\n",
    "\n",
    "\n",
    "print(loan_subset['emp_length_mod'].value_counts())"
   ]
  },
  {
   "cell_type": "code",
   "execution_count": 11,
   "metadata": {
    "collapsed": false
   },
   "outputs": [],
   "source": [
    "#as can be seen in the earlier printout of loan16q1.info(), there are numerous NaN values.\n",
    "#now we begin the process of NaN removal  \n"
   ]
  },
  {
   "cell_type": "code",
   "execution_count": 13,
   "metadata": {
    "collapsed": false
   },
   "outputs": [
    {
     "name": "stdout",
     "output_type": "stream",
     "text": [
      "loan_amnt                   0\n",
      "int_rate                    0\n",
      "grade                       0\n",
      "emp_length                  0\n",
      "home_ownership              0\n",
      "annual_inc                  0\n",
      "verification_status         0\n",
      "loan_status                 0\n",
      "purpose                     0\n",
      "zip_code                    0\n",
      "addr_state                  0\n",
      "num_bc_tl                   0\n",
      "num_il_tl                   0\n",
      "num_rev_accts               0\n",
      "dti                        17\n",
      "delinq_2yrs                 0\n",
      "pub_rec_bankruptcies        0\n",
      "all_util                   67\n",
      "tax_liens                   0\n",
      "num_accts_ever_120_pd       0\n",
      "pct_tl_nvr_dlq              0\n",
      "percent_bc_gt_75         1129\n",
      "inq_last_12m               62\n",
      "mo_sin_rcnt_tl              0\n",
      "int_rate_mod                0\n",
      "emp_length_mod              0\n",
      "dtype: int64\n",
      "        loan_amnt int_rate grade emp_length home_ownership  annual_inc  \\\n",
      "421        5000.0   10.75%     B  10+ years           RENT    25662.00   \n",
      "498        8000.0   11.99%     C   < 1 year           RENT    80000.00   \n",
      "695        5000.0   16.29%     D    4 years           RENT    25000.00   \n",
      "856        2400.0   21.18%     E     1 year           RENT    18200.00   \n",
      "1378      11675.0   18.99%     D    6 years       MORTGAGE    45000.00   \n",
      "3103       3500.0   18.99%     D  10+ years       MORTGAGE    65000.00   \n",
      "3248      14000.0   19.53%     D     1 year            OWN    41000.00   \n",
      "3261       7475.0   19.53%     D  10+ years            OWN    22000.00   \n",
      "3467      10200.0   22.45%     E    4 years           RENT    34000.00   \n",
      "4225       7125.0   15.31%     C     1 year           RENT    21000.00   \n",
      "4478      12600.0   28.14%     G     1 year           RENT    35000.00   \n",
      "4499      16500.0   14.46%     C    5 years           RENT   130000.00   \n",
      "4895       3350.0   21.18%     E    2 years           RENT    30000.00   \n",
      "5497       8000.0   16.29%     D  10+ years       MORTGAGE    50000.00   \n",
      "6360       4150.0   27.34%     G   < 1 year           RENT    27000.00   \n",
      "6443      25000.0   11.99%     C    4 years       MORTGAGE   215000.00   \n",
      "6798      29250.0   28.14%     G  10+ years       MORTGAGE    77004.00   \n",
      "7074       3200.0   11.99%     C        n/a           RENT    44000.00   \n",
      "7262       3000.0   18.25%     D    8 years           RENT    36300.00   \n",
      "7495      20000.0   11.99%     C    2 years       MORTGAGE    45000.00   \n",
      "7932       4500.0   14.46%     C   < 1 year       MORTGAGE    30000.00   \n",
      "8395       3000.0   11.99%     C  10+ years       MORTGAGE    66127.00   \n",
      "8920      16700.0   28.99%     G   < 1 year           RENT    33405.00   \n",
      "9190      11200.0   19.53%     D     1 year            OWN    58000.00   \n",
      "9394      20000.0   21.97%     E  10+ years       MORTGAGE   136000.00   \n",
      "9643       5000.0   11.47%     B    8 years            OWN    35000.00   \n",
      "11866     24000.0   11.99%     C  10+ years           RENT    54000.00   \n",
      "11923     20000.0   18.25%     D  10+ years       MORTGAGE    80000.00   \n",
      "12730     12150.0   20.75%     E    4 years       MORTGAGE    47000.00   \n",
      "12932     21500.0   24.99%     F    5 years            OWN    43000.00   \n",
      "...           ...      ...   ...        ...            ...         ...   \n",
      "118685    24600.0   14.85%     C    9 years       MORTGAGE    95588.00   \n",
      "119198     9300.0   28.49%     G  10+ years            OWN    40000.00   \n",
      "119276     5300.0    8.49%     B        n/a       MORTGAGE    20400.00   \n",
      "119554     4200.0   11.99%     C  10+ years           RENT    65000.00   \n",
      "119699     6050.0   26.06%     F    3 years       MORTGAGE    50000.00   \n",
      "120500     3000.0   11.99%     C        n/a       MORTGAGE    32000.00   \n",
      "121861     5000.0   13.44%     C  10+ years       MORTGAGE   120000.00   \n",
      "121983    18000.0   19.48%     E  10+ years           RENT   107655.00   \n",
      "122143    24000.0   11.48%     B  10+ years       MORTGAGE    85000.00   \n",
      "122367     9800.0   18.99%     E  10+ years       MORTGAGE   100000.00   \n",
      "123385    10000.0   27.49%     G    3 years            OWN    31000.00   \n",
      "123552     5000.0   15.77%     D    4 years            OWN    80000.00   \n",
      "124345     2400.0   10.78%     B    7 years       MORTGAGE   100000.00   \n",
      "124553    13750.0   13.99%     C    6 years       MORTGAGE    35000.00   \n",
      "124630     7800.0   19.89%     E        n/a           RENT    17769.00   \n",
      "125072    10325.0   18.49%     D    5 years       MORTGAGE   110000.00   \n",
      "125570     5500.0   13.99%     C    3 years       MORTGAGE    19200.00   \n",
      "126408     7675.0   23.13%     F   < 1 year           RENT    24000.00   \n",
      "126485     1500.0   13.99%     C    9 years       MORTGAGE    60000.00   \n",
      "126534    20000.0   11.99%     C    8 years       MORTGAGE   100000.00   \n",
      "126653     5000.0   16.59%     D    6 years           RENT    50000.00   \n",
      "127442     4000.0    9.17%     B    4 years       MORTGAGE    54000.00   \n",
      "127782     3350.0   13.44%     C    8 years           RENT    27000.00   \n",
      "128501    33600.0   27.99%     G    2 years            OWN    80000.00   \n",
      "129189     8000.0   11.99%     C  10+ years       MORTGAGE    78865.44   \n",
      "129900    12000.0    9.80%     B     1 year           RENT    32000.00   \n",
      "132315    30000.0   18.99%     E        n/a           RENT    94800.00   \n",
      "132551     3000.0   16.59%     D   < 1 year           RENT    24000.00   \n",
      "132623     3500.0   16.59%     D    9 years           RENT    54000.00   \n",
      "132651    32250.0   13.99%     C    3 years       MORTGAGE   108824.00   \n",
      "\n",
      "       verification_status         loan_status             purpose zip_code  \\\n",
      "421        Source Verified             Current  debt_consolidation    322xx   \n",
      "498        Source Verified   Late (16-30 days)  debt_consolidation    325xx   \n",
      "695        Source Verified             Current               other    497xx   \n",
      "856        Source Verified             Current                 car    493xx   \n",
      "1378       Source Verified          Fully Paid  debt_consolidation    322xx   \n",
      "3103       Source Verified          Fully Paid  debt_consolidation    499xx   \n",
      "3248          Not Verified             Current         credit_card    706xx   \n",
      "3261       Source Verified          Fully Paid  debt_consolidation    394xx   \n",
      "3467              Verified             Current  debt_consolidation    626xx   \n",
      "4225       Source Verified             Current  debt_consolidation    871xx   \n",
      "4478              Verified          Fully Paid  debt_consolidation    871xx   \n",
      "4499              Verified             Current  debt_consolidation    605xx   \n",
      "4895       Source Verified             Current  debt_consolidation    327xx   \n",
      "5497          Not Verified             Current  debt_consolidation    547xx   \n",
      "6360       Source Verified             Current  debt_consolidation    109xx   \n",
      "6443       Source Verified             Current  debt_consolidation    221xx   \n",
      "6798              Verified         Charged Off  debt_consolidation    184xx   \n",
      "7074       Source Verified          Fully Paid  debt_consolidation    933xx   \n",
      "7262       Source Verified             Current               other    114xx   \n",
      "7495              Verified          Fully Paid  debt_consolidation    704xx   \n",
      "7932       Source Verified         Charged Off  debt_consolidation    660xx   \n",
      "8395       Source Verified             Current  debt_consolidation    180xx   \n",
      "8920              Verified         Charged Off  debt_consolidation    370xx   \n",
      "9190       Source Verified          Fully Paid    home_improvement    252xx   \n",
      "9394       Source Verified             Current      major_purchase    030xx   \n",
      "9643              Verified          Fully Paid            vacation    395xx   \n",
      "11866             Verified  Late (31-120 days)  debt_consolidation    762xx   \n",
      "11923             Verified         Charged Off  debt_consolidation    322xx   \n",
      "12730         Not Verified         Charged Off  debt_consolidation    230xx   \n",
      "12932             Verified             Current  debt_consolidation    773xx   \n",
      "...                    ...                 ...                 ...      ...   \n",
      "118685        Not Verified          Fully Paid         credit_card    232xx   \n",
      "119198            Verified         Charged Off               house    283xx   \n",
      "119276        Not Verified          Fully Paid      major_purchase    224xx   \n",
      "119554        Not Verified             Current               other    917xx   \n",
      "119699            Verified             Current      small_business    604xx   \n",
      "120500            Verified          Fully Paid    home_improvement    451xx   \n",
      "121861     Source Verified         Charged Off    home_improvement    320xx   \n",
      "121983     Source Verified          Fully Paid  debt_consolidation    920xx   \n",
      "122143            Verified             Current  debt_consolidation    078xx   \n",
      "122367            Verified             Current    home_improvement    640xx   \n",
      "123385     Source Verified         Charged Off         credit_card    315xx   \n",
      "123552            Verified          Fully Paid               other    349xx   \n",
      "124345            Verified          Fully Paid  debt_consolidation    952xx   \n",
      "124553            Verified          Fully Paid  debt_consolidation    235xx   \n",
      "124630            Verified         Charged Off  debt_consolidation    448xx   \n",
      "125072            Verified             Current    home_improvement    705xx   \n",
      "125570        Not Verified          Fully Paid  debt_consolidation    378xx   \n",
      "126408            Verified          Fully Paid    home_improvement    054xx   \n",
      "126485        Not Verified          Fully Paid  debt_consolidation    928xx   \n",
      "126534     Source Verified             Current  debt_consolidation    170xx   \n",
      "126653            Verified             Current              moving    072xx   \n",
      "127442        Not Verified          Fully Paid         credit_card    286xx   \n",
      "127782        Not Verified             Current  debt_consolidation    402xx   \n",
      "128501            Verified          Fully Paid      major_purchase    550xx   \n",
      "129189        Not Verified          Fully Paid  debt_consolidation    920xx   \n",
      "129900     Source Verified          Fully Paid  debt_consolidation    919xx   \n",
      "132315     Source Verified         Charged Off  debt_consolidation    934xx   \n",
      "132551     Source Verified             Current                 car    063xx   \n",
      "132623            Verified             Current  debt_consolidation    880xx   \n",
      "132651            Verified  Late (31-120 days)  debt_consolidation    765xx   \n",
      "\n",
      "             ...       pub_rec_bankruptcies  all_util  tax_liens  \\\n",
      "421          ...                        0.0      67.0        0.0   \n",
      "498          ...                        0.0      46.0        1.0   \n",
      "695          ...                        0.0      58.0        0.0   \n",
      "856          ...                        0.0      21.0        0.0   \n",
      "1378         ...                        0.0      81.0        0.0   \n",
      "3103         ...                        0.0      87.0        0.0   \n",
      "3248         ...                        0.0      89.0        0.0   \n",
      "3261         ...                        0.0      65.0        0.0   \n",
      "3467         ...                        0.0      35.0        0.0   \n",
      "4225         ...                        0.0      89.0        0.0   \n",
      "4478         ...                        0.0      83.0        0.0   \n",
      "4499         ...                        2.0      52.0        0.0   \n",
      "4895         ...                        0.0       7.0        0.0   \n",
      "5497         ...                        0.0      85.0        0.0   \n",
      "6360         ...                        0.0     101.0        0.0   \n",
      "6443         ...                        0.0      64.0        0.0   \n",
      "6798         ...                        0.0      74.0        0.0   \n",
      "7074         ...                        1.0      85.0        0.0   \n",
      "7262         ...                        0.0      84.0        0.0   \n",
      "7495         ...                        0.0      66.0        0.0   \n",
      "7932         ...                        0.0      34.0        0.0   \n",
      "8395         ...                        0.0      81.0        0.0   \n",
      "8920         ...                        0.0      71.0        0.0   \n",
      "9190         ...                        1.0      87.0        0.0   \n",
      "9394         ...                        0.0      66.0        0.0   \n",
      "9643         ...                        0.0      28.0        0.0   \n",
      "11866        ...                        0.0      72.0        0.0   \n",
      "11923        ...                        0.0      78.0        0.0   \n",
      "12730        ...                        0.0      91.0        0.0   \n",
      "12932        ...                        0.0      82.0        0.0   \n",
      "...          ...                        ...       ...        ...   \n",
      "118685       ...                        0.0      60.0        0.0   \n",
      "119198       ...                        0.0      51.0        0.0   \n",
      "119276       ...                        0.0       3.0        0.0   \n",
      "119554       ...                        2.0      65.0        0.0   \n",
      "119699       ...                        0.0     108.0        0.0   \n",
      "120500       ...                        0.0      58.0        0.0   \n",
      "121861       ...                        0.0     110.0        0.0   \n",
      "121983       ...                        0.0      60.0        0.0   \n",
      "122143       ...                        0.0      29.0        0.0   \n",
      "122367       ...                        1.0      84.0        0.0   \n",
      "123385       ...                        0.0      95.0        0.0   \n",
      "123552       ...                        0.0      76.0        0.0   \n",
      "124345       ...                        0.0      63.0        0.0   \n",
      "124553       ...                        0.0      68.0        0.0   \n",
      "124630       ...                        0.0      94.0        0.0   \n",
      "125072       ...                        0.0      17.0        0.0   \n",
      "125570       ...                        1.0       0.0        0.0   \n",
      "126408       ...                        0.0      57.0        0.0   \n",
      "126485       ...                        0.0      64.0        0.0   \n",
      "126534       ...                        0.0      63.0        0.0   \n",
      "126653       ...                        0.0      42.0        0.0   \n",
      "127442       ...                        0.0      56.0        0.0   \n",
      "127782       ...                        0.0      79.0        0.0   \n",
      "128501       ...                        0.0      93.0        0.0   \n",
      "129189       ...                        0.0      78.0        0.0   \n",
      "129900       ...                        0.0      66.0        0.0   \n",
      "132315       ...                        0.0      87.0        1.0   \n",
      "132551       ...                        0.0      74.0        0.0   \n",
      "132623       ...                        0.0      85.0        0.0   \n",
      "132651       ...                        0.0      76.0        0.0   \n",
      "\n",
      "        num_accts_ever_120_pd  pct_tl_nvr_dlq  percent_bc_gt_75  inq_last_12m  \\\n",
      "421                       0.0           100.0               NaN           0.0   \n",
      "498                       0.0           100.0               NaN           2.0   \n",
      "695                       0.0           100.0               NaN           1.0   \n",
      "856                       0.0           100.0               NaN           2.0   \n",
      "1378                      0.0           100.0               NaN           4.0   \n",
      "3103                      1.0            93.7               NaN           3.0   \n",
      "3248                      1.0            90.0               NaN           4.0   \n",
      "3261                      0.0            92.9               NaN           3.0   \n",
      "3467                      0.0           100.0               NaN           0.0   \n",
      "4225                      0.0           100.0               NaN           1.0   \n",
      "4478                      0.0           100.0               NaN           0.0   \n",
      "4499                      0.0            94.4               NaN           9.0   \n",
      "4895                      1.0            75.0               NaN           0.0   \n",
      "5497                      1.0            82.8               NaN           1.0   \n",
      "6360                      0.0           100.0               NaN           0.0   \n",
      "6443                      0.0            95.0               NaN           2.0   \n",
      "6798                      0.0            96.9               NaN           2.0   \n",
      "7074                      0.0           100.0               NaN           1.0   \n",
      "7262                      0.0            93.7               NaN           2.0   \n",
      "7495                      1.0            94.4               NaN           3.0   \n",
      "7932                      0.0           100.0               NaN           3.0   \n",
      "8395                      0.0            92.9               NaN           2.0   \n",
      "8920                      1.0            92.9               NaN           0.0   \n",
      "9190                      0.0           100.0               NaN           2.0   \n",
      "9394                      2.0            85.0               NaN           2.0   \n",
      "9643                      0.0           100.0               NaN           1.0   \n",
      "11866                     0.0           100.0               NaN           1.0   \n",
      "11923                     1.0            92.9               NaN           3.0   \n",
      "12730                     0.0           100.0               NaN           2.0   \n",
      "12932                     0.0           100.0               NaN           0.0   \n",
      "...                       ...             ...               ...           ...   \n",
      "118685                    1.0            90.9               NaN           0.0   \n",
      "119198                    1.0            85.7               NaN           1.0   \n",
      "119276                    0.0           100.0               NaN           0.0   \n",
      "119554                    0.0           100.0               NaN           1.0   \n",
      "119699                    0.0           100.0               NaN          19.0   \n",
      "120500                    0.0           100.0               NaN           0.0   \n",
      "121861                    1.0            72.7               NaN           5.0   \n",
      "121983                    0.0           100.0               NaN           2.0   \n",
      "122143                    1.0            83.0               NaN           0.0   \n",
      "122367                    0.0            92.6               NaN           7.0   \n",
      "123385                    0.0           100.0               NaN           1.0   \n",
      "123552                    0.0           100.0               NaN           3.0   \n",
      "124345                    0.0           100.0               NaN           0.0   \n",
      "124553                    0.0           100.0               NaN           2.0   \n",
      "124630                    0.0           100.0               NaN           0.0   \n",
      "125072                    0.0            88.9               NaN           0.0   \n",
      "125570                    0.0           100.0               NaN           2.0   \n",
      "126408                    0.0           100.0               NaN           0.0   \n",
      "126485                    2.0            76.2               NaN           0.0   \n",
      "126534                    0.0           100.0               NaN           2.0   \n",
      "126653                    0.0           100.0               NaN           0.0   \n",
      "127442                    0.0            88.0               NaN           0.0   \n",
      "127782                    0.0            66.7               NaN           4.0   \n",
      "128501                    0.0           100.0               NaN           2.0   \n",
      "129189                    0.0            88.9               NaN           2.0   \n",
      "129900                    0.0           100.0               NaN           0.0   \n",
      "132315                    0.0            76.0               NaN           4.0   \n",
      "132551                    0.0           100.0               NaN           0.0   \n",
      "132623                    0.0            94.7               NaN           1.0   \n",
      "132651                    0.0           100.0               NaN           0.0   \n",
      "\n",
      "        mo_sin_rcnt_tl  int_rate_mod  emp_length_mod  \n",
      "421                5.0         10.75              10  \n",
      "498                7.0         11.99               1  \n",
      "695               19.0         16.29               4  \n",
      "856               19.0         21.18               1  \n",
      "1378               1.0         18.99               6  \n",
      "3103               5.0         18.99              10  \n",
      "3248               4.0         19.53               1  \n",
      "3261               3.0         19.53              10  \n",
      "3467               6.0         22.45               4  \n",
      "4225               6.0         15.31               1  \n",
      "4478               3.0         28.14               1  \n",
      "4499               4.0         14.46               5  \n",
      "4895              18.0         21.18               2  \n",
      "5497              24.0         16.29              10  \n",
      "6360              20.0         27.34               1  \n",
      "6443               3.0         11.99               4  \n",
      "6798               1.0         28.14              10  \n",
      "7074               1.0         11.99               0  \n",
      "7262               3.0         18.25               8  \n",
      "7495              10.0         11.99               2  \n",
      "7932               5.0         14.46               1  \n",
      "8395              10.0         11.99              10  \n",
      "8920               3.0         28.99               1  \n",
      "9190               5.0         19.53               1  \n",
      "9394              11.0         21.97              10  \n",
      "9643               6.0         11.47               8  \n",
      "11866              5.0         11.99              10  \n",
      "11923             11.0         18.25              10  \n",
      "12730              4.0         20.75               4  \n",
      "12932             34.0         24.99               5  \n",
      "...                ...           ...             ...  \n",
      "118685             9.0         14.85               9  \n",
      "119198            14.0         28.49              10  \n",
      "119276            30.0          8.49               0  \n",
      "119554             8.0         11.99              10  \n",
      "119699             4.0         26.06               3  \n",
      "120500             7.0         11.99               0  \n",
      "121861             3.0         13.44              10  \n",
      "121983             7.0         19.48              10  \n",
      "122143             5.0         11.48              10  \n",
      "122367             6.0         18.99              10  \n",
      "123385             5.0         27.49               3  \n",
      "123552             5.0         15.77               4  \n",
      "124345             4.0         10.78               7  \n",
      "124553             8.0         13.99               6  \n",
      "124630            26.0         19.89               0  \n",
      "125072            27.0         18.49               5  \n",
      "125570             3.0         13.99               3  \n",
      "126408             2.0         23.13               1  \n",
      "126485             5.0         13.99               9  \n",
      "126534             9.0         11.99               8  \n",
      "126653            22.0         16.59               6  \n",
      "127442            14.0          9.17               4  \n",
      "127782            12.0         13.44               8  \n",
      "128501             8.0         27.99               2  \n",
      "129189             9.0         11.99              10  \n",
      "129900            49.0          9.80               1  \n",
      "132315             2.0         18.99               0  \n",
      "132551             9.0         16.59               1  \n",
      "132623             2.0         16.59               9  \n",
      "132651             4.0         13.99               3  \n",
      "\n",
      "[241 rows x 26 columns]\n"
     ]
    }
   ],
   "source": [
    "#get amount of nan values in each column\n",
    "print(loan_subset.isnull().sum())\n",
    "\n",
    "#there are 1129 NaN values for percent_bc_gt_75. however, this can explained by the fact that some\n",
    "#borrowers probably don't have bankcard accounts. if rows with NaN for percent_bc_gt_75 also display the value 0 \n",
    "#for number of bankcard accounts (num_bc_tl), then we should replace NaN with the value 0 for percent_bc_gt_75.\n",
    "print(loan_subset[(loan_subset['percent_bc_gt_75'].isnull()) & (loan_subset['num_bc_tl'] == 0)])\n",
    "\n",
    "#there are 241 rows that meet this condition. we should therefore relabel NaN as 0 for these instances of percent_bc_gt_75"
   ]
  },
  {
   "cell_type": "code",
   "execution_count": 14,
   "metadata": {
    "collapsed": false
   },
   "outputs": [
    {
     "name": "stdout",
     "output_type": "stream",
     "text": [
      "Series([], Name: percent_bc_gt_75_mod, dtype: float64)\n",
      "888\n"
     ]
    }
   ],
   "source": [
    "#replace NaN values in percent_bc_gt_75 with 0 when the conditions that percent_bc_gt_75 is null and num_bc_tl == 0 \n",
    "#are both true \n",
    "loan_subset['percent_bc_gt_75_mod'] = loan_subset['percent_bc_gt_75']\n",
    "\n",
    "loan_subset.loc[np.logical_and(loan_subset['percent_bc_gt_75_mod'].isnull(), loan_subset['num_bc_tl'] == 0), 'percent_bc_gt_75_mod'] = 0\n",
    "\n",
    "#reprinting the percent_bc_gt_75 column based on the two conditions afterwards confirms that the replacement worked.\n",
    "#there are no more NaN values (when both these conditions are true)\n",
    "print(loan_subset.loc[np.logical_and(loan_subset['percent_bc_gt_75_mod'].isnull(), loan_subset['num_bc_tl'] == 0),'percent_bc_gt_75_mod'])\n",
    "\n",
    "print(loan_subset['percent_bc_gt_75_mod'].isnull().sum()) #we saved 241 rows from deletion"
   ]
  },
  {
   "cell_type": "code",
   "execution_count": 15,
   "metadata": {
    "collapsed": false
   },
   "outputs": [
    {
     "name": "stdout",
     "output_type": "stream",
     "text": [
      "loan_amnt                   0\n",
      "int_rate                    0\n",
      "grade                       0\n",
      "emp_length                  0\n",
      "home_ownership              0\n",
      "annual_inc                  0\n",
      "verification_status         0\n",
      "loan_status                 0\n",
      "purpose                     0\n",
      "zip_code                    0\n",
      "addr_state                  0\n",
      "num_bc_tl                   0\n",
      "num_il_tl                   0\n",
      "num_rev_accts               0\n",
      "dti                        17\n",
      "delinq_2yrs                 0\n",
      "pub_rec_bankruptcies        0\n",
      "all_util                   67\n",
      "tax_liens                   0\n",
      "num_accts_ever_120_pd       0\n",
      "pct_tl_nvr_dlq              0\n",
      "percent_bc_gt_75         1129\n",
      "inq_last_12m               62\n",
      "mo_sin_rcnt_tl              0\n",
      "int_rate_mod                0\n",
      "emp_length_mod              0\n",
      "percent_bc_gt_75_mod      888\n",
      "dtype: int64\n",
      "loan_amnt                133887\n",
      "int_rate                 133887\n",
      "grade                    133887\n",
      "emp_length               133887\n",
      "home_ownership           133887\n",
      "annual_inc               133887\n",
      "verification_status      133887\n",
      "loan_status              133887\n",
      "purpose                  133887\n",
      "zip_code                 133887\n",
      "addr_state               133887\n",
      "num_bc_tl                133887\n",
      "num_il_tl                133887\n",
      "num_rev_accts            133887\n",
      "dti                      133870\n",
      "delinq_2yrs              133887\n",
      "pub_rec_bankruptcies     133887\n",
      "all_util                 133820\n",
      "tax_liens                133887\n",
      "num_accts_ever_120_pd    133887\n",
      "pct_tl_nvr_dlq           133887\n",
      "percent_bc_gt_75         132758\n",
      "inq_last_12m             133825\n",
      "mo_sin_rcnt_tl           133887\n",
      "int_rate_mod             133887\n",
      "emp_length_mod           133887\n",
      "percent_bc_gt_75_mod     132999\n",
      "dtype: int64\n"
     ]
    }
   ],
   "source": [
    "print(loan_subset.isnull().sum()) #we have much fewer NaN values now. let's remove the all the rows with the remaining NaN values\n",
    "print(loan_subset.count()) #as can be seen, the total amount of rows with NaN values (1034) is less than 1% of the entire row \n",
    "#count 133887. it will likely not result in a huge loss of information if we delete these rows entirely. we will also plot \n",
    "#describe() for selected variables in order to see if mean,min,max, etc. have changed significantly as a result of row removal."
   ]
  },
  {
   "cell_type": "code",
   "execution_count": 16,
   "metadata": {
    "collapsed": false
   },
   "outputs": [
    {
     "name": "stdout",
     "output_type": "stream",
     "text": [
      "           loan_amnt\n",
      "count  133887.000000\n",
      "mean    15589.394041\n",
      "std      8858.198349\n",
      "min      1000.000000\n",
      "25%      8400.000000\n",
      "50%     14400.000000\n",
      "75%     21000.000000\n",
      "max     40000.000000\n",
      "        int_rate_mod\n",
      "count  133887.000000\n",
      "mean       12.476372\n",
      "std         4.829205\n",
      "min         5.320000\n",
      "25%         8.490000\n",
      "50%        11.990000\n",
      "75%        15.310000\n",
      "max        28.990000\n",
      "         grade\n",
      "count   133887\n",
      "unique       7\n",
      "top          B\n",
      "freq     40267\n",
      "         annual_inc\n",
      "count  1.338870e+05\n",
      "mean   8.046397e+04\n",
      "std    7.808478e+04\n",
      "min    0.000000e+00\n",
      "25%    4.950000e+04\n",
      "50%    6.800000e+04\n",
      "75%    9.500800e+04\n",
      "max    9.550000e+06\n",
      "       loan_status\n",
      "count       133887\n",
      "unique           7\n",
      "top        Current\n",
      "freq         64251\n",
      "                   purpose\n",
      "count               133887\n",
      "unique                  12\n",
      "top     debt_consolidation\n",
      "freq                 76687\n",
      "                 dti\n",
      "count  133870.000000\n",
      "mean       19.547033\n",
      "std         9.966931\n",
      "min        -1.000000\n",
      "25%        12.640000\n",
      "50%        18.760000\n",
      "75%        25.770000\n",
      "max       999.000000\n",
      "         delinq_2yrs\n",
      "count  133887.000000\n",
      "mean        0.343476\n",
      "std         0.908581\n",
      "min         0.000000\n",
      "25%         0.000000\n",
      "50%         0.000000\n",
      "75%         0.000000\n",
      "max        22.000000\n",
      "       pub_rec_bankruptcies\n",
      "count         133887.000000\n",
      "mean               0.130476\n",
      "std                0.383625\n",
      "min                0.000000\n",
      "25%                0.000000\n",
      "50%                0.000000\n",
      "75%                0.000000\n",
      "max                9.000000\n",
      "            all_util\n",
      "count  133820.000000\n",
      "mean       60.654499\n",
      "std        19.945103\n",
      "min         0.000000\n",
      "25%        48.000000\n",
      "50%        62.000000\n",
      "75%        75.000000\n",
      "max       198.000000\n",
      "       num_accts_ever_120_pd\n",
      "count          133887.000000\n",
      "mean                0.518908\n",
      "std                 1.336043\n",
      "min                 0.000000\n",
      "25%                 0.000000\n",
      "50%                 0.000000\n",
      "75%                 0.000000\n",
      "max                38.000000\n",
      "       percent_bc_gt_75_mod\n",
      "count         132999.000000\n",
      "mean              44.477471\n",
      "std               36.056552\n",
      "min                0.000000\n",
      "25%                9.100000\n",
      "50%               40.000000\n",
      "75%               75.000000\n",
      "max              100.000000\n"
     ]
    }
   ],
   "source": [
    "#let's print out descriptive statistics for selected columns to see if there is any significant effect on the \n",
    "#statistics as a result of removing all the remaining rows with NaN values. These are the stats before NaN removal:\n",
    "#let's create a sublist of the selected columns\n",
    "\n",
    "var_sublist_before = ['loan_amnt','int_rate_mod','grade','annual_inc','loan_status','purpose','dti','delinq_2yrs','pub_rec_bankruptcies',\n",
    "'all_util','num_accts_ever_120_pd','percent_bc_gt_75_mod']\n",
    "\n",
    "#descriptive statistics before NaN removal:\n",
    "for col in var_sublist_before:\n",
    "    print(loan_subset[[col]].describe())"
   ]
  },
  {
   "cell_type": "code",
   "execution_count": 17,
   "metadata": {
    "collapsed": false
   },
   "outputs": [
    {
     "name": "stdout",
     "output_type": "stream",
     "text": [
      "dti  contains NaN values:  True\n",
      "all_util  contains NaN values:  True\n",
      "percent_bc_gt_75_mod  contains NaN values:  True\n",
      "inq_last_12m  contains NaN values:  True\n",
      " \n",
      "Confirming NaN removal:\n",
      "All NaN values are removed!\n"
     ]
    }
   ],
   "source": [
    "var_of_interest2 = ['loan_amnt','int_rate_mod','grade','emp_length_mod','home_ownership',\n",
    "'annual_inc','verification_status','loan_status','purpose','zip_code','addr_state','num_bc_tl',\n",
    "'num_il_tl','num_rev_accts','dti','delinq_2yrs','pub_rec_bankruptcies','all_util','tax_liens',\n",
    "'num_accts_ever_120_pd','pct_tl_nvr_dlq','percent_bc_gt_75_mod','inq_last_12m','mo_sin_rcnt_tl']\n",
    "\n",
    "#loop through loan_subset using var_of_interest variable list to determine which columns have nan values.\n",
    "#we will drop all remaining rows with NaN values from the entire loan_subset dataframe instead of replacing\n",
    "#the NaNs with  alternative values\n",
    "\n",
    "for col in var_of_interest2:\n",
    "    if loan_subset[[col]].isnull().values.any():\n",
    "        print(str(col) + \"  \" + \"contains NaN values: \" + \" \" + str(loan_subset[[col]].isnull().values.any()))  \n",
    "\n",
    "        \n",
    "loan_subset = loan_subset.dropna(how = 'any')\n",
    "\n",
    "print(\" \")\n",
    "print('Confirming NaN removal:')\n",
    "for col in var_of_interest2:\n",
    "    if loan_subset[[col]].isnull().values.any():\n",
    "        print(str(col) + \"  \" + \"contains NaN values: \" + \" \" + str(loan_subset[[col]].isnull().values.any()))\n",
    "    else:\n",
    "        break\n",
    "\n",
    "print('All NaN values are removed!')\n"
   ]
  },
  {
   "cell_type": "code",
   "execution_count": 18,
   "metadata": {
    "collapsed": false
   },
   "outputs": [
    {
     "name": "stdout",
     "output_type": "stream",
     "text": [
      "           loan_amnt\n",
      "count  132677.000000\n",
      "mean    15621.095593\n",
      "std      8855.142879\n",
      "min      1000.000000\n",
      "25%      8500.000000\n",
      "50%     14400.000000\n",
      "75%     21000.000000\n",
      "max     40000.000000\n",
      "        int_rate_mod\n",
      "count  132677.000000\n",
      "mean       12.457746\n",
      "std         4.819919\n",
      "min         5.320000\n",
      "25%         8.490000\n",
      "50%        11.480000\n",
      "75%        15.310000\n",
      "max        28.990000\n",
      "         grade\n",
      "count   132677\n",
      "unique       7\n",
      "top          B\n",
      "freq     39991\n",
      "         annual_inc\n",
      "count  1.326770e+05\n",
      "mean   8.055602e+04\n",
      "std    7.782454e+04\n",
      "min    2.000000e+02\n",
      "25%    4.990000e+04\n",
      "50%    6.820000e+04\n",
      "75%    9.597812e+04\n",
      "max    9.550000e+06\n",
      "       loan_status\n",
      "count       132677\n",
      "unique           7\n",
      "top        Current\n",
      "freq         63748\n",
      "                   purpose\n",
      "count               132677\n",
      "unique                  12\n",
      "top     debt_consolidation\n",
      "freq                 76055\n",
      "                 dti\n",
      "count  132677.000000\n",
      "mean       19.553825\n",
      "std         9.970388\n",
      "min        -1.000000\n",
      "25%        12.650000\n",
      "50%        18.760000\n",
      "75%        25.770000\n",
      "max       999.000000\n",
      "         delinq_2yrs\n",
      "count  132677.000000\n",
      "mean        0.342117\n",
      "std         0.906710\n",
      "min         0.000000\n",
      "25%         0.000000\n",
      "50%         0.000000\n",
      "75%         0.000000\n",
      "max        22.000000\n",
      "       pub_rec_bankruptcies\n",
      "count         132677.000000\n",
      "mean               0.130460\n",
      "std                0.383421\n",
      "min                0.000000\n",
      "25%                0.000000\n",
      "50%                0.000000\n",
      "75%                0.000000\n",
      "max                9.000000\n",
      "            all_util\n",
      "count  132677.000000\n",
      "mean       60.618984\n",
      "std        19.929317\n",
      "min         0.000000\n",
      "25%        47.000000\n",
      "50%        62.000000\n",
      "75%        75.000000\n",
      "max       198.000000\n",
      "       num_accts_ever_120_pd\n",
      "count          132677.000000\n",
      "mean                0.516985\n",
      "std                 1.332905\n",
      "min                 0.000000\n",
      "25%                 0.000000\n",
      "50%                 0.000000\n",
      "75%                 0.000000\n",
      "max                38.000000\n",
      "       percent_bc_gt_75_mod\n",
      "count         132677.000000\n",
      "mean              44.555973\n",
      "std               36.038246\n",
      "min                0.000000\n",
      "25%               10.000000\n",
      "50%               40.000000\n",
      "75%               75.000000\n",
      "max              100.000000\n"
     ]
    }
   ],
   "source": [
    "#now we will print out descriptive statistics for selected columns to see if there is any significant effect on the \n",
    "#statistics as a result of removing all the remaining rows with NaN values. These are the stats after NaN removal:\n",
    "#let's create a sublist of the selected columns\n",
    "\n",
    "var_sublist_after = ['loan_amnt','int_rate_mod','grade','annual_inc','loan_status','purpose','dti','delinq_2yrs','pub_rec_bankruptcies',\n",
    "'all_util','num_accts_ever_120_pd','percent_bc_gt_75_mod']\n",
    "\n",
    "for col in var_sublist_after:\n",
    "    print(loan_subset[[col]].describe())\n",
    "    \n",
    "#a review of the descriptive statistics for the selected columns before and after NaN row removal reveals little change in the\n",
    "#mean,std, min, etc. measures. the only real noticeable difference is that minimum value for annual_inc is now $200 instead of 0.\n",
    "#in the context of such a large dataset that includes large income values into the millions of dollars,\n",
    "#this is an inconsequential change."
   ]
  },
  {
   "cell_type": "code",
   "execution_count": 19,
   "metadata": {
    "collapsed": false
   },
   "outputs": [
    {
     "name": "stdout",
     "output_type": "stream",
     "text": [
      "loan_amnt\n",
      "Axes(0.125,0.125;0.775x0.755)\n"
     ]
    },
    {
     "data": {
      "image/png": "[encoded data removed]",
      "text/plain": [
       "<matplotlib.figure.Figure at 0xd3a4c8ac18>"
      ]
     },
     "metadata": {},
     "output_type": "display_data"
    },
    {
     "name": "stdout",
     "output_type": "stream",
     "text": [
      "int_rate_mod\n",
      "Axes(0.125,0.125;0.775x0.755)\n"
     ]
    },
    {
     "data": {
      "image/png": "[encoded data removed]",
      "text/plain": [
       "<matplotlib.figure.Figure at 0xd3a6e615f8>"
      ]
     },
     "metadata": {},
     "output_type": "display_data"
    },
    {
     "name": "stdout",
     "output_type": "stream",
     "text": [
      "annual_inc\n",
      "Axes(0.125,0.125;0.775x0.755)\n"
     ]
    },
    {
     "data": {
      "image/png": "[encoded data removed]",
      "text/plain": [
       "<matplotlib.figure.Figure at 0xd3a4b96208>"
      ]
     },
     "metadata": {},
     "output_type": "display_data"
    },
    {
     "name": "stdout",
     "output_type": "stream",
     "text": [
      "emp_length_mod\n",
      "Axes(0.125,0.125;0.775x0.755)\n"
     ]
    },
    {
     "data": {
      "image/png": "[encoded data removed]",
      "text/plain": [
       "<matplotlib.figure.Figure at 0xd3b16567f0>"
      ]
     },
     "metadata": {},
     "output_type": "display_data"
    },
    {
     "name": "stdout",
     "output_type": "stream",
     "text": [
      "dti\n",
      "Axes(0.125,0.125;0.775x0.755)\n"
     ]
    },
    {
     "data": {
      "image/png": "[encoded data removed]",
      "text/plain": [
       "<matplotlib.figure.Figure at 0xd3b0887eb8>"
      ]
     },
     "metadata": {},
     "output_type": "display_data"
    },
    {
     "name": "stdout",
     "output_type": "stream",
     "text": [
      "delinq_2yrs\n",
      "Axes(0.125,0.125;0.775x0.755)\n"
     ]
    },
    {
     "data": {
      "image/png": "[encoded data removed]",
      "text/plain": [
       "<matplotlib.figure.Figure at 0xd3b1dcbdd8>"
      ]
     },
     "metadata": {},
     "output_type": "display_data"
    },
    {
     "name": "stdout",
     "output_type": "stream",
     "text": [
      "pub_rec_bankruptcies\n",
      "Axes(0.125,0.125;0.775x0.755)\n"
     ]
    },
    {
     "data": {
      "image/png": "[encoded data removed]",
      "text/plain": [
       "<matplotlib.figure.Figure at 0xd3a4b96160>"
      ]
     },
     "metadata": {},
     "output_type": "display_data"
    },
    {
     "name": "stdout",
     "output_type": "stream",
     "text": [
      "all_util\n",
      "Axes(0.125,0.125;0.775x0.755)\n"
     ]
    },
    {
     "data": {
      "image/png": "[encoded data removed]",
      "text/plain": [
       "<matplotlib.figure.Figure at 0xd3a6b84668>"
      ]
     },
     "metadata": {},
     "output_type": "display_data"
    },
    {
     "name": "stdout",
     "output_type": "stream",
     "text": [
      "num_accts_ever_120_pd\n",
      "Axes(0.125,0.125;0.775x0.755)\n"
     ]
    },
    {
     "data": {
      "image/png": "[encoded data removed]",
      "text/plain": [
       "<matplotlib.figure.Figure at 0xd3b1fdb710>"
      ]
     },
     "metadata": {},
     "output_type": "display_data"
    },
    {
     "name": "stdout",
     "output_type": "stream",
     "text": [
      "percent_bc_gt_75_mod\n",
      "Axes(0.125,0.125;0.775x0.755)\n"
     ]
    },
    {
     "data": {
      "image/png": "[encoded data removed]",
      "text/plain": [
       "<matplotlib.figure.Figure at 0xd3b2396a90>"
      ]
     },
     "metadata": {},
     "output_type": "display_data"
    },
    {
     "name": "stdout",
     "output_type": "stream",
     "text": [
      "num_bc_tl\n",
      "Axes(0.125,0.125;0.775x0.755)\n"
     ]
    },
    {
     "data": {
      "image/png": "[encoded data removed]",
      "text/plain": [
       "<matplotlib.figure.Figure at 0xd3b08f7358>"
      ]
     },
     "metadata": {},
     "output_type": "display_data"
    },
    {
     "name": "stdout",
     "output_type": "stream",
     "text": [
      "num_il_tl\n",
      "Axes(0.125,0.125;0.775x0.755)\n"
     ]
    },
    {
     "data": {
      "image/png": "[encoded data removed]",
      "text/plain": [
       "<matplotlib.figure.Figure at 0xd3b2943898>"
      ]
     },
     "metadata": {},
     "output_type": "display_data"
    },
    {
     "name": "stdout",
     "output_type": "stream",
     "text": [
      "num_rev_accts\n",
      "Axes(0.125,0.125;0.775x0.755)\n"
     ]
    },
    {
     "data": {
      "image/png": "[encoded data removed]",
      "text/plain": [
       "<matplotlib.figure.Figure at 0xd3b09617f0>"
      ]
     },
     "metadata": {},
     "output_type": "display_data"
    },
    {
     "name": "stdout",
     "output_type": "stream",
     "text": [
      "tax_liens\n",
      "Axes(0.125,0.125;0.775x0.755)\n"
     ]
    },
    {
     "data": {
      "image/png": "[encoded data removed]",
      "text/plain": [
       "<matplotlib.figure.Figure at 0xd3a6f439b0>"
      ]
     },
     "metadata": {},
     "output_type": "display_data"
    },
    {
     "name": "stdout",
     "output_type": "stream",
     "text": [
      "pct_tl_nvr_dlq\n",
      "Axes(0.125,0.125;0.775x0.755)\n"
     ]
    },
    {
     "data": {
      "image/png": "[encoded data removed]",
      "text/plain": [
       "<matplotlib.figure.Figure at 0xd3b17a6518>"
      ]
     },
     "metadata": {},
     "output_type": "display_data"
    },
    {
     "name": "stdout",
     "output_type": "stream",
     "text": [
      "inq_last_12m\n",
      "Axes(0.125,0.125;0.775x0.755)\n"
     ]
    },
    {
     "data": {
      "image/png": "[encoded data removed]",
      "text/plain": [
       "<matplotlib.figure.Figure at 0xd3b2955a20>"
      ]
     },
     "metadata": {},
     "output_type": "display_data"
    },
    {
     "name": "stdout",
     "output_type": "stream",
     "text": [
      "mo_sin_rcnt_tl\n",
      "Axes(0.125,0.125;0.775x0.755)\n"
     ]
    },
    {
     "data": {
      "image/png": "[encoded data removed]",
      "text/plain": [
       "<matplotlib.figure.Figure at 0xd3a6f477f0>"
      ]
     },
     "metadata": {},
     "output_type": "display_data"
    }
   ],
   "source": [
    "#let's plot histograms of all the numerical variables to inspect for possible problematic outliers\n",
    "non_categorical_vars =['loan_amnt','int_rate_mod','annual_inc','emp_length_mod','dti','delinq_2yrs','pub_rec_bankruptcies',\n",
    "'all_util','num_accts_ever_120_pd','percent_bc_gt_75_mod','num_bc_tl','num_il_tl','num_rev_accts','tax_liens','pct_tl_nvr_dlq',\n",
    "'inq_last_12m','mo_sin_rcnt_tl']\n",
    "\n",
    "\n",
    "for i in non_categorical_vars:\n",
    "    print(str(i))\n",
    "    print(loan_subset[i].plot(kind = 'hist'))\n",
    "    plt.show()\n",
    "\n",
    "#through inspection of the histograms in addition to descriptive statistics provided in the previous cell, it is\n",
    "#obvious that outliers are present for most of the variables. However, these outliers don't appear to be a result\n",
    "#of data entry error, but rather as a result of random variation. Nevertheless, these outliers are so far from the\n",
    "#other data points that are not representative of the overall pattern of the rest of the data. Let's remove/deal with \n",
    "#these outliers through the interquartile range method, log transformation, or recoding the column as a binary variable.\n",
    "                "
   ]
  },
  {
   "cell_type": "code",
   "execution_count": 60,
   "metadata": {
    "collapsed": false
   },
   "outputs": [
    {
     "name": "stdout",
     "output_type": "stream",
     "text": [
      "count    119898.000000\n",
      "mean         19.617099\n",
      "std           8.828406\n",
      "min           0.000000\n",
      "25%          12.980000\n",
      "50%          19.010000\n",
      "75%          25.840000\n",
      "max          45.440000\n",
      "Name: dti, dtype: float64\n"
     ]
    }
   ],
   "source": [
    "#dti has a negative minimum value. dti should only have positive values, as negative debt isn't logical. \n",
    "#let's remove it to avoid any future issues. let's also remove zeros in order to allow log transformation if needed later\n",
    "\n",
    "#remove negative min value \n",
    "loan_subset = loan_subset[loan_subset['dti'] >= 0 ]\n",
    "\n",
    "print(loan_subset['dti'].describe())"
   ]
  },
  {
   "cell_type": "code",
   "execution_count": 20,
   "metadata": {
    "collapsed": false
   },
   "outputs": [],
   "source": [
    "#df = loan_subset.copy()\n",
    "#IQR functions transformation on a pandas column\n",
    "import numpy as np\n",
    "def filter_iqr_outliers_mask(data, iqr_multiple=1.5):\n",
    "    # Returns an outlier mask (True==is outlier) using the IQR approach\n",
    "    q1 = np.nanpercentile(data, 25)\n",
    "    q3 = np.nanpercentile(data, 75)\n",
    "    iqr = q3 - q1\n",
    "    mask = (data >= q1 - iqr_multiple * iqr) & (q3 + iqr_multiple * iqr >= data)\n",
    "    return mask\n",
    "# Flag rows where column values is an IQR outlier\n",
    "#is_outlier_mask = filter_iqr_outliers_mask(df['column_to_analyse'])\n",
    "# Drop those rows\n",
    "#df = df[is_outlier_mask==False]\n",
    "\n",
    "mask = loan_subset['annual_inc'] == loan_subset['annual_inc'] #gives one True per row\n",
    "\n",
    "#for col in ['annual_inc', 'colname2', 'colnameN']:\n",
    "#    mask = mask & filter_iqr_outliers_mask(df[col])\n",
    " \n",
    "varlist = ['loan_amnt','int_rate_mod','annual_inc','dti','all_util','emp_length_mod','percent_bc_gt_75_mod']\n",
    "for col in varlist:\n",
    "    mask = mask & filter_iqr_outliers_mask(loan_subset[col])\n",
    "\n",
    "loan_subset = loan_subset[mask]\n",
    "\n",
    "\n",
    "#print(np.percentile(loan_subset['annual_inc'], 99))\n",
    "#np.log(loan_subset[['annual_inc']]).describe() \n",
    "#np.log(loan_subset[['annual_inc']]).hist()\n",
    "\n",
    "#lc = loan_subset.copy()\n",
    "#is_outlier_mask = filter_iqr_outliers_mask(lc['int_rate'])\n",
    "\n",
    "#lc = lc[is_outlier_mask==True]\n",
    "\n",
    "#print(lc[is_outlier_mask==True])"
   ]
  },
  {
   "cell_type": "code",
   "execution_count": 21,
   "metadata": {
    "collapsed": false
   },
   "outputs": [
    {
     "name": "stdout",
     "output_type": "stream",
     "text": [
      "loan_amnt\n",
      "Axes(0.125,0.125;0.775x0.755)\n"
     ]
    },
    {
     "data": {
      "image/png": "[encoded data removed]",
      "text/plain": [
       "<matplotlib.figure.Figure at 0xd3a6e7a828>"
      ]
     },
     "metadata": {},
     "output_type": "display_data"
    },
    {
     "name": "stdout",
     "output_type": "stream",
     "text": [
      "int_rate_mod\n",
      "Axes(0.125,0.125;0.775x0.755)\n"
     ]
    },
    {
     "data": {
      "image/png": "[encoded data removed]",
      "text/plain": [
       "<matplotlib.figure.Figure at 0xd3a4ed1d30>"
      ]
     },
     "metadata": {},
     "output_type": "display_data"
    },
    {
     "name": "stdout",
     "output_type": "stream",
     "text": [
      "annual_inc\n",
      "Axes(0.125,0.125;0.775x0.755)\n"
     ]
    },
    {
     "data": {
      "image/png": "[encoded data removed]",
      "text/plain": [
       "<matplotlib.figure.Figure at 0xd3a6fa2e80>"
      ]
     },
     "metadata": {},
     "output_type": "display_data"
    },
    {
     "name": "stdout",
     "output_type": "stream",
     "text": [
      "dti\n",
      "Axes(0.125,0.125;0.775x0.755)\n"
     ]
    },
    {
     "data": {
      "image/png": "[encoded data removed]",
      "text/plain": [
       "<matplotlib.figure.Figure at 0xd3a4eca710>"
      ]
     },
     "metadata": {},
     "output_type": "display_data"
    },
    {
     "name": "stdout",
     "output_type": "stream",
     "text": [
      "all_util\n",
      "Axes(0.125,0.125;0.775x0.755)\n"
     ]
    },
    {
     "data": {
      "image/png": "[encoded data removed]",
      "text/plain": [
       "<matplotlib.figure.Figure at 0xd3a59531d0>"
      ]
     },
     "metadata": {},
     "output_type": "display_data"
    },
    {
     "name": "stdout",
     "output_type": "stream",
     "text": [
      "emp_length_mod\n",
      "Axes(0.125,0.125;0.775x0.755)\n"
     ]
    },
    {
     "data": {
      "image/png": "[encoded data removed]",
      "text/plain": [
       "<matplotlib.figure.Figure at 0xd3b162e0f0>"
      ]
     },
     "metadata": {},
     "output_type": "display_data"
    },
    {
     "name": "stdout",
     "output_type": "stream",
     "text": [
      "percent_bc_gt_75_mod\n",
      "Axes(0.125,0.125;0.775x0.755)\n"
     ]
    },
    {
     "data": {
      "image/png": "[encoded data removed]",
      "text/plain": [
       "<matplotlib.figure.Figure at 0xd3b0950ef0>"
      ]
     },
     "metadata": {},
     "output_type": "display_data"
    }
   ],
   "source": [
    "#log transform int_rate_mod\n",
    "loan_subset['int_rate_mod'] = np.log(loan_subset['int_rate_mod'])\n",
    "\n",
    "for i in varlist:\n",
    "    print(str(i))\n",
    "    print(loan_subset[i].plot(kind = 'hist'))\n",
    "    plt.show()"
   ]
  },
  {
   "cell_type": "code",
   "execution_count": 55,
   "metadata": {
    "collapsed": false
   },
   "outputs": [],
   "source": [
    "#recode the following variables as binary (0 = False, 1 = True)\n",
    "#if you need to convert true/false explicitly to 0 or 1: df[col].astype(int)\n",
    "loan_subset['delinq_2yrs_ever'] = loan_subset['delinq_2yrs'] > 0 #turn column into boolean series (ever been delinquent = 1 or not = 0)\n",
    "loan_subset['bankruptcies_any'] = loan_subset['pub_rec_bankruptcies'] > 0 #turn column into boolean series (ever gone bankrupt = 1 or not = 0)\n",
    "loan_subset['accts_ever_120_pd_any'] = loan_subset['num_accts_ever_120_pd'] > 0 #turn column into boolean series (any delinquent accts = 1 or none = 0)\n",
    "loan_subset['tax_liens_any'] = loan_subset['tax_liens'] > 0 #turn column into boolean series (any tax liens = 1 or none = 0)\n",
    "\n",
    "#loan_subset.drop(['delinq_2yrs','pub_rec_bankruptcies','num_accts_ever_120_pd','tax_liens'],inplace=True, axis=1)"
   ]
  },
  {
   "cell_type": "code",
   "execution_count": 48,
   "metadata": {
    "collapsed": false
   },
   "outputs": [
    {
     "name": "stdout",
     "output_type": "stream",
     "text": [
      "Current               59103\n",
      "Fully Paid            44631\n",
      "Charged Off           16160\n",
      "Late (31-120 days)     1745\n",
      "In Grace Period         841\n",
      "Late (16-30 days)       402\n",
      "Default                   5\n",
      "Name: loan_status_mod, dtype: int64\n",
      "\n",
      "Non-Default    103734\n",
      "Default         16165\n",
      "Name: loan_status_mod, dtype: int64\n"
     ]
    }
   ],
   "source": [
    "#Let's recode loan_status as binary (Non-Default, Default). Current and Fully Paid are relabeled 'Non-Default'.\n",
    "#Charged Off and Default are relabeled 'Default'. In Grace Period, Late (31-120 days) and Late (16-30 days) are dropped\n",
    "#because they're aren't necessarily indicative of default or non-default and only add up to 2988 rows.\n",
    "\n",
    "loan_subset['loan_status_mod'] = loan_subset['loan_status']\n",
    "\n",
    "loan_subset = loan_subset[np.logical_and(loan_subset['loan_status_mod']!='Late (31-120 days)',loan_subset['loan_status_mod']!='Late (16-30 days)')]\n",
    "loan_subset = loan_subset[loan_subset['loan_status_mod']!='In Grace Period']\n",
    "\n",
    "loan_subset.loc[np.logical_or(loan_subset['loan_status_mod'] == 'Current', loan_subset['loan_status_mod'] == 'Fully Paid'), 'loan_status_mod'] = 'Non-Default'\n",
    "loan_subset.loc[np.logical_or(loan_subset['loan_status_mod'] == 'Charged Off', loan_subset['loan_status_mod'] == 'Default'), 'loan_status_mod'] = 'Default'\n",
    "\n"
   ]
  },
  {
   "cell_type": "code",
   "execution_count": null,
   "metadata": {
    "collapsed": false
   },
   "outputs": [],
   "source": [
    "#recode verification status as binary (Not Verified, Verified). Source Verified will be relabeled Verified\n",
    "loan_subset['verification_status_mod'] = loan_subset['verification_status']\n",
    "loan_subset['verification_status'].value_counts()\n",
    "loan_subset.loc[loan_subset['verification_status_mod'] == 'Source Verified', 'verification_status_mod'] = 'Verified'\n"
   ]
  },
  {
   "cell_type": "code",
   "execution_count": 56,
   "metadata": {
    "collapsed": false
   },
   "outputs": [
    {
     "name": "stdout",
     "output_type": "stream",
     "text": [
      "grade\n",
      "Axes(0.125,0.125;0.775x0.755)\n"
     ]
    },
    {
     "data": {
      "image/png": "[encoded data removed]",
      "text/plain": [
       "<matplotlib.figure.Figure at 0xd3a58d77b8>"
      ]
     },
     "metadata": {},
     "output_type": "display_data"
    },
    {
     "name": "stdout",
     "output_type": "stream",
     "text": [
      "home_ownership\n",
      "Axes(0.125,0.125;0.775x0.755)\n"
     ]
    },
    {
     "data": {
      "image/png": "[encoded data removed]",
      "text/plain": [
       "<matplotlib.figure.Figure at 0xd3b1a30080>"
      ]
     },
     "metadata": {},
     "output_type": "display_data"
    },
    {
     "name": "stdout",
     "output_type": "stream",
     "text": [
      "loan_status_mod\n",
      "Axes(0.125,0.125;0.775x0.755)\n"
     ]
    },
    {
     "data": {
      "image/png": "[encoded data removed]",
      "text/plain": [
       "<matplotlib.figure.Figure at 0xd3b08e56d8>"
      ]
     },
     "metadata": {},
     "output_type": "display_data"
    },
    {
     "name": "stdout",
     "output_type": "stream",
     "text": [
      "purpose\n",
      "Axes(0.125,0.125;0.775x0.755)\n"
     ]
    },
    {
     "data": {
      "image/png": "[encoded data removed]",
      "text/plain": [
       "<matplotlib.figure.Figure at 0xd3a58db4a8>"
      ]
     },
     "metadata": {},
     "output_type": "display_data"
    },
    {
     "name": "stdout",
     "output_type": "stream",
     "text": [
      "verification_status_mod\n",
      "Axes(0.125,0.125;0.775x0.755)\n"
     ]
    },
    {
     "data": {
      "image/png": "[encoded data removed]",
      "text/plain": [
       "<matplotlib.figure.Figure at 0xd3a58db518>"
      ]
     },
     "metadata": {},
     "output_type": "display_data"
    },
    {
     "name": "stdout",
     "output_type": "stream",
     "text": [
      "addr_state\n",
      "Axes(0.125,0.125;0.775x0.755)\n"
     ]
    },
    {
     "data": {
      "image/png": "[encoded data removed]",
      "text/plain": [
       "<matplotlib.figure.Figure at 0xd3b1782be0>"
      ]
     },
     "metadata": {},
     "output_type": "display_data"
    },
    {
     "name": "stdout",
     "output_type": "stream",
     "text": [
      "tax_liens_any\n",
      "Axes(0.125,0.125;0.775x0.755)\n"
     ]
    },
    {
     "data": {
      "image/png": "[encoded data removed]",
      "text/plain": [
       "<matplotlib.figure.Figure at 0xd3b08e47b8>"
      ]
     },
     "metadata": {},
     "output_type": "display_data"
    },
    {
     "name": "stdout",
     "output_type": "stream",
     "text": [
      "accts_ever_120_pd_any\n",
      "Axes(0.125,0.125;0.775x0.755)\n"
     ]
    },
    {
     "data": {
      "image/png": "[encoded data removed]",
      "text/plain": [
       "<matplotlib.figure.Figure at 0xd3b1614e10>"
      ]
     },
     "metadata": {},
     "output_type": "display_data"
    },
    {
     "name": "stdout",
     "output_type": "stream",
     "text": [
      "delinq_2yrs_ever\n",
      "Axes(0.125,0.125;0.775x0.755)\n"
     ]
    },
    {
     "data": {
      "image/png": "[encoded data removed]",
      "text/plain": [
       "<matplotlib.figure.Figure at 0xd3a5bfd0b8>"
      ]
     },
     "metadata": {},
     "output_type": "display_data"
    },
    {
     "name": "stdout",
     "output_type": "stream",
     "text": [
      "bankruptcies_any\n",
      "Axes(0.125,0.125;0.775x0.755)\n"
     ]
    },
    {
     "data": {
      "image/png": "[encoded data removed]",
      "text/plain": [
       "<matplotlib.figure.Figure at 0xd3b03b66a0>"
      ]
     },
     "metadata": {},
     "output_type": "display_data"
    },
    {
     "name": "stdout",
     "output_type": "stream",
     "text": [
      "CA    16236\n",
      "TX    10229\n",
      "NY     9249\n",
      "FL     8481\n",
      "IL     4824\n",
      "OH     4232\n",
      "NJ     4206\n",
      "GA     3879\n",
      "PA     3749\n",
      "NC     3489\n",
      "MI     3202\n",
      "VA     3180\n",
      "AZ     2883\n",
      "MA     2695\n",
      "MD     2540\n",
      "CO     2504\n",
      "WA     2430\n",
      "MN     2150\n",
      "IN     2093\n",
      "TN     2062\n",
      "MO     2017\n",
      "NV     1762\n",
      "CT     1748\n",
      "WI     1678\n",
      "SC     1525\n",
      "AL     1449\n",
      "OR     1433\n",
      "LA     1416\n",
      "OK     1219\n",
      "KY     1189\n",
      "KS     1052\n",
      "AR      914\n",
      "MS      807\n",
      "UT      774\n",
      "NM      715\n",
      "NH      608\n",
      "NE      580\n",
      "HI      563\n",
      "RI      509\n",
      "ME      492\n",
      "WV      416\n",
      "MT      353\n",
      "DE      343\n",
      "ND      328\n",
      "AK      315\n",
      "ID      315\n",
      "WY      281\n",
      "SD      271\n",
      "VT      270\n",
      "DC      244\n",
      "Name: addr_state, dtype: int64\n"
     ]
    }
   ],
   "source": [
    "#now we'll plot all the categorical variables, except zip_code    \n",
    "\n",
    "categorical_vars = ['grade', 'home_ownership','loan_status_mod','purpose','verification_status_mod','addr_state','tax_liens_any',\n",
    "'accts_ever_120_pd_any','delinq_2yrs_ever','bankruptcies_any']\n",
    "\n",
    "for v in categorical_vars:\n",
    "    print(str(v))\n",
    "    print(loan_subset[v].value_counts().plot(kind = 'bar'))\n",
    "    plt.show()                   \n",
    "\n",
    "print(loan_subset['addr_state'].value_counts())\n"
   ]
  },
  {
   "cell_type": "code",
   "execution_count": 62,
   "metadata": {
    "collapsed": false
   },
   "outputs": [
    {
     "name": "stdout",
     "output_type": "stream",
     "text": [
      "loan_amnt\n",
      "Axes(0.125,0.125;0.775x0.755)\n"
     ]
    },
    {
     "data": {
      "image/png": "[encoded data removed]",
      "text/plain": [
       "<matplotlib.figure.Figure at 0xd3a5d32048>"
      ]
     },
     "metadata": {},
     "output_type": "display_data"
    },
    {
     "name": "stdout",
     "output_type": "stream",
     "text": [
      "int_rate_mod\n",
      "Axes(0.125,0.125;0.775x0.755)\n"
     ]
    },
    {
     "data": {
      "image/png": "[encoded data removed]",
      "text/plain": [
       "<matplotlib.figure.Figure at 0xd3a4e31d68>"
      ]
     },
     "metadata": {},
     "output_type": "display_data"
    },
    {
     "name": "stdout",
     "output_type": "stream",
     "text": [
      "annual_inc\n",
      "Axes(0.125,0.125;0.775x0.755)\n"
     ]
    },
    {
     "data": {
      "image/png": "[encoded data removed]",
      "text/plain": [
       "<matplotlib.figure.Figure at 0xd3a59b6128>"
      ]
     },
     "metadata": {},
     "output_type": "display_data"
    },
    {
     "name": "stdout",
     "output_type": "stream",
     "text": [
      "emp_length_mod\n",
      "Axes(0.125,0.125;0.775x0.755)\n"
     ]
    },
    {
     "data": {
      "image/png": "[encoded data removed]",
      "text/plain": [
       "<matplotlib.figure.Figure at 0xd3a5df6438>"
      ]
     },
     "metadata": {},
     "output_type": "display_data"
    },
    {
     "name": "stdout",
     "output_type": "stream",
     "text": [
      "dti\n",
      "Axes(0.125,0.125;0.775x0.755)\n"
     ]
    },
    {
     "data": {
      "image/png": "[encoded data removed]",
      "text/plain": [
       "<matplotlib.figure.Figure at 0xd3a61a9978>"
      ]
     },
     "metadata": {},
     "output_type": "display_data"
    },
    {
     "name": "stdout",
     "output_type": "stream",
     "text": [
      "all_util\n",
      "Axes(0.125,0.125;0.775x0.755)\n"
     ]
    },
    {
     "data": {
      "image/png": "[encoded data removed]",
      "text/plain": [
       "<matplotlib.figure.Figure at 0xd3a4cfa518>"
      ]
     },
     "metadata": {},
     "output_type": "display_data"
    },
    {
     "name": "stdout",
     "output_type": "stream",
     "text": [
      "percent_bc_gt_75_mod\n",
      "Axes(0.125,0.125;0.775x0.755)\n"
     ]
    },
    {
     "data": {
      "image/png": "[encoded data removed]",
      "text/plain": [
       "<matplotlib.figure.Figure at 0xd3a6ed86a0>"
      ]
     },
     "metadata": {},
     "output_type": "display_data"
    },
    {
     "name": "stdout",
     "output_type": "stream",
     "text": [
      "num_bc_tl\n",
      "Axes(0.125,0.125;0.775x0.755)\n"
     ]
    },
    {
     "data": {
      "image/png": "[encoded data removed]",
      "text/plain": [
       "<matplotlib.figure.Figure at 0xd3a5d6efd0>"
      ]
     },
     "metadata": {},
     "output_type": "display_data"
    },
    {
     "name": "stdout",
     "output_type": "stream",
     "text": [
      "num_il_tl\n",
      "Axes(0.125,0.125;0.775x0.755)\n"
     ]
    },
    {
     "data": {
      "image/png": "[encoded data removed]",
      "text/plain": [
       "<matplotlib.figure.Figure at 0xd3a4fb3080>"
      ]
     },
     "metadata": {},
     "output_type": "display_data"
    },
    {
     "name": "stdout",
     "output_type": "stream",
     "text": [
      "num_rev_accts\n",
      "Axes(0.125,0.125;0.775x0.755)\n"
     ]
    },
    {
     "data": {
      "image/png": "[encoded data removed]",
      "text/plain": [
       "<matplotlib.figure.Figure at 0xd3a4fb3908>"
      ]
     },
     "metadata": {},
     "output_type": "display_data"
    },
    {
     "name": "stdout",
     "output_type": "stream",
     "text": [
      "pct_tl_nvr_dlq\n",
      "Axes(0.125,0.125;0.775x0.755)\n"
     ]
    },
    {
     "data": {
      "image/png": "[encoded data removed]",
      "text/plain": [
       "<matplotlib.figure.Figure at 0xd3a5d315c0>"
      ]
     },
     "metadata": {},
     "output_type": "display_data"
    },
    {
     "name": "stdout",
     "output_type": "stream",
     "text": [
      "inq_last_12m\n",
      "Axes(0.125,0.125;0.775x0.755)\n"
     ]
    },
    {
     "data": {
      "image/png": "[encoded data removed]",
      "text/plain": [
       "<matplotlib.figure.Figure at 0xd3b1ddd8d0>"
      ]
     },
     "metadata": {},
     "output_type": "display_data"
    },
    {
     "name": "stdout",
     "output_type": "stream",
     "text": [
      "mo_sin_rcnt_tl\n",
      "Axes(0.125,0.125;0.775x0.755)\n"
     ]
    },
    {
     "data": {
      "image/png": "[encoded data removed]",
      "text/plain": [
       "<matplotlib.figure.Figure at 0xd3b1614470>"
      ]
     },
     "metadata": {},
     "output_type": "display_data"
    }
   ],
   "source": [
    "numerical_vars_final = ['loan_amnt','int_rate_mod','annual_inc','emp_length_mod','dti',\n",
    "'all_util','percent_bc_gt_75_mod','num_bc_tl','num_il_tl','num_rev_accts','pct_tl_nvr_dlq',\n",
    "'inq_last_12m','mo_sin_rcnt_tl']\n",
    "\n",
    "for i in numerical_vars_final:\n",
    "    print(str(i))\n",
    "    print(loan_subset[i].plot(kind = 'hist'))\n",
    "    plt.show()\n"
   ]
  },
  {
   "cell_type": "code",
   "execution_count": 43,
   "metadata": {
    "collapsed": false
   },
   "outputs": [
    {
     "name": "stdout",
     "output_type": "stream",
     "text": [
      "       zip_code          region\n",
      "0             3       Southeast\n",
      "1             1       Northeast\n",
      "2             1       Northeast\n",
      "3             6         Midwest\n",
      "4             9            West\n",
      "5             2  South Atlantic\n",
      "6             4         Midwest\n",
      "7             3       Southeast\n",
      "8             7       Southwest\n",
      "9             3       Southeast\n",
      "10            9            West\n",
      "11            2  South Atlantic\n",
      "12            9            West\n",
      "13            5         Midwest\n",
      "14            4         Midwest\n",
      "15            0       Northeast\n",
      "16            9            West\n",
      "17            6         Midwest\n",
      "18            9            West\n",
      "20            0       Northeast\n",
      "21            9            West\n",
      "22            9            West\n",
      "23            9            West\n",
      "24            3       Southeast\n",
      "25            9            West\n",
      "26            3       Southeast\n",
      "27            7       Southwest\n",
      "28            1       Northeast\n",
      "29            3       Southeast\n",
      "30            5         Midwest\n",
      "...         ...             ...\n",
      "133801        8        Mountain\n",
      "133802        2  South Atlantic\n",
      "133803        0       Northeast\n",
      "133804        4         Midwest\n",
      "133805        3       Southeast\n",
      "133806        9            West\n",
      "133807        4         Midwest\n",
      "133808        7       Southwest\n",
      "133809        7       Southwest\n",
      "133810        7       Southwest\n",
      "133811        0       Northeast\n",
      "133812        2  South Atlantic\n",
      "133813        1       Northeast\n",
      "133814        4         Midwest\n",
      "133815        2  South Atlantic\n",
      "133816        8        Mountain\n",
      "133817        2  South Atlantic\n",
      "133818        9            West\n",
      "133819        0       Northeast\n",
      "133820        8        Mountain\n",
      "133821        9            West\n",
      "133822        8        Mountain\n",
      "133823        0       Northeast\n",
      "133825        5         Midwest\n",
      "133828        0       Northeast\n",
      "133829        4         Midwest\n",
      "133830        4         Midwest\n",
      "133831        1       Northeast\n",
      "133832        1       Northeast\n",
      "133843        3       Southeast\n",
      "\n",
      "[132918 rows x 2 columns]\n"
     ]
    }
   ],
   "source": [
    "# We will group zip_code into sectional center facility (scf) categories by the first three digits\n",
    "#This zip_code mapping will be performed later in the course, probably near the end.\n",
    "# Here are the scfs according to the first three digits of the zip code (given by wikipedia):\n",
    "#For zip_code, the first three digits correspond to a sectional center facility (scf) which in turn corresponds to a U.S. metropolitan area or sub-region of a state (e.g. Dallas, San Francisco, Northern Vermont, etc.) I obtained an excel file\n",
    "#with these three-digit codes and their corresponding scfs; I wrote some code to extract the three-digit codes from each row\n",
    "#In zip_code, then mapped the geographical areas from the excel file to the zip_code column according to their three-digit code. This relabeling of zip_code from digits to sub-regions will allow for a more in-depth analysis by geographical area than just\n",
    "#using the addr_state column.\n",
    "\n",
    "\n",
    "#####PUT CODE HERE LATER#####\n",
    "\n",
    "\n",
    "\n",
    "#####THIS CODE WAS FOR REGIONAL GROUPING. PERHAPS WE CAN MODIFY THIS CODE TO GROUP BY SCF#####\n",
    "\n",
    "# 0 = Connecticut (CT), Massachusetts (MA), Maine (ME), New Hampshire (NH), New Jersey (NJ), New York (NY, Fishers Island only),\n",
    "# Puerto Rico (PR), Rhode Island (RI), Vermont (VT), Virgin Islands (VI), Army Post Office Europe (AE), \n",
    "# Fleet Post Office Europe (AE)\n",
    "\n",
    "# 1 = Delaware (DE), New York (NY), Pennsylvania (PA)\n",
    "\n",
    "# 2 = District of Columbia (DC), Maryland (MD), North Carolina (NC), South Carolina (SC), Virginia (VA), West Virginia (WV)\n",
    "\n",
    "# 3 = Alabama (AL), Florida (FL), Georgia (GA), Mississippi (MS), Tennessee (TN), Army Post Office Americas (AA), \n",
    "# Fleet Post Office Americas (AA)\n",
    "\n",
    "#4 = Indiana (IN), Kentucky (KY), Michigan (MI), Ohio (OH)\n",
    "\n",
    "#5 = Iowa (IA), Minnesota (MN), Montana (MT), North Dakota (ND), South Dakota (SD), Wisconsin (WI) \n",
    "\n",
    "#6 = Illinois (IL), Kansas (KS), Missouri (MO), Nebraska (NE)\n",
    "\n",
    "#7 = Arkansas (AR), Louisiana (LA), Oklahoma (OK), Texas (TX)\n",
    "\n",
    "#8 = Arizona (AZ), Colorado (CO), Idaho (ID), New Mexico (NM), Nevada (NV), Utah (UT), Wyoming (WY)\n",
    "\n",
    "#9 = Alaska (AK), American Samoa (AS), California (CA), Guam (GU), Hawaii (HI), Marshall Islands (MH), \n",
    "#Federated States of Micronesia (FM), Northern Mariana Islands (MP), Oregon (OR), Palau (PW), Washington (WA), \n",
    "#Army Post Office Pacific (AP), Fleet Post Office Pacific (AP)\n",
    "\n",
    "# The states in each group are generally in the same region of the country, so let's reassign each digit according to region\n",
    "# some digits will overlap with respect to region, so multiple digits will have the same region.\n",
    "\n",
    "# 0 = 'Northeast', 1 = 'Northeast', 2 = 'South Atlantic', 3 = 'Southeast', 4 = 'Midwest', 5 = 'Midwest'\n",
    "# 6 = 'Midwest', 7 = 'Southwest', 8 = 'Mountain', 9 = 'West'\n",
    "\n",
    "regions = {0:'Northeast', 1: 'Northeast', 2:'South Atlantic', 3:'Southeast', 4:'Midwest', \n",
    "           5:'Midwest', 6:'Midwest', 7:'Southwest', 8:'Mountain', 9:'West'}\n",
    "\n",
    "\n",
    "loancopy = loan_subset.copy()\n",
    "loancopy['zip_code'] = loancopy['zip_code'].str[:1] # this is equivalent: loancopy['zip_code'] = loancopy['zip_code'].str[0]\n",
    "\n",
    "\n",
    "loancopy['region'] = loancopy.zip_code.apply(lambda z: regions[int(z[0])]) #modify this to z[:3]\n",
    "\n",
    "\n",
    "print(loancopy.loc[:,['zip_code','region.head())\n",
    "\n",
    "                      \n",
    "#see if you can find a .csv file that contains three-digit zip code number in one column and associated metro area in another column\n"
   ]
  },
  {
   "cell_type": "code",
   "execution_count": null,
   "metadata": {
    "collapsed": false
   },
   "outputs": [],
   "source": []
  },
  {
   "cell_type": "code",
   "execution_count": 63,
   "metadata": {
    "collapsed": false
   },
   "outputs": [
    {
     "name": "stdout",
     "output_type": "stream",
     "text": [
      "Purpose of Loans\n",
      "debt_consolidation    68960\n",
      "credit_card           29360\n",
      "home_improvement       7297\n",
      "other                  6253\n",
      "major_purchase         2575\n",
      "medical                1308\n",
      "car                    1193\n",
      "small_business         1096\n",
      "moving                  681\n",
      "vacation                656\n",
      "house                   445\n",
      "renewable_energy         74\n",
      "Name: purpose, dtype: int64\n",
      "Axes(0.125,0.125;0.775x0.755)\n"
     ]
    },
    {
     "data": {
      "image/png": "[encoded data removed]",
      "text/plain": [
       "<matplotlib.figure.Figure at 0xd3a4bd1a58>"
      ]
     },
     "metadata": {},
     "output_type": "display_data"
    },
    {
     "name": "stdout",
     "output_type": "stream",
     "text": [
      "Loan Grade\n",
      "B    36958\n",
      "C    33491\n",
      "A    23699\n",
      "D    14847\n",
      "E     8534\n",
      "F     2368\n",
      "G        1\n",
      "Name: grade, dtype: int64\n",
      "Axes(0.125,0.125;0.775x0.755)\n"
     ]
    },
    {
     "data": {
      "image/png": "[encoded data removed]",
      "text/plain": [
       "<matplotlib.figure.Figure at 0xd3b278b7f0>"
      ]
     },
     "metadata": {},
     "output_type": "display_data"
    },
    {
     "name": "stdout",
     "output_type": "stream",
     "text": [
      "Years of Employment\n",
      "10    41236\n",
      "1     16925\n",
      "2     10652\n",
      "3      9588\n",
      "0      8191\n",
      "5      7197\n",
      "4      6958\n",
      "8      5713\n",
      "6      4764\n",
      "9      4723\n",
      "7      3951\n",
      "Name: emp_length_mod, dtype: int64\n",
      "Axes(0.125,0.125;0.775x0.755)\n"
     ]
    },
    {
     "data": {
      "image/png": "[encoded data removed]",
      "text/plain": [
       "<matplotlib.figure.Figure at 0xd3b2786a20>"
      ]
     },
     "metadata": {},
     "output_type": "display_data"
    },
    {
     "name": "stdout",
     "output_type": "stream",
     "text": [
      "Living Arrangement\n",
      "MORTGAGE    58996\n",
      "RENT        46439\n",
      "OWN         14463\n",
      "Name: home_ownership, dtype: int64\n",
      "Axes(0.125,0.125;0.775x0.755)\n"
     ]
    },
    {
     "data": {
      "image/png": "[encoded data removed]",
      "text/plain": [
       "<matplotlib.figure.Figure at 0xd3a4e43898>"
      ]
     },
     "metadata": {},
     "output_type": "display_data"
    },
    {
     "name": "stdout",
     "output_type": "stream",
     "text": [
      "Verification Status\n",
      "Verified        75964\n",
      "Not Verified    43934\n",
      "Name: verification_status_mod, dtype: int64\n",
      "Axes(0.125,0.125;0.775x0.755)\n"
     ]
    },
    {
     "data": {
      "image/png": "[encoded data removed]",
      "text/plain": [
       "<matplotlib.figure.Figure at 0xd3b03bd4a8>"
      ]
     },
     "metadata": {},
     "output_type": "display_data"
    },
    {
     "name": "stdout",
     "output_type": "stream",
     "text": [
      "Loan Status\n",
      "Non-Default    103733\n",
      "Default         16165\n",
      "Name: loan_status_mod, dtype: int64\n",
      "Axes(0.125,0.125;0.775x0.755)\n"
     ]
    },
    {
     "data": {
      "image/png": "[encoded data removed]",
      "text/plain": [
       "<matplotlib.figure.Figure at 0xd3b1ddd048>"
      ]
     },
     "metadata": {},
     "output_type": "display_data"
    }
   ],
   "source": [
    "#let's find out the different loan purposes. let's put this code into a function so that we can do multiple plots quickly\n",
    "print(\"Purpose of Loans\")\n",
    "print(loan_subset['purpose'].value_counts())\n",
    "print(loan_subset['purpose'].value_counts().plot(kind = 'bar', color = 'blue'))\n",
    "plt.show()\n",
    "#it appears that the vast majority of loans are taken out for debt consolidation\n",
    "\n",
    "\n",
    "print(\"Loan Grade\")\n",
    "print(loan_subset['grade'].value_counts())\n",
    "print(loan_subset['grade'].value_counts().plot(kind = 'bar', color = 'green'))\n",
    "plt.show()\n",
    "\n",
    "print(\"Years of Employment\")\n",
    "print(loan_subset['emp_length_mod'].value_counts())\n",
    "print(loan_subset['emp_length_mod'].value_counts().plot(kind = 'bar', color = 'red'))\n",
    "plt.show()\n",
    "\n",
    "\n",
    "print(\"Living Arrangement\")\n",
    "print(loan_subset['home_ownership'].value_counts())\n",
    "print(loan_subset['home_ownership'].value_counts().plot(kind = 'bar', color = 'silver'))\n",
    "plt.show()\n",
    "\n",
    "print(\"Verification Status\")\n",
    "print(loan_subset['verification_status_mod'].value_counts())\n",
    "print(loan_subset['verification_status_mod'].value_counts().plot(kind = 'bar', color = 'black'))\n",
    "plt.show()\n",
    "\n",
    "\n",
    "print(\"Loan Status\")\n",
    "print(loan_subset['loan_status_mod'].value_counts())\n",
    "print(loan_subset['loan_status_mod'].value_counts().plot(kind = 'bar', color = 'purple'))\n",
    "plt.show()"
   ]
  },
  {
   "cell_type": "code",
   "execution_count": 64,
   "metadata": {
    "collapsed": true
   },
   "outputs": [],
   "source": [
    "#write loan_subset dataframe to a new csv file so that I can access this cleaned up dataframe for future exercises.\n",
    "loan_subset.to_csv('loan_subset_q1.csv') \n",
    "\n",
    "#I need to write code to remove the index of the dataframe so that it doesn't show up in the new dataframe as an extra column\n"
   ]
  }
 ],
 "metadata": {
  "kernelspec": {
   "display_name": "Python 3",
   "language": "python",
   "name": "python3"
  },
  "language_info": {
   "codemirror_mode": {
    "name": "ipython",
    "version": 3
   },
   "file_extension": ".py",
   "mimetype": "text/x-python",
   "name": "python",
   "nbconvert_exporter": "python",
   "pygments_lexer": "ipython3",
   "version": "3.6.0"
  }
 },
 "nbformat": 4,
 "nbformat_minor": 2
}
